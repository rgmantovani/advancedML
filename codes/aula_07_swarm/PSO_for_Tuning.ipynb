{
  "nbformat": 4,
  "nbformat_minor": 0,
  "metadata": {
    "colab": {
      "name": "PSO_for_Tuning.ipynb",
      "provenance": [],
      "collapsed_sections": [],
      "include_colab_link": true
    },
    "kernelspec": {
      "name": "python3",
      "display_name": "Python 3"
    },
    "language_info": {
      "name": "python"
    }
  },
  "cells": [
    {
      "cell_type": "markdown",
      "metadata": {
        "id": "view-in-github",
        "colab_type": "text"
      },
      "source": [
        "<a href=\"https://colab.research.google.com/github/rgmantovani/advancedML/blob/master/codes/aula_07_swarm/PSO_for_Tuning.ipynb\" target=\"_parent\"><img src=\"https://colab.research.google.com/assets/colab-badge.svg\" alt=\"Open In Colab\"/></a>"
      ]
    },
    {
      "cell_type": "markdown",
      "metadata": {
        "id": "c5fGkH9KsAcJ"
      },
      "source": [
        "# Uso de PSO para ML\n",
        "\n",
        "Disciplina: Métodos e Modelos Avançados em Ciência de Dados\n",
        "\n",
        "Especialização em Ciência de Dados - Universidade Tecnologica Federal do Paraná\n",
        "\n",
        "**Aula 07:** Inteligência de Enxames (Swarm Intelligence)\n",
        "\n",
        "**Exemplo 01:** Ajuste de hiperparâmetros de SVM usando PSO\n",
        "\n",
        "by: Rafael G. Mantovani\n",
        "\n",
        "---"
      ]
    },
    {
      "cell_type": "code",
      "metadata": {
        "id": "6coi-x3Op4P0"
      },
      "source": [
        "# Example baseado em:\n",
        "# https://pyswarms.readthedocs.io/en/latest/examples/usecases/train_neural_network.html\n",
        "\n",
        "# Para funcionamento completo do exemplo, precisaremos de duas bibliotecas do python\n",
        "# pyswarms = implementa Particle Swarm Opitmizatin (PSO)\n",
        "# openml   = implementa interface com OpenML, e usaremos para baixar datasets"
      ],
      "execution_count": 169,
      "outputs": []
    },
    {
      "cell_type": "markdown",
      "metadata": {
        "id": "aBp6hSyNvpuY"
      },
      "source": [
        "---\n",
        "# 1. Instruções iniciais\n",
        "Primeiramente, realizamos a instalação das bibliotecas necessárias (pyswarms, openml). Isso é feito via comando 'pip'. Os dois comandos abaixo, fazem a instalam amabas as bibliotecas."
      ]
    },
    {
      "cell_type": "code",
      "metadata": {
        "colab": {
          "base_uri": "https://localhost:8080/"
        },
        "id": "e0XjTJc5eRJH",
        "outputId": "096b5654-6441-48ce-d5c4-93b64cce1f69"
      },
      "source": [
        "pip install pyswarms"
      ],
      "execution_count": 170,
      "outputs": [
        {
          "output_type": "stream",
          "text": [
            "Requirement already satisfied: pyswarms in /usr/local/lib/python3.7/dist-packages (1.3.0)\n",
            "Requirement already satisfied: pyyaml in /usr/local/lib/python3.7/dist-packages (from pyswarms) (3.13)\n",
            "Requirement already satisfied: future in /usr/local/lib/python3.7/dist-packages (from pyswarms) (0.16.0)\n",
            "Requirement already satisfied: numpy in /usr/local/lib/python3.7/dist-packages (from pyswarms) (1.19.5)\n",
            "Requirement already satisfied: matplotlib>=1.3.1 in /usr/local/lib/python3.7/dist-packages (from pyswarms) (3.2.2)\n",
            "Requirement already satisfied: tqdm in /usr/local/lib/python3.7/dist-packages (from pyswarms) (4.41.1)\n",
            "Requirement already satisfied: attrs in /usr/local/lib/python3.7/dist-packages (from pyswarms) (20.3.0)\n",
            "Requirement already satisfied: scipy in /usr/local/lib/python3.7/dist-packages (from pyswarms) (1.4.1)\n",
            "Requirement already satisfied: kiwisolver>=1.0.1 in /usr/local/lib/python3.7/dist-packages (from matplotlib>=1.3.1->pyswarms) (1.3.1)\n",
            "Requirement already satisfied: pyparsing!=2.0.4,!=2.1.2,!=2.1.6,>=2.0.1 in /usr/local/lib/python3.7/dist-packages (from matplotlib>=1.3.1->pyswarms) (2.4.7)\n",
            "Requirement already satisfied: python-dateutil>=2.1 in /usr/local/lib/python3.7/dist-packages (from matplotlib>=1.3.1->pyswarms) (2.8.1)\n",
            "Requirement already satisfied: cycler>=0.10 in /usr/local/lib/python3.7/dist-packages (from matplotlib>=1.3.1->pyswarms) (0.10.0)\n",
            "Requirement already satisfied: six>=1.5 in /usr/local/lib/python3.7/dist-packages (from python-dateutil>=2.1->matplotlib>=1.3.1->pyswarms) (1.15.0)\n"
          ],
          "name": "stdout"
        }
      ]
    },
    {
      "cell_type": "code",
      "metadata": {
        "colab": {
          "base_uri": "https://localhost:8080/"
        },
        "id": "gHxefvjm6Sqe",
        "outputId": "68cba9ea-1ecf-450f-bb3f-b8eedfb3402c"
      },
      "source": [
        "pip install openml"
      ],
      "execution_count": 171,
      "outputs": [
        {
          "output_type": "stream",
          "text": [
            "Requirement already satisfied: openml in /usr/local/lib/python3.7/dist-packages (0.12.1)\n",
            "Requirement already satisfied: python-dateutil in /usr/local/lib/python3.7/dist-packages (from openml) (2.8.1)\n",
            "Requirement already satisfied: scipy>=0.13.3 in /usr/local/lib/python3.7/dist-packages (from openml) (1.4.1)\n",
            "Requirement already satisfied: requests in /usr/local/lib/python3.7/dist-packages (from openml) (2.23.0)\n",
            "Requirement already satisfied: minio in /usr/local/lib/python3.7/dist-packages (from openml) (7.0.3)\n",
            "Requirement already satisfied: numpy>=1.6.2 in /usr/local/lib/python3.7/dist-packages (from openml) (1.19.5)\n",
            "Requirement already satisfied: liac-arff>=2.4.0 in /usr/local/lib/python3.7/dist-packages (from openml) (2.5.0)\n",
            "Requirement already satisfied: pandas>=1.0.0 in /usr/local/lib/python3.7/dist-packages (from openml) (1.1.5)\n",
            "Requirement already satisfied: pyarrow in /usr/local/lib/python3.7/dist-packages (from openml) (3.0.0)\n",
            "Requirement already satisfied: xmltodict in /usr/local/lib/python3.7/dist-packages (from openml) (0.12.0)\n",
            "Requirement already satisfied: scikit-learn>=0.18 in /usr/local/lib/python3.7/dist-packages (from openml) (0.22.2.post1)\n",
            "Requirement already satisfied: six>=1.5 in /usr/local/lib/python3.7/dist-packages (from python-dateutil->openml) (1.15.0)\n",
            "Requirement already satisfied: certifi>=2017.4.17 in /usr/local/lib/python3.7/dist-packages (from requests->openml) (2020.12.5)\n",
            "Requirement already satisfied: urllib3!=1.25.0,!=1.25.1,<1.26,>=1.21.1 in /usr/local/lib/python3.7/dist-packages (from requests->openml) (1.24.3)\n",
            "Requirement already satisfied: idna<3,>=2.5 in /usr/local/lib/python3.7/dist-packages (from requests->openml) (2.10)\n",
            "Requirement already satisfied: chardet<4,>=3.0.2 in /usr/local/lib/python3.7/dist-packages (from requests->openml) (3.0.4)\n",
            "Requirement already satisfied: pytz>=2017.2 in /usr/local/lib/python3.7/dist-packages (from pandas>=1.0.0->openml) (2018.9)\n",
            "Requirement already satisfied: joblib>=0.11 in /usr/local/lib/python3.7/dist-packages (from scikit-learn>=0.18->openml) (1.0.1)\n"
          ],
          "name": "stdout"
        }
      ]
    },
    {
      "cell_type": "markdown",
      "metadata": {
        "id": "514WS06Vv7Ji"
      },
      "source": [
        "---\n",
        "# 2. Carregando todas as dependências\n",
        "\n",
        "Em seguida, carregamos todas as funções necessárias para execução do nosso exemplo."
      ]
    },
    {
      "cell_type": "code",
      "metadata": {
        "id": "8eyQCu9nzitW"
      },
      "source": [
        "# carregando PSO\n",
        "import pyswarms as ps   \n",
        "# carregando função para plotar a curva de convergência do PSO\n",
        "from pyswarms.utils.plotters import plot_cost_history\n",
        "\n",
        "import openml                     # acesso a datasets do OpenML\n",
        "import numpy as np                # manipulação de numeros na notação científica\n",
        "import pandas as pd               # manipulação de data frames no python\n",
        "import matplotlib.pyplot as plt   # plots/gráficos\n",
        "\n",
        "import random                     # controle/geracao de numeros aleatorios\n",
        "from statistics import mean       # media simples\n",
        "\n",
        "# imports do sklearn\n",
        "# metodologia experimental - divisão do dataset em subsets, e avaliação de performance\n",
        "from sklearn.model_selection import train_test_split, cross_val_score\n",
        "# SVMs para classificacao\n",
        "from sklearn.svm import SVC\n",
        "# medidas de desempenho e plot de matriz de confusão\n",
        "from sklearn.metrics import balanced_accuracy_score,  plot_confusion_matrix\n",
        "# preprocessamento, se necessário, dos atributos\n",
        "from sklearn import preprocessing\n",
        "from sklearn import utils\n",
        "\n",
        "# dictionary para salvarmos o historico completo o PSO\n",
        "from collections import defaultdict"
      ],
      "execution_count": 172,
      "outputs": []
    },
    {
      "cell_type": "code",
      "metadata": {
        "id": "1UG00eF4eNv0"
      },
      "source": [
        "# seed para reprodução dos experimentos\n",
        "seed = 42\n",
        "random.seed(seed)\n",
        "np.random.seed(seed)"
      ],
      "execution_count": 173,
      "outputs": []
    },
    {
      "cell_type": "markdown",
      "metadata": {
        "id": "unPGIonUxCyM"
      },
      "source": [
        "---\n",
        "# 3. Obtendo datasets do OpenML\n",
        "\n",
        "Nesse exemplo, fiz uso dos datasets do OpenML, já citado ao longo das aulas.\n",
        "Em específico, fiz testes com três datasets diferentes, cada um deles descrevendo um diferente cenário de experimentação:\n",
        "\n",
        "1. **iris**: SVMs não melhoram com o tuning\n",
        "2. **analcatdata_boxing2**: SVMs melhoram pouco com o tuning\n",
        "3. **balance_scale**: SVMs melhoram consideravelmente com o tuning"
      ]
    },
    {
      "cell_type": "code",
      "metadata": {
        "id": "Nqsxxy6EozgX"
      },
      "source": [
        "# Acesso às páginas dos datasets lá no OpenML\n",
        "# https://www.openml.org/d/61  - iris (SVM não melhora com tuning)\n",
        "# https://www.openml.org/d/444 - analcatdata_boxing2 (SVM melhora pouco com tuning)\n",
        "# https://www.openml.org/d/11  - balance scale (SVM melhor consideravelmente com tuning)"
      ],
      "execution_count": 174,
      "outputs": []
    },
    {
      "cell_type": "code",
      "metadata": {
        "id": "hph2ni0L68k4"
      },
      "source": [
        "#Obtendo dataset via interface de código (biblioteca openml)\n",
        "\n",
        "# dataset = openml.datasets.get_dataset(444)\n",
        "# dataset = openml.datasets.get_dataset(61)\n",
        "dataset = openml.datasets.get_dataset(11) # balance_scale"
      ],
      "execution_count": 175,
      "outputs": []
    },
    {
      "cell_type": "code",
      "metadata": {
        "colab": {
          "base_uri": "https://localhost:8080/"
        },
        "id": "uuKIYJfTkAER",
        "outputId": "9c4bcc39-af90-4ec0-8bcf-aa1cde311c71"
      },
      "source": [
        "print(dataset)"
      ],
      "execution_count": 202,
      "outputs": [
        {
          "output_type": "stream",
          "text": [
            "OpenML Dataset\n",
            "==============\n",
            "Name..........: balance-scale\n",
            "Version.......: 1\n",
            "Format........: ARFF\n",
            "Upload Date...: 2014-04-06 23:19:55\n",
            "Licence.......: Public\n",
            "Download URL..: https://www.openml.org/data/v1/download/11/balance-scale.arff\n",
            "OpenML URL....: https://www.openml.org/d/11\n",
            "# of features.: 5\n",
            "# of instances: 625\n"
          ],
          "name": "stdout"
        }
      ]
    },
    {
      "cell_type": "code",
      "metadata": {
        "colab": {
          "base_uri": "https://localhost:8080/"
        },
        "id": "WIozeFIkkDvY",
        "outputId": "eb6aa5ae-b266-4eee-f82b-b755cf29c554"
      },
      "source": [
        "# Converter objeto retornado pelo OpenML em um data frame do pandas\n",
        "X, y, categorical_indicator, attribute_names = dataset.get_data(\n",
        "    dataset_format = \"array\", target=dataset.default_target_attribute\n",
        ")\n",
        "data = pd.DataFrame(X, columns = attribute_names)\n",
        "data[\"target\"] = y"
      ],
      "execution_count": 203,
      "outputs": [
        {
          "output_type": "stream",
          "text": [
            "2021-04-15 04:25:56,276 - openml.datasets.dataset - INFO - pickle load data balance-scale\n"
          ],
          "name": "stderr"
        }
      ]
    },
    {
      "cell_type": "code",
      "metadata": {
        "colab": {
          "base_uri": "https://localhost:8080/",
          "height": 204
        },
        "id": "KES-1fnska0B",
        "outputId": "889549b8-fc57-4896-f018-b7639ff0d233"
      },
      "source": [
        "#visualizar o data frame - primeiras linhas do df\n",
        "data.head()"
      ],
      "execution_count": 204,
      "outputs": [
        {
          "output_type": "execute_result",
          "data": {
            "text/html": [
              "<div>\n",
              "<style scoped>\n",
              "    .dataframe tbody tr th:only-of-type {\n",
              "        vertical-align: middle;\n",
              "    }\n",
              "\n",
              "    .dataframe tbody tr th {\n",
              "        vertical-align: top;\n",
              "    }\n",
              "\n",
              "    .dataframe thead th {\n",
              "        text-align: right;\n",
              "    }\n",
              "</style>\n",
              "<table border=\"1\" class=\"dataframe\">\n",
              "  <thead>\n",
              "    <tr style=\"text-align: right;\">\n",
              "      <th></th>\n",
              "      <th>left-weight</th>\n",
              "      <th>left-distance</th>\n",
              "      <th>right-weight</th>\n",
              "      <th>right-distance</th>\n",
              "      <th>target</th>\n",
              "    </tr>\n",
              "  </thead>\n",
              "  <tbody>\n",
              "    <tr>\n",
              "      <th>0</th>\n",
              "      <td>1.0</td>\n",
              "      <td>1.0</td>\n",
              "      <td>1.0</td>\n",
              "      <td>1.0</td>\n",
              "      <td>1</td>\n",
              "    </tr>\n",
              "    <tr>\n",
              "      <th>1</th>\n",
              "      <td>1.0</td>\n",
              "      <td>1.0</td>\n",
              "      <td>1.0</td>\n",
              "      <td>2.0</td>\n",
              "      <td>2</td>\n",
              "    </tr>\n",
              "    <tr>\n",
              "      <th>2</th>\n",
              "      <td>1.0</td>\n",
              "      <td>1.0</td>\n",
              "      <td>1.0</td>\n",
              "      <td>3.0</td>\n",
              "      <td>2</td>\n",
              "    </tr>\n",
              "    <tr>\n",
              "      <th>3</th>\n",
              "      <td>1.0</td>\n",
              "      <td>1.0</td>\n",
              "      <td>1.0</td>\n",
              "      <td>4.0</td>\n",
              "      <td>2</td>\n",
              "    </tr>\n",
              "    <tr>\n",
              "      <th>4</th>\n",
              "      <td>1.0</td>\n",
              "      <td>1.0</td>\n",
              "      <td>1.0</td>\n",
              "      <td>5.0</td>\n",
              "      <td>2</td>\n",
              "    </tr>\n",
              "  </tbody>\n",
              "</table>\n",
              "</div>"
            ],
            "text/plain": [
              "   left-weight  left-distance  right-weight  right-distance  target\n",
              "0          1.0            1.0           1.0             1.0       1\n",
              "1          1.0            1.0           1.0             2.0       2\n",
              "2          1.0            1.0           1.0             3.0       2\n",
              "3          1.0            1.0           1.0             4.0       2\n",
              "4          1.0            1.0           1.0             5.0       2"
            ]
          },
          "metadata": {
            "tags": []
          },
          "execution_count": 204
        }
      ]
    },
    {
      "cell_type": "code",
      "metadata": {
        "id": "L4FZ8TKPgFje"
      },
      "source": [
        "# Se for necessário, descomentar os comados abaixo para converter classe \n",
        "#  numérica para valores categóricos\n",
        "\n",
        "# lab_enc = preprocessing.LabelEncoder()\n",
        "# data['target'] = lab_enc.fit_transform(data['target'])\n",
        "# print(data['target'])"
      ],
      "execution_count": 179,
      "outputs": []
    },
    {
      "cell_type": "markdown",
      "metadata": {
        "id": "9bEOemKsyDov"
      },
      "source": [
        "---\n",
        "# 4. Metodologia para o experimento\n",
        "\n",
        "Para realizar o ajuste dos hiperparâmetros (HPs), vamos dividir o dataset em dois conjuntos:\n",
        "\n",
        "* treino (**data_train**): o subconjunto de exemplos usados para encontrar os melhores valores de HPs;\n",
        "* teste (**data_test**): o subconjunto onde iremos testar os melhores valores de HP obtidos durante a otimização.  \n",
        "\n",
        "Obs: Por ser um exemplo simples, vamos dividir os dados apenas uma vez na proporção 1/3, com 66% dos dados para treinamento, 34% para teste. Em situação reais, geralmente exploramos validação cruzada, repetindo todo esse processo descrito abaixo *K* vezes.\n"
      ]
    },
    {
      "cell_type": "code",
      "metadata": {
        "id": "dMhedHjSg6WD",
        "colab": {
          "base_uri": "https://localhost:8080/"
        },
        "outputId": "dfa3c10d-3f44-4fec-eb9f-1723440d2450"
      },
      "source": [
        "# Dividir os dados em treino e teste\n",
        "[data_train, data_test] = train_test_split(data, test_size=0.3, random_state=seed, shuffle=True)\n",
        "print(\" - Tamanho do conjunto de treino: \", len(data_train))\n",
        "print(\" - Tamanho do conjunto de teste: \",  len(data_test))"
      ],
      "execution_count": 205,
      "outputs": [
        {
          "output_type": "stream",
          "text": [
            " - Tamanho do conjunto de treino:  437\n",
            " - Tamanho do conjunto de teste:  188\n"
          ],
          "name": "stdout"
        }
      ]
    },
    {
      "cell_type": "code",
      "metadata": {
        "colab": {
          "base_uri": "https://localhost:8080/",
          "height": 204
        },
        "id": "PuW73OtYhlj9",
        "outputId": "49884892-e78b-43d3-cdca-02966fc8ea5b"
      },
      "source": [
        "# visualizando como ficou o treino\n",
        "data_train.head()"
      ],
      "execution_count": 181,
      "outputs": [
        {
          "output_type": "execute_result",
          "data": {
            "text/html": [
              "<div>\n",
              "<style scoped>\n",
              "    .dataframe tbody tr th:only-of-type {\n",
              "        vertical-align: middle;\n",
              "    }\n",
              "\n",
              "    .dataframe tbody tr th {\n",
              "        vertical-align: top;\n",
              "    }\n",
              "\n",
              "    .dataframe thead th {\n",
              "        text-align: right;\n",
              "    }\n",
              "</style>\n",
              "<table border=\"1\" class=\"dataframe\">\n",
              "  <thead>\n",
              "    <tr style=\"text-align: right;\">\n",
              "      <th></th>\n",
              "      <th>left-weight</th>\n",
              "      <th>left-distance</th>\n",
              "      <th>right-weight</th>\n",
              "      <th>right-distance</th>\n",
              "      <th>target</th>\n",
              "    </tr>\n",
              "  </thead>\n",
              "  <tbody>\n",
              "    <tr>\n",
              "      <th>204</th>\n",
              "      <td>2.0</td>\n",
              "      <td>4.0</td>\n",
              "      <td>1.0</td>\n",
              "      <td>5.0</td>\n",
              "      <td>0</td>\n",
              "    </tr>\n",
              "    <tr>\n",
              "      <th>88</th>\n",
              "      <td>1.0</td>\n",
              "      <td>4.0</td>\n",
              "      <td>3.0</td>\n",
              "      <td>4.0</td>\n",
              "      <td>2</td>\n",
              "    </tr>\n",
              "    <tr>\n",
              "      <th>522</th>\n",
              "      <td>5.0</td>\n",
              "      <td>1.0</td>\n",
              "      <td>5.0</td>\n",
              "      <td>3.0</td>\n",
              "      <td>2</td>\n",
              "    </tr>\n",
              "    <tr>\n",
              "      <th>117</th>\n",
              "      <td>1.0</td>\n",
              "      <td>5.0</td>\n",
              "      <td>4.0</td>\n",
              "      <td>3.0</td>\n",
              "      <td>2</td>\n",
              "    </tr>\n",
              "    <tr>\n",
              "      <th>416</th>\n",
              "      <td>4.0</td>\n",
              "      <td>2.0</td>\n",
              "      <td>4.0</td>\n",
              "      <td>2.0</td>\n",
              "      <td>1</td>\n",
              "    </tr>\n",
              "  </tbody>\n",
              "</table>\n",
              "</div>"
            ],
            "text/plain": [
              "     left-weight  left-distance  right-weight  right-distance  target\n",
              "204          2.0            4.0           1.0             5.0       0\n",
              "88           1.0            4.0           3.0             4.0       2\n",
              "522          5.0            1.0           5.0             3.0       2\n",
              "117          1.0            5.0           4.0             3.0       2\n",
              "416          4.0            2.0           4.0             2.0       1"
            ]
          },
          "metadata": {
            "tags": []
          },
          "execution_count": 181
        }
      ]
    },
    {
      "cell_type": "code",
      "metadata": {
        "colab": {
          "base_uri": "https://localhost:8080/",
          "height": 204
        },
        "id": "GxAlYBTEhup8",
        "outputId": "1ce37f63-39a0-420b-ed88-f2f6c155a9ac"
      },
      "source": [
        "# visualizando como ficou o teste\n",
        "data_test.head()"
      ],
      "execution_count": 182,
      "outputs": [
        {
          "output_type": "execute_result",
          "data": {
            "text/html": [
              "<div>\n",
              "<style scoped>\n",
              "    .dataframe tbody tr th:only-of-type {\n",
              "        vertical-align: middle;\n",
              "    }\n",
              "\n",
              "    .dataframe tbody tr th {\n",
              "        vertical-align: top;\n",
              "    }\n",
              "\n",
              "    .dataframe thead th {\n",
              "        text-align: right;\n",
              "    }\n",
              "</style>\n",
              "<table border=\"1\" class=\"dataframe\">\n",
              "  <thead>\n",
              "    <tr style=\"text-align: right;\">\n",
              "      <th></th>\n",
              "      <th>left-weight</th>\n",
              "      <th>left-distance</th>\n",
              "      <th>right-weight</th>\n",
              "      <th>right-distance</th>\n",
              "      <th>target</th>\n",
              "    </tr>\n",
              "  </thead>\n",
              "  <tbody>\n",
              "    <tr>\n",
              "      <th>447</th>\n",
              "      <td>4.0</td>\n",
              "      <td>3.0</td>\n",
              "      <td>5.0</td>\n",
              "      <td>3.0</td>\n",
              "      <td>2</td>\n",
              "    </tr>\n",
              "    <tr>\n",
              "      <th>485</th>\n",
              "      <td>4.0</td>\n",
              "      <td>5.0</td>\n",
              "      <td>3.0</td>\n",
              "      <td>1.0</td>\n",
              "      <td>0</td>\n",
              "    </tr>\n",
              "    <tr>\n",
              "      <th>215</th>\n",
              "      <td>2.0</td>\n",
              "      <td>4.0</td>\n",
              "      <td>4.0</td>\n",
              "      <td>1.0</td>\n",
              "      <td>0</td>\n",
              "    </tr>\n",
              "    <tr>\n",
              "      <th>212</th>\n",
              "      <td>2.0</td>\n",
              "      <td>4.0</td>\n",
              "      <td>3.0</td>\n",
              "      <td>3.0</td>\n",
              "      <td>2</td>\n",
              "    </tr>\n",
              "    <tr>\n",
              "      <th>480</th>\n",
              "      <td>4.0</td>\n",
              "      <td>5.0</td>\n",
              "      <td>2.0</td>\n",
              "      <td>1.0</td>\n",
              "      <td>0</td>\n",
              "    </tr>\n",
              "  </tbody>\n",
              "</table>\n",
              "</div>"
            ],
            "text/plain": [
              "     left-weight  left-distance  right-weight  right-distance  target\n",
              "447          4.0            3.0           5.0             3.0       2\n",
              "485          4.0            5.0           3.0             1.0       0\n",
              "215          2.0            4.0           4.0             1.0       0\n",
              "212          2.0            4.0           3.0             3.0       2\n",
              "480          4.0            5.0           2.0             1.0       0"
            ]
          },
          "metadata": {
            "tags": []
          },
          "execution_count": 182
        }
      ]
    },
    {
      "cell_type": "code",
      "metadata": {
        "id": "DqwZED-dqZ9F",
        "colab": {
          "base_uri": "https://localhost:8080/",
          "height": 204
        },
        "outputId": "86ae1f33-a18f-422f-abfc-cf671f15abec"
      },
      "source": [
        "# aqui vamos separar apenas os atributos descritivos (X_train) dos rotulos (y_train)\n",
        "# no conjunto de treinamento\n",
        "\n",
        "seq = list(range(0, len(data_train.columns)-1))\n",
        "X_train = data_train.iloc[:, seq]\n",
        "X_train.head()"
      ],
      "execution_count": 183,
      "outputs": [
        {
          "output_type": "execute_result",
          "data": {
            "text/html": [
              "<div>\n",
              "<style scoped>\n",
              "    .dataframe tbody tr th:only-of-type {\n",
              "        vertical-align: middle;\n",
              "    }\n",
              "\n",
              "    .dataframe tbody tr th {\n",
              "        vertical-align: top;\n",
              "    }\n",
              "\n",
              "    .dataframe thead th {\n",
              "        text-align: right;\n",
              "    }\n",
              "</style>\n",
              "<table border=\"1\" class=\"dataframe\">\n",
              "  <thead>\n",
              "    <tr style=\"text-align: right;\">\n",
              "      <th></th>\n",
              "      <th>left-weight</th>\n",
              "      <th>left-distance</th>\n",
              "      <th>right-weight</th>\n",
              "      <th>right-distance</th>\n",
              "    </tr>\n",
              "  </thead>\n",
              "  <tbody>\n",
              "    <tr>\n",
              "      <th>204</th>\n",
              "      <td>2.0</td>\n",
              "      <td>4.0</td>\n",
              "      <td>1.0</td>\n",
              "      <td>5.0</td>\n",
              "    </tr>\n",
              "    <tr>\n",
              "      <th>88</th>\n",
              "      <td>1.0</td>\n",
              "      <td>4.0</td>\n",
              "      <td>3.0</td>\n",
              "      <td>4.0</td>\n",
              "    </tr>\n",
              "    <tr>\n",
              "      <th>522</th>\n",
              "      <td>5.0</td>\n",
              "      <td>1.0</td>\n",
              "      <td>5.0</td>\n",
              "      <td>3.0</td>\n",
              "    </tr>\n",
              "    <tr>\n",
              "      <th>117</th>\n",
              "      <td>1.0</td>\n",
              "      <td>5.0</td>\n",
              "      <td>4.0</td>\n",
              "      <td>3.0</td>\n",
              "    </tr>\n",
              "    <tr>\n",
              "      <th>416</th>\n",
              "      <td>4.0</td>\n",
              "      <td>2.0</td>\n",
              "      <td>4.0</td>\n",
              "      <td>2.0</td>\n",
              "    </tr>\n",
              "  </tbody>\n",
              "</table>\n",
              "</div>"
            ],
            "text/plain": [
              "     left-weight  left-distance  right-weight  right-distance\n",
              "204          2.0            4.0           1.0             5.0\n",
              "88           1.0            4.0           3.0             4.0\n",
              "522          5.0            1.0           5.0             3.0\n",
              "117          1.0            5.0           4.0             3.0\n",
              "416          4.0            2.0           4.0             2.0"
            ]
          },
          "metadata": {
            "tags": []
          },
          "execution_count": 183
        }
      ]
    },
    {
      "cell_type": "code",
      "metadata": {
        "colab": {
          "base_uri": "https://localhost:8080/"
        },
        "id": "-Jkoy1aSL3rt",
        "outputId": "afc02360-e5fd-4335-983a-de9d1ae8eeec"
      },
      "source": [
        "# armazenando os rotulos do conjunto de treinamento em y_train\n",
        "\n",
        "idx = len(data_train.columns)-1\n",
        "y_train = data_train.iloc[:,idx]\n",
        "y_train = y_train.values.ravel()\n",
        "print(y_train)"
      ],
      "execution_count": 206,
      "outputs": [
        {
          "output_type": "stream",
          "text": [
            "[0 2 2 2 1 0 2 1 0 0 2 0 0 0 2 0 2 2 1 2 2 2 0 2 2 2 2 0 0 0 2 0 0 2 2 2 2\n",
            " 2 2 0 2 2 0 1 2 0 1 2 2 2 0 0 1 0 2 2 0 2 0 0 2 0 2 2 0 0 0 0 0 0 2 0 2 2\n",
            " 2 0 0 0 2 0 0 2 0 2 2 1 0 2 2 2 2 2 0 2 0 0 0 0 0 0 2 0 2 0 0 0 0 1 2 2 2\n",
            " 2 0 2 2 0 2 2 0 0 0 2 0 0 0 1 2 2 0 0 2 2 0 1 0 2 0 2 0 0 0 0 2 0 2 0 2 2\n",
            " 2 0 0 0 0 0 0 0 0 2 0 0 2 2 2 0 0 0 2 0 0 2 0 2 2 2 0 0 2 2 0 2 0 2 2 2 0\n",
            " 2 2 0 0 2 1 0 2 0 0 2 0 0 2 0 2 0 0 2 2 2 2 2 2 0 2 0 2 0 2 2 0 2 2 0 2 1\n",
            " 1 1 2 0 2 2 0 0 0 2 2 1 2 2 2 0 0 0 0 0 0 1 2 0 2 2 0 0 2 0 0 0 0 2 2 0 2\n",
            " 0 0 0 2 2 2 0 2 0 2 0 0 1 0 1 0 2 2 0 0 2 2 0 0 0 0 2 2 0 0 2 0 2 2 2 2 2\n",
            " 0 2 1 0 2 2 2 2 2 2 0 0 0 0 2 0 2 0 0 0 0 0 0 0 1 2 0 2 0 2 2 2 2 2 0 2 0\n",
            " 0 2 2 0 2 2 2 0 0 1 2 2 2 1 2 2 0 2 0 1 2 2 1 2 0 2 2 1 1 0 0 0 0 0 0 2 0\n",
            " 2 0 0 0 0 2 2 0 0 0 0 2 2 0 0 0 2 2 1 0 0 2 0 2 2 2 0 0 0 1 2 0 0 2 0 0 2\n",
            " 2 0 1 2 2 0 0 0 2 0 2 0 2 0 1 2 1 2 0 0 2 0 2 0 2 2 0 2 0 0]\n"
          ],
          "name": "stdout"
        }
      ]
    },
    {
      "cell_type": "markdown",
      "metadata": {
        "id": "rd_2n57Kzewg"
      },
      "source": [
        "---\n",
        "#5. Codificação das partículas do PSO\n",
        "\n",
        "O ajuste de SVM levará em conta dois HPs da implementação com kernel gaussiano (RBF Kernel).\n",
        "\n",
        "* C: constante de regularização\n",
        "* gamma: largura do kernel gaussiano\n",
        "\n",
        "Esses HPs terão possíveis valores mínimos e máximos. Não iremos trabalhar com grids, e sim intervalos reais contínuos.\n",
        "\n",
        "* C = (0.01, 100)\n",
        "* gamma = (0.1, 10)\n",
        "\n",
        "ou seja, as partículas do PSO irão representar uma configuração de HP para SVM, cujos valores hp = {p1, p2}, estão contidos dentro destes intervalos contínuos acima descritos.\n",
        "\n",
        "Para que o PSO funcione, gere partículas válidas, e as movimente no espaço, precisamos então definir esses limites. Isos é o que fazemos definindo a variável ***bounds***.\n"
      ]
    },
    {
      "cell_type": "code",
      "metadata": {
        "colab": {
          "base_uri": "https://localhost:8080/"
        },
        "id": "qzfgKLm7h_OO",
        "outputId": "2ca4b818-729b-4962-f915-674ac645ff1d"
      },
      "source": [
        "# SVM bounds [cost - C, gamma] = [min], [max]\n",
        "bounds = (np.array([1e-2, 1e-1]), np.array([1e2, 1e1]))\n",
        "print(bounds)"
      ],
      "execution_count": 245,
      "outputs": [
        {
          "output_type": "stream",
          "text": [
            "(array([0.01, 0.1 ]), array([100.,  10.]))\n"
          ],
          "name": "stdout"
        }
      ]
    },
    {
      "cell_type": "code",
      "metadata": {
        "colab": {
          "base_uri": "https://localhost:8080/"
        },
        "id": "NtZBamMtil7l",
        "outputId": "7d18bbfa-5f7e-405d-a5b6-8894349f7f8f"
      },
      "source": [
        "# armazena todas as particulas testadas ao longo da execução do PSO\n",
        "results_dict = defaultdict(list)\n",
        "print(results_dict)"
      ],
      "execution_count": 246,
      "outputs": [
        {
          "output_type": "stream",
          "text": [
            "defaultdict(<class 'list'>, {})\n"
          ],
          "name": "stdout"
        }
      ]
    },
    {
      "cell_type": "markdown",
      "metadata": {
        "id": "EB7vIPdW1iiV"
      },
      "source": [
        "A função de fitness precisa também ser codificada. No nosso caso, é um função que recebe um conjunto de HPs (candidates), induz SVMs, e calcula a acurácia do modelo com aqueles HPs. \n",
        "E é exatamente o que a função abaixo realiza.\n",
        "A saída (retorno) são as performances de todas as partículas em uma determinada iteração. \n",
        "\n",
        "**Obs:** por padrão, as funções do pyswarms realizam otimização minimizando um problema. Assim, para que consigamos gerar performances maiores, só precisamos\n",
        "multiplicar os valores de retorno por -1."
      ]
    },
    {
      "cell_type": "code",
      "metadata": {
        "id": "UvSUajqxm3QB"
      },
      "source": [
        "# customized fitness_function \n",
        "def fitness_function(candidates, X_train, y_train, results_dict, seed):\n",
        "\n",
        "  #print(candidates)\n",
        "  acc_scores = []\n",
        "  for pos in candidates:\n",
        "    \n",
        "    #print(pos)\n",
        "    C     = pos[0]\n",
        "    gamma = pos[1]\n",
        "\n",
        "    clf = SVC()\n",
        "    clf.set_params(**{'C': C, 'gamma': gamma})\n",
        " \n",
        "    scores = cross_val_score(clf, X=X_train, y = y_train, cv=3)\n",
        "    acc = mean(scores)\n",
        "    acc_scores.append(acc)\n",
        "    \n",
        "    # saving results    \n",
        "    results_dict['seed'].append(seed)\n",
        "    results_dict['C'].append(C)\n",
        "    results_dict['gamma'].append(gamma)\n",
        "    results_dict['acc'].append(acc)\n",
        "\n",
        "  return -np.array(acc_scores)"
      ],
      "execution_count": 247,
      "outputs": []
    },
    {
      "cell_type": "markdown",
      "metadata": {
        "id": "bcTaY3CO2Pnx"
      },
      "source": [
        "---\n",
        "#6. Executar PSO para tunar SVM\n",
        "\n",
        "Vamos aqui definir nosso setup do PSO, valor e executar a otimização.\n"
      ]
    },
    {
      "cell_type": "code",
      "metadata": {
        "id": "OnUPn3hfxR8d"
      },
      "source": [
        "# definir a quantidade de particulas, e o numero de iterações que iremos realizar\n",
        "n_particles = 20\n",
        "iters       = 100"
      ],
      "execution_count": 260,
      "outputs": []
    },
    {
      "cell_type": "code",
      "metadata": {
        "id": "C3KgGcdce8Xk"
      },
      "source": [
        "# Definir o nosso otimizador, PSO com estratégia global: todas as partículas tem \n",
        "# acesso a informação de todas as outras\n",
        "# Documentação: https://pyswarms.readthedocs.io/en/latest/api/pyswarms.single.html#module-pyswarms.single.global_best\n",
        "\n",
        "# Opções do PSO (default)\n",
        "#  c1 - cognitive parameter\n",
        "#  c2 - social parameter\n",
        "#  w  = inertia parameter\n",
        "options = {'c1': 0.5, 'c2': 0.3, 'w':0.9}\n",
        "\n",
        "optimizer = ps.single.GlobalBestPSO(\n",
        "     n_particles = n_particles, \n",
        "     dimensions  = 2,  # quantidade de dimensoes do problema (2 = dois HPs)\n",
        "     bounds      = bounds,\n",
        "     options     = options\n",
        ")"
      ],
      "execution_count": 261,
      "outputs": []
    },
    {
      "cell_type": "code",
      "metadata": {
        "colab": {
          "base_uri": "https://localhost:8080/"
        },
        "id": "VOuv12xrfL8d",
        "outputId": "ebc4ce3e-027f-4a44-bd7e-7883d660aabf"
      },
      "source": [
        "# Chamada prinicipal do PSO (executa o PSO)\n",
        "cost, pos = optimizer.optimize(\n",
        "    fitness_function,             # funcao de avaliação\n",
        "    iters = iters,                # qntde de iteracoes\n",
        "    X_train = X_train,            # conjunto de treinamento p avaliar as partículas\n",
        "    y_train = y_train,            # labels do conjunto de treinamento\n",
        "    results_dict = results_dict,  # dictionary p salvar resultados intermediados\n",
        "    seed = seed                   # seed para reprodução dos experimentos\n",
        ")                  \n"
      ],
      "execution_count": 262,
      "outputs": [
        {
          "output_type": "stream",
          "text": [
            "2021-04-15 05:08:33,432 - pyswarms.single.global_best - INFO - Optimize for 100 iters with {'c1': 0.5, 'c2': 0.3, 'w': 0.9}\n",
            "\n",
            "\n",
            "pyswarms.single.global_best:   0%|          |0/100\u001b[A\u001b[A\n",
            "\n",
            "pyswarms.single.global_best:   0%|          |0/100, best_cost=-.874\u001b[A\u001b[A\n",
            "\n",
            "pyswarms.single.global_best:   1%|          |1/100, best_cost=-.874\u001b[A\u001b[A\n",
            "\n",
            "pyswarms.single.global_best:   1%|          |1/100, best_cost=-.927\u001b[A\u001b[A\n",
            "\n",
            "pyswarms.single.global_best:   2%|▏         |2/100, best_cost=-.927\u001b[A\u001b[A\n",
            "\n",
            "pyswarms.single.global_best:   2%|▏         |2/100, best_cost=-.927\u001b[A\u001b[A\n",
            "\n",
            "pyswarms.single.global_best:   3%|▎         |3/100, best_cost=-.927\u001b[A\u001b[A\n",
            "\n",
            "pyswarms.single.global_best:   3%|▎         |3/100, best_cost=-.927\u001b[A\u001b[A\n",
            "\n",
            "pyswarms.single.global_best:   4%|▍         |4/100, best_cost=-.927\u001b[A\u001b[A\n",
            "\n",
            "pyswarms.single.global_best:   4%|▍         |4/100, best_cost=-.927\u001b[A\u001b[A\n",
            "\n",
            "pyswarms.single.global_best:   5%|▌         |5/100, best_cost=-.927\u001b[A\u001b[A\n",
            "\n",
            "pyswarms.single.global_best:   5%|▌         |5/100, best_cost=-.927\u001b[A\u001b[A\n",
            "\n",
            "pyswarms.single.global_best:   6%|▌         |6/100, best_cost=-.927\u001b[A\u001b[A\n",
            "\n",
            "pyswarms.single.global_best:   6%|▌         |6/100, best_cost=-.945\u001b[A\u001b[A\n",
            "\n",
            "pyswarms.single.global_best:   7%|▋         |7/100, best_cost=-.945\u001b[A\u001b[A\n",
            "\n",
            "pyswarms.single.global_best:   7%|▋         |7/100, best_cost=-.945\u001b[A\u001b[A\n",
            "\n",
            "pyswarms.single.global_best:   8%|▊         |8/100, best_cost=-.945\u001b[A\u001b[A\n",
            "\n",
            "pyswarms.single.global_best:   8%|▊         |8/100, best_cost=-.945\u001b[A\u001b[A\n",
            "\n",
            "pyswarms.single.global_best:   9%|▉         |9/100, best_cost=-.945\u001b[A\u001b[A\n",
            "\n",
            "pyswarms.single.global_best:   9%|▉         |9/100, best_cost=-.957\u001b[A\u001b[A\n",
            "\n",
            "pyswarms.single.global_best:  10%|█         |10/100, best_cost=-.957\u001b[A\u001b[A\n",
            "\n",
            "pyswarms.single.global_best:  10%|█         |10/100, best_cost=-.957\u001b[A\u001b[A\n",
            "\n",
            "pyswarms.single.global_best:  11%|█         |11/100, best_cost=-.957\u001b[A\u001b[A\n",
            "\n",
            "pyswarms.single.global_best:  11%|█         |11/100, best_cost=-.957\u001b[A\u001b[A\n",
            "\n",
            "pyswarms.single.global_best:  12%|█▏        |12/100, best_cost=-.957\u001b[A\u001b[A\n",
            "\n",
            "pyswarms.single.global_best:  12%|█▏        |12/100, best_cost=-.957\u001b[A\u001b[A\n",
            "\n",
            "pyswarms.single.global_best:  13%|█▎        |13/100, best_cost=-.957\u001b[A\u001b[A\n",
            "\n",
            "pyswarms.single.global_best:  13%|█▎        |13/100, best_cost=-.957\u001b[A\u001b[A\n",
            "\n",
            "pyswarms.single.global_best:  14%|█▍        |14/100, best_cost=-.957\u001b[A\u001b[A\n",
            "\n",
            "pyswarms.single.global_best:  14%|█▍        |14/100, best_cost=-.957\u001b[A\u001b[A\n",
            "\n",
            "pyswarms.single.global_best:  15%|█▌        |15/100, best_cost=-.957\u001b[A\u001b[A\n",
            "\n",
            "pyswarms.single.global_best:  15%|█▌        |15/100, best_cost=-.957\u001b[A\u001b[A\n",
            "\n",
            "pyswarms.single.global_best:  16%|█▌        |16/100, best_cost=-.957\u001b[A\u001b[A\n",
            "\n",
            "pyswarms.single.global_best:  16%|█▌        |16/100, best_cost=-.957\u001b[A\u001b[A\n",
            "\n",
            "pyswarms.single.global_best:  17%|█▋        |17/100, best_cost=-.957\u001b[A\u001b[A\n",
            "\n",
            "pyswarms.single.global_best:  17%|█▋        |17/100, best_cost=-.957\u001b[A\u001b[A\n",
            "\n",
            "pyswarms.single.global_best:  18%|█▊        |18/100, best_cost=-.957\u001b[A\u001b[A\n",
            "\n",
            "pyswarms.single.global_best:  18%|█▊        |18/100, best_cost=-.957\u001b[A\u001b[A\n",
            "\n",
            "pyswarms.single.global_best:  19%|█▉        |19/100, best_cost=-.957\u001b[A\u001b[A\n",
            "\n",
            "pyswarms.single.global_best:  19%|█▉        |19/100, best_cost=-.957\u001b[A\u001b[A\n",
            "\n",
            "pyswarms.single.global_best:  20%|██        |20/100, best_cost=-.957\u001b[A\u001b[A\n",
            "\n",
            "pyswarms.single.global_best:  20%|██        |20/100, best_cost=-.957\u001b[A\u001b[A\n",
            "\n",
            "pyswarms.single.global_best:  21%|██        |21/100, best_cost=-.957\u001b[A\u001b[A\n",
            "\n",
            "pyswarms.single.global_best:  21%|██        |21/100, best_cost=-.957\u001b[A\u001b[A\n",
            "\n",
            "pyswarms.single.global_best:  22%|██▏       |22/100, best_cost=-.957\u001b[A\u001b[A\n",
            "\n",
            "pyswarms.single.global_best:  22%|██▏       |22/100, best_cost=-.957\u001b[A\u001b[A\n",
            "\n",
            "pyswarms.single.global_best:  23%|██▎       |23/100, best_cost=-.957\u001b[A\u001b[A\n",
            "\n",
            "pyswarms.single.global_best:  23%|██▎       |23/100, best_cost=-.957\u001b[A\u001b[A\n",
            "\n",
            "pyswarms.single.global_best:  24%|██▍       |24/100, best_cost=-.957\u001b[A\u001b[A\n",
            "\n",
            "pyswarms.single.global_best:  24%|██▍       |24/100, best_cost=-.957\u001b[A\u001b[A\n",
            "\n",
            "pyswarms.single.global_best:  25%|██▌       |25/100, best_cost=-.957\u001b[A\u001b[A\n",
            "\n",
            "pyswarms.single.global_best:  25%|██▌       |25/100, best_cost=-.957\u001b[A\u001b[A\n",
            "\n",
            "pyswarms.single.global_best:  26%|██▌       |26/100, best_cost=-.957\u001b[A\u001b[A\n",
            "\n",
            "pyswarms.single.global_best:  26%|██▌       |26/100, best_cost=-.957\u001b[A\u001b[A\n",
            "\n",
            "pyswarms.single.global_best:  27%|██▋       |27/100, best_cost=-.957\u001b[A\u001b[A\n",
            "\n",
            "pyswarms.single.global_best:  27%|██▋       |27/100, best_cost=-.957\u001b[A\u001b[A\n",
            "\n",
            "pyswarms.single.global_best:  28%|██▊       |28/100, best_cost=-.957\u001b[A\u001b[A\n",
            "\n",
            "pyswarms.single.global_best:  28%|██▊       |28/100, best_cost=-.957\u001b[A\u001b[A\n",
            "\n",
            "pyswarms.single.global_best:  29%|██▉       |29/100, best_cost=-.957\u001b[A\u001b[A\n",
            "\n",
            "pyswarms.single.global_best:  29%|██▉       |29/100, best_cost=-.957\u001b[A\u001b[A\n",
            "\n",
            "pyswarms.single.global_best:  30%|███       |30/100, best_cost=-.957\u001b[A\u001b[A\n",
            "\n",
            "pyswarms.single.global_best:  30%|███       |30/100, best_cost=-.957\u001b[A\u001b[A\n",
            "\n",
            "pyswarms.single.global_best:  31%|███       |31/100, best_cost=-.957\u001b[A\u001b[A\n",
            "\n",
            "pyswarms.single.global_best:  31%|███       |31/100, best_cost=-.957\u001b[A\u001b[A\n",
            "\n",
            "pyswarms.single.global_best:  32%|███▏      |32/100, best_cost=-.957\u001b[A\u001b[A\n",
            "\n",
            "pyswarms.single.global_best:  32%|███▏      |32/100, best_cost=-.957\u001b[A\u001b[A\n",
            "\n",
            "pyswarms.single.global_best:  33%|███▎      |33/100, best_cost=-.957\u001b[A\u001b[A\n",
            "\n",
            "pyswarms.single.global_best:  33%|███▎      |33/100, best_cost=-.957\u001b[A\u001b[A\n",
            "\n",
            "pyswarms.single.global_best:  34%|███▍      |34/100, best_cost=-.957\u001b[A\u001b[A\n",
            "\n",
            "pyswarms.single.global_best:  34%|███▍      |34/100, best_cost=-.957\u001b[A\u001b[A\n",
            "\n",
            "pyswarms.single.global_best:  35%|███▌      |35/100, best_cost=-.957\u001b[A\u001b[A\n",
            "\n",
            "pyswarms.single.global_best:  35%|███▌      |35/100, best_cost=-.957\u001b[A\u001b[A\n",
            "\n",
            "pyswarms.single.global_best:  36%|███▌      |36/100, best_cost=-.957\u001b[A\u001b[A\n",
            "\n",
            "pyswarms.single.global_best:  36%|███▌      |36/100, best_cost=-.957\u001b[A\u001b[A\n",
            "\n",
            "pyswarms.single.global_best:  37%|███▋      |37/100, best_cost=-.957\u001b[A\u001b[A\n",
            "\n",
            "pyswarms.single.global_best:  37%|███▋      |37/100, best_cost=-.957\u001b[A\u001b[A\n",
            "\n",
            "pyswarms.single.global_best:  38%|███▊      |38/100, best_cost=-.957\u001b[A\u001b[A\n",
            "\n",
            "pyswarms.single.global_best:  38%|███▊      |38/100, best_cost=-.957\u001b[A\u001b[A\n",
            "\n",
            "pyswarms.single.global_best:  39%|███▉      |39/100, best_cost=-.957\u001b[A\u001b[A\n",
            "\n",
            "pyswarms.single.global_best:  39%|███▉      |39/100, best_cost=-.957\u001b[A\u001b[A\n",
            "\n",
            "pyswarms.single.global_best:  40%|████      |40/100, best_cost=-.957\u001b[A\u001b[A\n",
            "\n",
            "pyswarms.single.global_best:  40%|████      |40/100, best_cost=-.957\u001b[A\u001b[A\n",
            "\n",
            "pyswarms.single.global_best:  41%|████      |41/100, best_cost=-.957\u001b[A\u001b[A\n",
            "\n",
            "pyswarms.single.global_best:  41%|████      |41/100, best_cost=-.957\u001b[A\u001b[A\n",
            "\n",
            "pyswarms.single.global_best:  42%|████▏     |42/100, best_cost=-.957\u001b[A\u001b[A\n",
            "\n",
            "pyswarms.single.global_best:  42%|████▏     |42/100, best_cost=-.957\u001b[A\u001b[A\n",
            "\n",
            "pyswarms.single.global_best:  43%|████▎     |43/100, best_cost=-.957\u001b[A\u001b[A\n",
            "\n",
            "pyswarms.single.global_best:  43%|████▎     |43/100, best_cost=-.957\u001b[A\u001b[A\n",
            "\n",
            "pyswarms.single.global_best:  44%|████▍     |44/100, best_cost=-.957\u001b[A\u001b[A\n",
            "\n",
            "pyswarms.single.global_best:  44%|████▍     |44/100, best_cost=-.957\u001b[A\u001b[A\n",
            "\n",
            "pyswarms.single.global_best:  45%|████▌     |45/100, best_cost=-.957\u001b[A\u001b[A\n",
            "\n",
            "pyswarms.single.global_best:  45%|████▌     |45/100, best_cost=-.957\u001b[A\u001b[A\n",
            "\n",
            "pyswarms.single.global_best:  46%|████▌     |46/100, best_cost=-.957\u001b[A\u001b[A\n",
            "\n",
            "pyswarms.single.global_best:  46%|████▌     |46/100, best_cost=-.957\u001b[A\u001b[A\n",
            "\n",
            "pyswarms.single.global_best:  47%|████▋     |47/100, best_cost=-.957\u001b[A\u001b[A\n",
            "\n",
            "pyswarms.single.global_best:  47%|████▋     |47/100, best_cost=-.957\u001b[A\u001b[A\n",
            "\n",
            "pyswarms.single.global_best:  48%|████▊     |48/100, best_cost=-.957\u001b[A\u001b[A\n",
            "\n",
            "pyswarms.single.global_best:  48%|████▊     |48/100, best_cost=-.957\u001b[A\u001b[A\n",
            "\n",
            "pyswarms.single.global_best:  49%|████▉     |49/100, best_cost=-.957\u001b[A\u001b[A\n",
            "\n",
            "pyswarms.single.global_best:  49%|████▉     |49/100, best_cost=-.957\u001b[A\u001b[A\n",
            "\n",
            "pyswarms.single.global_best:  50%|█████     |50/100, best_cost=-.957\u001b[A\u001b[A\n",
            "\n",
            "pyswarms.single.global_best:  50%|█████     |50/100, best_cost=-.957\u001b[A\u001b[A\n",
            "\n",
            "pyswarms.single.global_best:  51%|█████     |51/100, best_cost=-.957\u001b[A\u001b[A\n",
            "\n",
            "pyswarms.single.global_best:  51%|█████     |51/100, best_cost=-.957\u001b[A\u001b[A\n",
            "\n",
            "pyswarms.single.global_best:  52%|█████▏    |52/100, best_cost=-.957\u001b[A\u001b[A\n",
            "\n",
            "pyswarms.single.global_best:  52%|█████▏    |52/100, best_cost=-.957\u001b[A\u001b[A\n",
            "\n",
            "pyswarms.single.global_best:  53%|█████▎    |53/100, best_cost=-.957\u001b[A\u001b[A\n",
            "\n",
            "pyswarms.single.global_best:  53%|█████▎    |53/100, best_cost=-.957\u001b[A\u001b[A\n",
            "\n",
            "pyswarms.single.global_best:  54%|█████▍    |54/100, best_cost=-.957\u001b[A\u001b[A\n",
            "\n",
            "pyswarms.single.global_best:  54%|█████▍    |54/100, best_cost=-.957\u001b[A\u001b[A\n",
            "\n",
            "pyswarms.single.global_best:  55%|█████▌    |55/100, best_cost=-.957\u001b[A\u001b[A\n",
            "\n",
            "pyswarms.single.global_best:  55%|█████▌    |55/100, best_cost=-.957\u001b[A\u001b[A\n",
            "\n",
            "pyswarms.single.global_best:  56%|█████▌    |56/100, best_cost=-.957\u001b[A\u001b[A\n",
            "\n",
            "pyswarms.single.global_best:  56%|█████▌    |56/100, best_cost=-.957\u001b[A\u001b[A\n",
            "\n",
            "pyswarms.single.global_best:  57%|█████▋    |57/100, best_cost=-.957\u001b[A\u001b[A\n",
            "\n",
            "pyswarms.single.global_best:  57%|█████▋    |57/100, best_cost=-.957\u001b[A\u001b[A\n",
            "\n",
            "pyswarms.single.global_best:  58%|█████▊    |58/100, best_cost=-.957\u001b[A\u001b[A\n",
            "\n",
            "pyswarms.single.global_best:  58%|█████▊    |58/100, best_cost=-.957\u001b[A\u001b[A\n",
            "\n",
            "pyswarms.single.global_best:  59%|█████▉    |59/100, best_cost=-.957\u001b[A\u001b[A\n",
            "\n",
            "pyswarms.single.global_best:  59%|█████▉    |59/100, best_cost=-.957\u001b[A\u001b[A\n",
            "\n",
            "pyswarms.single.global_best:  60%|██████    |60/100, best_cost=-.957\u001b[A\u001b[A\n",
            "\n",
            "pyswarms.single.global_best:  60%|██████    |60/100, best_cost=-.957\u001b[A\u001b[A\n",
            "\n",
            "pyswarms.single.global_best:  61%|██████    |61/100, best_cost=-.957\u001b[A\u001b[A\n",
            "\n",
            "pyswarms.single.global_best:  61%|██████    |61/100, best_cost=-.957\u001b[A\u001b[A\n",
            "\n",
            "pyswarms.single.global_best:  62%|██████▏   |62/100, best_cost=-.957\u001b[A\u001b[A\n",
            "\n",
            "pyswarms.single.global_best:  62%|██████▏   |62/100, best_cost=-.957\u001b[A\u001b[A\n",
            "\n",
            "pyswarms.single.global_best:  63%|██████▎   |63/100, best_cost=-.957\u001b[A\u001b[A\n",
            "\n",
            "pyswarms.single.global_best:  63%|██████▎   |63/100, best_cost=-.957\u001b[A\u001b[A\n",
            "\n",
            "pyswarms.single.global_best:  64%|██████▍   |64/100, best_cost=-.957\u001b[A\u001b[A\n",
            "\n",
            "pyswarms.single.global_best:  64%|██████▍   |64/100, best_cost=-.957\u001b[A\u001b[A\n",
            "\n",
            "pyswarms.single.global_best:  65%|██████▌   |65/100, best_cost=-.957\u001b[A\u001b[A\n",
            "\n",
            "pyswarms.single.global_best:  65%|██████▌   |65/100, best_cost=-.957\u001b[A\u001b[A\n",
            "\n",
            "pyswarms.single.global_best:  66%|██████▌   |66/100, best_cost=-.957\u001b[A\u001b[A\n",
            "\n",
            "pyswarms.single.global_best:  66%|██████▌   |66/100, best_cost=-.957\u001b[A\u001b[A\n",
            "\n",
            "pyswarms.single.global_best:  67%|██████▋   |67/100, best_cost=-.957\u001b[A\u001b[A\n",
            "\n",
            "pyswarms.single.global_best:  67%|██████▋   |67/100, best_cost=-.957\u001b[A\u001b[A\n",
            "\n",
            "pyswarms.single.global_best:  68%|██████▊   |68/100, best_cost=-.957\u001b[A\u001b[A\n",
            "\n",
            "pyswarms.single.global_best:  68%|██████▊   |68/100, best_cost=-.957\u001b[A\u001b[A\n",
            "\n",
            "pyswarms.single.global_best:  69%|██████▉   |69/100, best_cost=-.957\u001b[A\u001b[A\n",
            "\n",
            "pyswarms.single.global_best:  69%|██████▉   |69/100, best_cost=-.957\u001b[A\u001b[A\n",
            "\n",
            "pyswarms.single.global_best:  70%|███████   |70/100, best_cost=-.957\u001b[A\u001b[A\n",
            "\n",
            "pyswarms.single.global_best:  70%|███████   |70/100, best_cost=-.957\u001b[A\u001b[A\n",
            "\n",
            "pyswarms.single.global_best:  71%|███████   |71/100, best_cost=-.957\u001b[A\u001b[A\n",
            "\n",
            "pyswarms.single.global_best:  71%|███████   |71/100, best_cost=-.957\u001b[A\u001b[A\n",
            "\n",
            "pyswarms.single.global_best:  72%|███████▏  |72/100, best_cost=-.957\u001b[A\u001b[A\n",
            "\n",
            "pyswarms.single.global_best:  72%|███████▏  |72/100, best_cost=-.957\u001b[A\u001b[A\n",
            "\n",
            "pyswarms.single.global_best:  73%|███████▎  |73/100, best_cost=-.957\u001b[A\u001b[A\n",
            "\n",
            "pyswarms.single.global_best:  73%|███████▎  |73/100, best_cost=-.957\u001b[A\u001b[A\n",
            "\n",
            "pyswarms.single.global_best:  74%|███████▍  |74/100, best_cost=-.957\u001b[A\u001b[A\n",
            "\n",
            "pyswarms.single.global_best:  74%|███████▍  |74/100, best_cost=-.957\u001b[A\u001b[A\n",
            "\n",
            "pyswarms.single.global_best:  75%|███████▌  |75/100, best_cost=-.957\u001b[A\u001b[A\n",
            "\n",
            "pyswarms.single.global_best:  75%|███████▌  |75/100, best_cost=-.957\u001b[A\u001b[A\n",
            "\n",
            "pyswarms.single.global_best:  76%|███████▌  |76/100, best_cost=-.957\u001b[A\u001b[A\n",
            "\n",
            "pyswarms.single.global_best:  76%|███████▌  |76/100, best_cost=-.957\u001b[A\u001b[A\n",
            "\n",
            "pyswarms.single.global_best:  77%|███████▋  |77/100, best_cost=-.957\u001b[A\u001b[A\n",
            "\n",
            "pyswarms.single.global_best:  77%|███████▋  |77/100, best_cost=-.957\u001b[A\u001b[A\n",
            "\n",
            "pyswarms.single.global_best:  78%|███████▊  |78/100, best_cost=-.957\u001b[A\u001b[A\n",
            "\n",
            "pyswarms.single.global_best:  78%|███████▊  |78/100, best_cost=-.957\u001b[A\u001b[A\n",
            "\n",
            "pyswarms.single.global_best:  79%|███████▉  |79/100, best_cost=-.957\u001b[A\u001b[A\n",
            "\n",
            "pyswarms.single.global_best:  79%|███████▉  |79/100, best_cost=-.957\u001b[A\u001b[A\n",
            "\n",
            "pyswarms.single.global_best:  80%|████████  |80/100, best_cost=-.957\u001b[A\u001b[A\n",
            "\n",
            "pyswarms.single.global_best:  80%|████████  |80/100, best_cost=-.957\u001b[A\u001b[A\n",
            "\n",
            "pyswarms.single.global_best:  81%|████████  |81/100, best_cost=-.957\u001b[A\u001b[A\n",
            "\n",
            "pyswarms.single.global_best:  81%|████████  |81/100, best_cost=-.957\u001b[A\u001b[A\n",
            "\n",
            "pyswarms.single.global_best:  82%|████████▏ |82/100, best_cost=-.957\u001b[A\u001b[A\n",
            "\n",
            "pyswarms.single.global_best:  82%|████████▏ |82/100, best_cost=-.957\u001b[A\u001b[A\n",
            "\n",
            "pyswarms.single.global_best:  83%|████████▎ |83/100, best_cost=-.957\u001b[A\u001b[A\n",
            "\n",
            "pyswarms.single.global_best:  83%|████████▎ |83/100, best_cost=-.957\u001b[A\u001b[A\n",
            "\n",
            "pyswarms.single.global_best:  84%|████████▍ |84/100, best_cost=-.957\u001b[A\u001b[A\n",
            "\n",
            "pyswarms.single.global_best:  84%|████████▍ |84/100, best_cost=-.957\u001b[A\u001b[A\n",
            "\n",
            "pyswarms.single.global_best:  85%|████████▌ |85/100, best_cost=-.957\u001b[A\u001b[A\n",
            "\n",
            "pyswarms.single.global_best:  85%|████████▌ |85/100, best_cost=-.957\u001b[A\u001b[A\n",
            "\n",
            "pyswarms.single.global_best:  86%|████████▌ |86/100, best_cost=-.957\u001b[A\u001b[A\n",
            "\n",
            "pyswarms.single.global_best:  86%|████████▌ |86/100, best_cost=-.957\u001b[A\u001b[A\n",
            "\n",
            "pyswarms.single.global_best:  87%|████████▋ |87/100, best_cost=-.957\u001b[A\u001b[A\n",
            "\n",
            "pyswarms.single.global_best:  87%|████████▋ |87/100, best_cost=-.957\u001b[A\u001b[A\n",
            "\n",
            "pyswarms.single.global_best:  88%|████████▊ |88/100, best_cost=-.957\u001b[A\u001b[A\n",
            "\n",
            "pyswarms.single.global_best:  88%|████████▊ |88/100, best_cost=-.957\u001b[A\u001b[A\n",
            "\n",
            "pyswarms.single.global_best:  89%|████████▉ |89/100, best_cost=-.957\u001b[A\u001b[A\n",
            "\n",
            "pyswarms.single.global_best:  89%|████████▉ |89/100, best_cost=-.957\u001b[A\u001b[A\n",
            "\n",
            "pyswarms.single.global_best:  90%|█████████ |90/100, best_cost=-.957\u001b[A\u001b[A\n",
            "\n",
            "pyswarms.single.global_best:  90%|█████████ |90/100, best_cost=-.957\u001b[A\u001b[A\n",
            "\n",
            "pyswarms.single.global_best:  91%|█████████ |91/100, best_cost=-.957\u001b[A\u001b[A\n",
            "\n",
            "pyswarms.single.global_best:  91%|█████████ |91/100, best_cost=-.957\u001b[A\u001b[A\n",
            "\n",
            "pyswarms.single.global_best:  92%|█████████▏|92/100, best_cost=-.957\u001b[A\u001b[A\n",
            "\n",
            "pyswarms.single.global_best:  92%|█████████▏|92/100, best_cost=-.957\u001b[A\u001b[A\n",
            "\n",
            "pyswarms.single.global_best:  93%|█████████▎|93/100, best_cost=-.957\u001b[A\u001b[A\n",
            "\n",
            "pyswarms.single.global_best:  93%|█████████▎|93/100, best_cost=-.957\u001b[A\u001b[A\n",
            "\n",
            "pyswarms.single.global_best:  94%|█████████▍|94/100, best_cost=-.957\u001b[A\u001b[A\n",
            "\n",
            "pyswarms.single.global_best:  94%|█████████▍|94/100, best_cost=-.957\u001b[A\u001b[A\n",
            "\n",
            "pyswarms.single.global_best:  95%|█████████▌|95/100, best_cost=-.957\u001b[A\u001b[A\n",
            "\n",
            "pyswarms.single.global_best:  95%|█████████▌|95/100, best_cost=-.957\u001b[A\u001b[A\n",
            "\n",
            "pyswarms.single.global_best:  96%|█████████▌|96/100, best_cost=-.957\u001b[A\u001b[A\n",
            "\n",
            "pyswarms.single.global_best:  96%|█████████▌|96/100, best_cost=-.957\u001b[A\u001b[A\n",
            "\n",
            "pyswarms.single.global_best:  97%|█████████▋|97/100, best_cost=-.957\u001b[A\u001b[A\n",
            "\n",
            "pyswarms.single.global_best:  97%|█████████▋|97/100, best_cost=-.957\u001b[A\u001b[A\n",
            "\n",
            "pyswarms.single.global_best:  98%|█████████▊|98/100, best_cost=-.957\u001b[A\u001b[A\n",
            "\n",
            "pyswarms.single.global_best:  98%|█████████▊|98/100, best_cost=-.957\u001b[A\u001b[A\n",
            "\n",
            "pyswarms.single.global_best:  99%|█████████▉|99/100, best_cost=-.957\u001b[A\u001b[A\n",
            "\n",
            "pyswarms.single.global_best:  99%|█████████▉|99/100, best_cost=-.957\u001b[A\u001b[A\n",
            "\n",
            "pyswarms.single.global_best: 100%|██████████|100/100, best_cost=-.957\n",
            "2021-04-15 05:09:41,762 - pyswarms.single.global_best - INFO - Optimization finished | best cost: -0.9565107857030388, best pos: [42.25305994  0.10274606]\n"
          ],
          "name": "stderr"
        }
      ]
    },
    {
      "cell_type": "markdown",
      "metadata": {
        "id": "uomDOfvu3Uk_"
      },
      "source": [
        "---\n",
        "#7. Verificar os resultados da otimização\n",
        "\n",
        "Nessa subseção, vamos ver os resultados da otimização, avaliar os HP retornados, e plotar algumas informações adicionais que podem ser úteis para entender o problema."
      ]
    },
    {
      "cell_type": "code",
      "metadata": {
        "colab": {
          "base_uri": "https://localhost:8080/"
        },
        "id": "NW8RMVSj6Uns",
        "outputId": "18add8a9-4a0b-42de-e579-f60699b14308"
      },
      "source": [
        "# Imprimindo a melhor solução encontrada pela otimização (PSO)\n",
        "print(\"Particle = \", pos)         # melhores HPs [C, gamma] no conjunto de treinamento\n",
        "print(\"Acc = \", -round(cost,5))   # acurácia de treinamento"
      ],
      "execution_count": 263,
      "outputs": [
        {
          "output_type": "stream",
          "text": [
            "Particle =  [42.25305994  0.10274606]\n",
            "Acc =  0.95651\n"
          ],
          "name": "stdout"
        }
      ]
    },
    {
      "cell_type": "code",
      "metadata": {
        "colab": {
          "base_uri": "https://localhost:8080/"
        },
        "id": "z883WGsM59pp",
        "outputId": "48bb605b-26e1-4266-a32c-ba3f4de52d81"
      },
      "source": [
        "results_df = pd.DataFrame(results_dict)\n",
        "print(results_df)"
      ],
      "execution_count": 264,
      "outputs": [
        {
          "output_type": "stream",
          "text": [
            "      seed          C     gamma       acc\n",
            "0       42  37.352687  9.932391  0.475972\n",
            "1       42  99.481355  1.236384  0.855818\n",
            "2       42  72.599618  0.612280  0.844387\n",
            "3       42   3.028900  1.142806  0.848953\n",
            "4       42  96.548911  9.414549  0.475972\n",
            "...    ...        ...       ...       ...\n",
            "6995    42  41.644989  5.344142  0.501102\n",
            "6996    42  38.089744  3.803416  0.819084\n",
            "6997    42  43.825410  5.329997  0.501102\n",
            "6998    42  36.823893  3.923049  0.814517\n",
            "6999    42  44.239194  4.069540  0.798536\n",
            "\n",
            "[7000 rows x 4 columns]\n"
          ],
          "name": "stdout"
        }
      ]
    },
    {
      "cell_type": "code",
      "metadata": {
        "id": "HVLrOyi7x4yL"
      },
      "source": [
        "# Algumas opções do pyswarms para verificar o histórico da execução\n",
        "# 1. Obtain the cost history\n",
        "# optimizer.cost_history\n",
        "# 2. Obtain the position history\n",
        "# optimizer.pos_history\n",
        "# 3. Obtain the velocity history\n",
        "# optimizer.velocity_history"
      ],
      "execution_count": 265,
      "outputs": []
    },
    {
      "cell_type": "code",
      "metadata": {
        "colab": {
          "base_uri": "https://localhost:8080/",
          "height": 513
        },
        "id": "lkfT_4hcFnMu",
        "outputId": "e8a37c90-10b1-49c4-ea5c-f73e6d3b87b3"
      },
      "source": [
        "# plotar a convergência da otimização e se conseguimos melhorar as SVMs\n",
        "plot_cost_history(optimizer.cost_history)\n",
        "plt.show()"
      ],
      "execution_count": 266,
      "outputs": [
        {
          "output_type": "display_data",
          "data": {
            "image/png": "[encoded data removed]",
            "text/plain": [
              "<Figure size 720x576 with 1 Axes>"
            ]
          },
          "metadata": {
            "tags": [],
            "needs_background": "light"
          }
        }
      ]
    },
    {
      "cell_type": "code",
      "metadata": {
        "colab": {
          "base_uri": "https://localhost:8080/"
        },
        "id": "OSOcIClmNCa3",
        "outputId": "ec3e1885-8300-4043-bf84-74caa22f38bc"
      },
      "source": [
        "# Testando os melhores HP obtidos pelo PSO\n",
        "\n",
        "# criando uma SVM\n",
        "clf = SVC()\n",
        "# atribuindo os HPs que encontramos\n",
        "clf.set_params(**{'C': pos[0], 'gamma': pos[1]})\n",
        "# treinando o algoritmo no conjunto de treinamento\n",
        "clf.fit(X_train, y_train)"
      ],
      "execution_count": 267,
      "outputs": [
        {
          "output_type": "execute_result",
          "data": {
            "text/plain": [
              "SVC(C=42.25305993512952, break_ties=False, cache_size=200, class_weight=None,\n",
              "    coef0=0.0, decision_function_shape='ovr', degree=3,\n",
              "    gamma=0.10274605755697663, kernel='rbf', max_iter=-1, probability=False,\n",
              "    random_state=None, shrinking=True, tol=0.001, verbose=False)"
            ]
          },
          "metadata": {
            "tags": []
          },
          "execution_count": 267
        }
      ]
    },
    {
      "cell_type": "code",
      "metadata": {
        "colab": {
          "base_uri": "https://localhost:8080/"
        },
        "id": "vDtMK80KOEew",
        "outputId": "e5dbb4d7-8ecf-4e4d-d033-40b7fe332593"
      },
      "source": [
        "# Repetindo o tratamento realizado no conjunto de treinamento, mas agora\n",
        "# no conjunto de teste: separando em X_test (atributos descritivos) e y_test (label)\n",
        "seq = list(range(0, len(data_test.columns)-1))\n",
        "X_test = data_test.iloc[:, seq]\n",
        "X_test.head()\n",
        "\n",
        "idx = len(data_test.columns)-1\n",
        "y_test = data_test.iloc[:,idx]\n",
        "y_test = y_test.values.ravel()\n",
        "\n",
        "print(y_test)"
      ],
      "execution_count": 268,
      "outputs": [
        {
          "output_type": "stream",
          "text": [
            "[2 0 0 2 0 0 2 0 0 2 2 2 0 1 0 0 2 2 2 1 2 2 2 0 0 0 2 0 0 2 0 2 2 0 2 0 0\n",
            " 0 0 2 1 2 2 0 2 1 1 2 1 2 0 0 2 2 0 0 2 0 0 1 0 0 2 2 0 0 2 2 0 0 2 2 2 2\n",
            " 2 0 0 2 0 2 2 1 2 0 2 1 0 0 2 0 0 0 2 0 0 2 2 2 2 2 0 1 2 2 0 1 0 2 2 0 2\n",
            " 0 2 2 0 2 0 0 0 0 2 2 0 2 2 2 2 2 1 2 0 0 1 2 0 0 0 2 0 0 0 2 2 2 0 2 2 0\n",
            " 2 2 2 2 2 0 2 2 1 0 1 0 0 2 2 0 0 0 2 0 2 1 0 2 2 2 1 0 0 0 2 0 2 1 0 2 2\n",
            " 2 2 0]\n"
          ],
          "name": "stdout"
        }
      ]
    },
    {
      "cell_type": "code",
      "metadata": {
        "colab": {
          "base_uri": "https://localhost:8080/"
        },
        "id": "b0JD1FrxN0G-",
        "outputId": "b9eba9df-6e98-4224-82cb-12c6bb1816ed"
      },
      "source": [
        "# realizando as predições para o conjunto de teste, \n",
        "#  e estimando a peformance da SVM tunada\n",
        "y_pred = clf.predict(X_test)\n",
        "print(\"Acc test = \", balanced_accuracy_score(y_test, y_pred))"
      ],
      "execution_count": 269,
      "outputs": [
        {
          "output_type": "stream",
          "text": [
            "Acc test =  0.8740740740740741\n"
          ],
          "name": "stdout"
        }
      ]
    },
    {
      "cell_type": "code",
      "metadata": {
        "colab": {
          "base_uri": "https://localhost:8080/",
          "height": 160
        },
        "id": "EL-PzX1VOa_C",
        "outputId": "3f3161f8-405a-4382-82b3-a37568601b66"
      },
      "source": [
        "# Comparando predicoes e labels reais, exemplo por exemplo, no conjunto de teste\n",
        "df = pd.DataFrame(np.array([y_pred, y_test]))\n",
        "df = df.rename(index = {0:\"y_pred\", 1:\"y_test\"})\n",
        "df"
      ],
      "execution_count": 270,
      "outputs": [
        {
          "output_type": "execute_result",
          "data": {
            "text/html": [
              "<div>\n",
              "<style scoped>\n",
              "    .dataframe tbody tr th:only-of-type {\n",
              "        vertical-align: middle;\n",
              "    }\n",
              "\n",
              "    .dataframe tbody tr th {\n",
              "        vertical-align: top;\n",
              "    }\n",
              "\n",
              "    .dataframe thead th {\n",
              "        text-align: right;\n",
              "    }\n",
              "</style>\n",
              "<table border=\"1\" class=\"dataframe\">\n",
              "  <thead>\n",
              "    <tr style=\"text-align: right;\">\n",
              "      <th></th>\n",
              "      <th>0</th>\n",
              "      <th>1</th>\n",
              "      <th>2</th>\n",
              "      <th>3</th>\n",
              "      <th>4</th>\n",
              "      <th>5</th>\n",
              "      <th>6</th>\n",
              "      <th>7</th>\n",
              "      <th>8</th>\n",
              "      <th>9</th>\n",
              "      <th>10</th>\n",
              "      <th>11</th>\n",
              "      <th>12</th>\n",
              "      <th>13</th>\n",
              "      <th>14</th>\n",
              "      <th>15</th>\n",
              "      <th>16</th>\n",
              "      <th>17</th>\n",
              "      <th>18</th>\n",
              "      <th>19</th>\n",
              "      <th>20</th>\n",
              "      <th>21</th>\n",
              "      <th>22</th>\n",
              "      <th>23</th>\n",
              "      <th>24</th>\n",
              "      <th>25</th>\n",
              "      <th>26</th>\n",
              "      <th>27</th>\n",
              "      <th>28</th>\n",
              "      <th>29</th>\n",
              "      <th>30</th>\n",
              "      <th>31</th>\n",
              "      <th>32</th>\n",
              "      <th>33</th>\n",
              "      <th>34</th>\n",
              "      <th>35</th>\n",
              "      <th>36</th>\n",
              "      <th>37</th>\n",
              "      <th>38</th>\n",
              "      <th>39</th>\n",
              "      <th>...</th>\n",
              "      <th>148</th>\n",
              "      <th>149</th>\n",
              "      <th>150</th>\n",
              "      <th>151</th>\n",
              "      <th>152</th>\n",
              "      <th>153</th>\n",
              "      <th>154</th>\n",
              "      <th>155</th>\n",
              "      <th>156</th>\n",
              "      <th>157</th>\n",
              "      <th>158</th>\n",
              "      <th>159</th>\n",
              "      <th>160</th>\n",
              "      <th>161</th>\n",
              "      <th>162</th>\n",
              "      <th>163</th>\n",
              "      <th>164</th>\n",
              "      <th>165</th>\n",
              "      <th>166</th>\n",
              "      <th>167</th>\n",
              "      <th>168</th>\n",
              "      <th>169</th>\n",
              "      <th>170</th>\n",
              "      <th>171</th>\n",
              "      <th>172</th>\n",
              "      <th>173</th>\n",
              "      <th>174</th>\n",
              "      <th>175</th>\n",
              "      <th>176</th>\n",
              "      <th>177</th>\n",
              "      <th>178</th>\n",
              "      <th>179</th>\n",
              "      <th>180</th>\n",
              "      <th>181</th>\n",
              "      <th>182</th>\n",
              "      <th>183</th>\n",
              "      <th>184</th>\n",
              "      <th>185</th>\n",
              "      <th>186</th>\n",
              "      <th>187</th>\n",
              "    </tr>\n",
              "  </thead>\n",
              "  <tbody>\n",
              "    <tr>\n",
              "      <th>y_pred</th>\n",
              "      <td>2</td>\n",
              "      <td>0</td>\n",
              "      <td>0</td>\n",
              "      <td>1</td>\n",
              "      <td>0</td>\n",
              "      <td>0</td>\n",
              "      <td>2</td>\n",
              "      <td>0</td>\n",
              "      <td>0</td>\n",
              "      <td>2</td>\n",
              "      <td>2</td>\n",
              "      <td>2</td>\n",
              "      <td>0</td>\n",
              "      <td>1</td>\n",
              "      <td>0</td>\n",
              "      <td>0</td>\n",
              "      <td>2</td>\n",
              "      <td>1</td>\n",
              "      <td>1</td>\n",
              "      <td>1</td>\n",
              "      <td>2</td>\n",
              "      <td>2</td>\n",
              "      <td>2</td>\n",
              "      <td>0</td>\n",
              "      <td>0</td>\n",
              "      <td>0</td>\n",
              "      <td>2</td>\n",
              "      <td>0</td>\n",
              "      <td>0</td>\n",
              "      <td>1</td>\n",
              "      <td>0</td>\n",
              "      <td>2</td>\n",
              "      <td>2</td>\n",
              "      <td>0</td>\n",
              "      <td>2</td>\n",
              "      <td>0</td>\n",
              "      <td>0</td>\n",
              "      <td>0</td>\n",
              "      <td>0</td>\n",
              "      <td>2</td>\n",
              "      <td>...</td>\n",
              "      <td>2</td>\n",
              "      <td>2</td>\n",
              "      <td>2</td>\n",
              "      <td>2</td>\n",
              "      <td>2</td>\n",
              "      <td>0</td>\n",
              "      <td>0</td>\n",
              "      <td>2</td>\n",
              "      <td>1</td>\n",
              "      <td>0</td>\n",
              "      <td>0</td>\n",
              "      <td>0</td>\n",
              "      <td>0</td>\n",
              "      <td>2</td>\n",
              "      <td>2</td>\n",
              "      <td>0</td>\n",
              "      <td>0</td>\n",
              "      <td>0</td>\n",
              "      <td>2</td>\n",
              "      <td>0</td>\n",
              "      <td>2</td>\n",
              "      <td>1</td>\n",
              "      <td>0</td>\n",
              "      <td>2</td>\n",
              "      <td>2</td>\n",
              "      <td>2</td>\n",
              "      <td>1</td>\n",
              "      <td>0</td>\n",
              "      <td>0</td>\n",
              "      <td>0</td>\n",
              "      <td>2</td>\n",
              "      <td>0</td>\n",
              "      <td>2</td>\n",
              "      <td>2</td>\n",
              "      <td>0</td>\n",
              "      <td>2</td>\n",
              "      <td>0</td>\n",
              "      <td>2</td>\n",
              "      <td>2</td>\n",
              "      <td>0</td>\n",
              "    </tr>\n",
              "    <tr>\n",
              "      <th>y_test</th>\n",
              "      <td>2</td>\n",
              "      <td>0</td>\n",
              "      <td>0</td>\n",
              "      <td>2</td>\n",
              "      <td>0</td>\n",
              "      <td>0</td>\n",
              "      <td>2</td>\n",
              "      <td>0</td>\n",
              "      <td>0</td>\n",
              "      <td>2</td>\n",
              "      <td>2</td>\n",
              "      <td>2</td>\n",
              "      <td>0</td>\n",
              "      <td>1</td>\n",
              "      <td>0</td>\n",
              "      <td>0</td>\n",
              "      <td>2</td>\n",
              "      <td>2</td>\n",
              "      <td>2</td>\n",
              "      <td>1</td>\n",
              "      <td>2</td>\n",
              "      <td>2</td>\n",
              "      <td>2</td>\n",
              "      <td>0</td>\n",
              "      <td>0</td>\n",
              "      <td>0</td>\n",
              "      <td>2</td>\n",
              "      <td>0</td>\n",
              "      <td>0</td>\n",
              "      <td>2</td>\n",
              "      <td>0</td>\n",
              "      <td>2</td>\n",
              "      <td>2</td>\n",
              "      <td>0</td>\n",
              "      <td>2</td>\n",
              "      <td>0</td>\n",
              "      <td>0</td>\n",
              "      <td>0</td>\n",
              "      <td>0</td>\n",
              "      <td>2</td>\n",
              "      <td>...</td>\n",
              "      <td>2</td>\n",
              "      <td>2</td>\n",
              "      <td>2</td>\n",
              "      <td>2</td>\n",
              "      <td>2</td>\n",
              "      <td>0</td>\n",
              "      <td>2</td>\n",
              "      <td>2</td>\n",
              "      <td>1</td>\n",
              "      <td>0</td>\n",
              "      <td>1</td>\n",
              "      <td>0</td>\n",
              "      <td>0</td>\n",
              "      <td>2</td>\n",
              "      <td>2</td>\n",
              "      <td>0</td>\n",
              "      <td>0</td>\n",
              "      <td>0</td>\n",
              "      <td>2</td>\n",
              "      <td>0</td>\n",
              "      <td>2</td>\n",
              "      <td>1</td>\n",
              "      <td>0</td>\n",
              "      <td>2</td>\n",
              "      <td>2</td>\n",
              "      <td>2</td>\n",
              "      <td>1</td>\n",
              "      <td>0</td>\n",
              "      <td>0</td>\n",
              "      <td>0</td>\n",
              "      <td>2</td>\n",
              "      <td>0</td>\n",
              "      <td>2</td>\n",
              "      <td>1</td>\n",
              "      <td>0</td>\n",
              "      <td>2</td>\n",
              "      <td>2</td>\n",
              "      <td>2</td>\n",
              "      <td>2</td>\n",
              "      <td>0</td>\n",
              "    </tr>\n",
              "  </tbody>\n",
              "</table>\n",
              "<p>2 rows × 188 columns</p>\n",
              "</div>"
            ],
            "text/plain": [
              "        0    1    2    3    4    5    6    ...  181  182  183  184  185  186  187\n",
              "y_pred    2    0    0    1    0    0    2  ...    2    0    2    0    2    2    0\n",
              "y_test    2    0    0    2    0    0    2  ...    1    0    2    2    2    2    0\n",
              "\n",
              "[2 rows x 188 columns]"
            ]
          },
          "metadata": {
            "tags": []
          },
          "execution_count": 270
        }
      ]
    },
    {
      "cell_type": "code",
      "metadata": {
        "colab": {
          "base_uri": "https://localhost:8080/",
          "height": 281
        },
        "id": "rnXhVvqGp1j2",
        "outputId": "d38bd20b-f38c-4df7-c021-720353bcc0cb"
      },
      "source": [
        "# Podemos também plotar a matriz de confusão da nossa SVM tunada\n",
        "plot_confusion_matrix(clf, X_test, y_test)  \n",
        "plt.show()  "
      ],
      "execution_count": 271,
      "outputs": [
        {
          "output_type": "display_data",
          "data": {
            "image/png": "[encoded data removed]",
            "text/plain": [
              "<Figure size 432x288 with 2 Axes>"
            ]
          },
          "metadata": {
            "tags": [],
            "needs_background": "light"
          }
        }
      ]
    },
    {
      "cell_type": "code",
      "metadata": {
        "colab": {
          "base_uri": "https://localhost:8080/",
          "height": 297
        },
        "id": "RaMY1b2tqaVj",
        "outputId": "abe36f8f-4532-4cbd-c604-d1522e82303b"
      },
      "source": [
        "#E por fim comparar as posições das partículas no Hiperespaço dos HPs\n",
        "# - posicoes iniciais\n",
        "# - posicões finais\n",
        "\n",
        "plt.figure(figsize=(8, 4))\n",
        "\n",
        "# initial population sub-plot\n",
        "plt.subplot(1,2,1)\n",
        "initial_pos = results_df.iloc[0:n_particles,:]\n",
        "plt.scatter(x=initial_pos['C'], y=initial_pos['gamma'], color=\"black\")\n",
        "plt.xlim(bounds[0][0], bounds[1][0]) \n",
        "plt.ylim(bounds[0][1], bounds[1][1])\n",
        "plt.title(\"Initial positions\")\n",
        "\n",
        "# final population sub-plot\n",
        "plt.subplot(1,2,2)\n",
        "final_pos   = results_df.iloc[((iters-1)*n_particles):(n_particles*iters), :]\n",
        "plt.scatter(x=final_pos['C'], y=final_pos['gamma'], color=\"black\")\n",
        "plt.scatter(x=pos[0], y=pos[1], color=\"red\")\n",
        "plt.title(\"Final positions\")\n",
        "plt.xlim(bounds[0][0], bounds[1][0]) \n",
        "plt.ylim(bounds[0][1], bounds[1][1])\n",
        "\n",
        "plt.tight_layout() \n",
        "plt.show()"
      ],
      "execution_count": 272,
      "outputs": [
        {
          "output_type": "display_data",
          "data": {
            "image/png": "[encoded data removed]",
            "text/plain": [
              "<Figure size 576x288 with 2 Axes>"
            ]
          },
          "metadata": {
            "tags": [],
            "needs_background": "light"
          }
        }
      ]
    },
    {
      "cell_type": "markdown",
      "metadata": {
        "id": "_Ufudt4M7oj5"
      },
      "source": [
        "---\n",
        "# Considerações finais\n",
        "\n",
        "A estrutura desse *notebook* permite adaptar o problema para realizar o tuning de diferentes algoritmos de ML. Além disso, o PSO também pode ser aplicado para realizar a seleção de atributos, principalmente em problemas que sofre da maldição da dimensionalidade (muitos atributos/colunas). Nesse caso, a função objetivo (fitness) ao invés de testar diferentes HPs irá gerar diferentes combinações de colunas do dataset original, e avaliar o algoritmo nesse novo subset. Dessa forma, o otimizador (PSO), irá tentar maximizar a peformance no conjunto de treinamento. A implementação em si não sofre grandes mofificações, e fica como exercício.\n",
        "\n",
        "Bons estudos :)"
      ]
    }
  ]
}
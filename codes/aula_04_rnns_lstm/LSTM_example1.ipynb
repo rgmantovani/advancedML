{
  "nbformat": 4,
  "nbformat_minor": 0,
  "metadata": {
    "colab": {
      "name": "LSTM_example1.ipynb",
      "provenance": [],
      "collapsed_sections": [],
      "authorship_tag": "ABX9TyN69o4OA1rxsIG8k0pcItmq",
      "include_colab_link": true
    },
    "kernelspec": {
      "name": "python3",
      "display_name": "Python 3"
    },
    "language_info": {
      "name": "python"
    }
  },
  "cells": [
    {
      "cell_type": "markdown",
      "metadata": {
        "id": "view-in-github",
        "colab_type": "text"
      },
      "source": [
        "<a href=\"https://colab.research.google.com/github/rgmantovani/advancedML/blob/master/codes/aula_04_rnns_ltsm/LSTM_example1.ipynb\" target=\"_parent\"><img src=\"https://colab.research.google.com/assets/colab-badge.svg\" alt=\"Open In Colab\"/></a>"
      ]
    },
    {
      "cell_type": "markdown",
      "metadata": {
        "id": "tjPzg2y05g20"
      },
      "source": [
        "# Uso de Deep Learning para Séries Temporais (LSTMs)\n",
        "\n",
        "Disciplina: Métodos e Modelos Avançados em Ciência de Dados\n",
        "\n",
        "Especialização em Ciência de Dados - Universidade Tecnologica Federal do Paraná\n",
        "\n",
        "Aula 04: RNNs e LSTMs\n",
        "\n",
        "Exemplo 01: Executando LSTM para série temporal univariada (shampoo)\n",
        "\n",
        "---"
      ]
    },
    {
      "cell_type": "code",
      "metadata": {
        "id": "pfOCE3ROwsWG"
      },
      "source": [
        "# importando as bibliotecas necessárias para rodar o script\n",
        "\n",
        "# manipulação de números de ponto flutuante\n",
        "import numpy as np\n",
        "\n",
        "# plotagem de gráficos\n",
        "import matplotlib.pyplot as plt\n",
        "\n",
        "# criação manipulação de data frames\n",
        "import pandas as pd\n",
        "\n",
        "# funções matemáticas\n",
        "import math\n",
        "\n",
        "# criação dos modelos de DL\n",
        "from keras.models import Sequential\n",
        "\n",
        "from keras.layers import Dense\n",
        "from keras.layers import LSTM\n",
        "\n",
        "# preprocessador - escalar os dados\n",
        "from sklearn.preprocessing import MinMaxScaler\n",
        "\n",
        "# metrica de desempenho (MSE)\n",
        "from sklearn.metrics import mean_squared_error"
      ],
      "execution_count": 24,
      "outputs": []
    },
    {
      "cell_type": "code",
      "metadata": {
        "id": "KK8RvbGVxCIN"
      },
      "source": [
        "# definir um seed para reprodução dos experimentos\n",
        "np.random.seed(42)"
      ],
      "execution_count": 25,
      "outputs": []
    },
    {
      "cell_type": "code",
      "metadata": {
        "colab": {
          "base_uri": "https://localhost:8080/"
        },
        "id": "l86H0BVQxKdF",
        "outputId": "078923dc-60f1-4746-fc24-286bd944e96d"
      },
      "source": [
        "# obter dataset --> https://github.com/jbrownlee/Datasets\n",
        "# Exemplo: shampoo, venda de shampoos ao longo de três anos\n",
        "url = \"https://raw.githubusercontent.com/jbrownlee/Datasets/master/shampoo.csv\"\n",
        "\n",
        "# ler como data frame (via pandas)\n",
        "dataframe = pd.read_csv(url, header=0, usecols=[1])\n",
        "dataset = dataframe.values\n",
        "dataset = dataset.astype('float32')\n",
        "\n",
        "# vislumbrar um pedaço dos dados e formato lido\n",
        "print(\"\\n* Dimensão dos dados:\", dataset.shape) \n",
        "# 36 amostras/instâncias, univariadas (um único valor real)\n",
        "print(\"* Dados originais:\")\n",
        "print(dataset[:10])"
      ],
      "execution_count": 26,
      "outputs": [
        {
          "output_type": "stream",
          "text": [
            "\n",
            "* Dimensão dos dados: (36, 1)\n",
            "* Dados originais:\n",
            "[[266. ]\n",
            " [145.9]\n",
            " [183.1]\n",
            " [119.3]\n",
            " [180.3]\n",
            " [168.5]\n",
            " [231.8]\n",
            " [224.5]\n",
            " [192.8]\n",
            " [122.9]]\n"
          ],
          "name": "stdout"
        }
      ]
    },
    {
      "cell_type": "code",
      "metadata": {
        "colab": {
          "base_uri": "https://localhost:8080/",
          "height": 283
        },
        "id": "gCy6iEPmxZI9",
        "outputId": "a60bbc4a-4d53-4a38-d2a8-e5d082781c96"
      },
      "source": [
        "# plotar os dados para visualizar a nossa time series\n",
        "plt.plot(dataset, linestyle='--', marker='o', color='b')"
      ],
      "execution_count": 27,
      "outputs": [
        {
          "output_type": "execute_result",
          "data": {
            "text/plain": [
              "[<matplotlib.lines.Line2D at 0x7f8b58964950>]"
            ]
          },
          "metadata": {
            "tags": []
          },
          "execution_count": 27
        },
        {
          "output_type": "display_data",
          "data": {
            "image/png": "[encoded data removed]",
            "text/plain": [
              "<Figure size 432x288 with 1 Axes>"
            ]
          },
          "metadata": {
            "tags": [],
            "needs_background": "light"
          }
        }
      ]
    },
    {
      "cell_type": "markdown",
      "metadata": {
        "id": "ZHaCJEg87Vva"
      },
      "source": [
        "Temos dados com valores variados, mas precisamos escalar a série temporal no intervalo [-1,+1], que é o intervalo de saída da função de ativação que usaremos. "
      ]
    },
    {
      "cell_type": "code",
      "metadata": {
        "colab": {
          "base_uri": "https://localhost:8080/"
        },
        "id": "EDliZkduxgfC",
        "outputId": "f29ed25d-de51-402d-91ad-d5f452ced592"
      },
      "source": [
        "# Normalizando os dados\n",
        "\n",
        "# escalar os dados no intervalo [-1,1] usando sklearn\n",
        "# from sklearn.preprocessing import MinMaxScaler\n",
        "\n",
        "scaler = MinMaxScaler(feature_range=(-1, 1))\n",
        "dataset = scaler.fit_transform(dataset)\n",
        "\n",
        "print(\"* Dados escalados:\")\n",
        "print(dataset[:10].transpose())"
      ],
      "execution_count": 28,
      "outputs": [
        {
          "output_type": "stream",
          "text": [
            "* Dados escalados:\n",
            "[[-0.47858536 -0.9054558  -0.7732361  -0.99999994 -0.78318816 -0.8251288\n",
            "  -0.6001421  -0.62608844 -0.7387595  -0.9872045 ]]\n"
          ],
          "name": "stdout"
        }
      ]
    },
    {
      "cell_type": "code",
      "metadata": {
        "colab": {
          "base_uri": "https://localhost:8080/",
          "height": 282
        },
        "id": "JqkdpkxZxkvy",
        "outputId": "735e9b22-6360-4061-d992-66fe019746f3"
      },
      "source": [
        "# visualizar nossos dados escalados\n",
        "# Obs: prestar atenção ao eixo Y, agora varia entre [-1,+1]\n",
        "plt.plot(dataset, linestyle='--', marker='o', color='b')"
      ],
      "execution_count": 29,
      "outputs": [
        {
          "output_type": "execute_result",
          "data": {
            "text/plain": [
              "[<matplotlib.lines.Line2D at 0x7f8b592cc950>]"
            ]
          },
          "metadata": {
            "tags": []
          },
          "execution_count": 29
        },
        {
          "output_type": "display_data",
          "data": {
            "image/png": "[encoded data removed]",
            "text/plain": [
              "<Figure size 432x288 with 1 Axes>"
            ]
          },
          "metadata": {
            "tags": [],
            "needs_background": "light"
          }
        }
      ]
    },
    {
      "cell_type": "code",
      "metadata": {
        "id": "DiSRT_HTxrjs"
      },
      "source": [
        "# funcao auxiliar para criar os itervalos de previsao\n",
        "def create_dataset(dataset, janela_previsao=1):\n",
        "    dataX, dataY = [], []\n",
        "    for i in range(len(dataset)-janela_previsao-1):\n",
        "        a = dataset[i:(i+janela_previsao), 0]\n",
        "        dataX.append(a)\n",
        "        dataY.append(dataset[i + janela_previsao, 0])\n",
        "    return np.array(dataX), np.array(dataY)"
      ],
      "execution_count": 30,
      "outputs": []
    },
    {
      "cell_type": "code",
      "metadata": {
        "colab": {
          "base_uri": "https://localhost:8080/"
        },
        "id": "h6BRyqwSxwYA",
        "outputId": "d29f61c4-11b1-4fe5-ee84-19e5f444fc9f"
      },
      "source": [
        "# Ajustando conjunto de treino e teste\n",
        "# 85% dos exemplos no treino, 15% no teste\n",
        "train_size = int(len(dataset) * 0.85)\n",
        "test_size  = len(dataset) - train_size\n",
        "\n",
        "#print(train_size, test_size)\n",
        "print(\"- Numero de instâncias treino: \", train_size)\n",
        "print(\"- Numero de instâncias teste: \", test_size)"
      ],
      "execution_count": 31,
      "outputs": [
        {
          "output_type": "stream",
          "text": [
            "- Numero de instâncias treino:  30\n",
            "- Numero de instâncias teste:  6\n"
          ],
          "name": "stdout"
        }
      ]
    },
    {
      "cell_type": "code",
      "metadata": {
        "colab": {
          "base_uri": "https://localhost:8080/"
        },
        "id": "oWWi0Dev9Oqt",
        "outputId": "b5904275-6951-401a-e8f2-80ba35264e04"
      },
      "source": [
        "# Conjunto de treinamento - amostras de 0-29\n",
        "# Conjunto de teste - amostras de 30-35\n",
        "train, test = dataset[0:train_size,:], dataset[train_size:len(dataset),:]\n",
        "\n",
        "print(\"* Conjunto de Treinamento:\", train.shape)\n",
        "#print(train)\n",
        "\n",
        "print(\"* Conjunto de Teste:\", test.shape)\n",
        "#print(test)"
      ],
      "execution_count": 32,
      "outputs": [
        {
          "output_type": "stream",
          "text": [
            "* Conjunto de Treinamento: (30, 1)\n",
            "* Conjunto de Teste: (6, 1)\n"
          ],
          "name": "stdout"
        }
      ]
    },
    {
      "cell_type": "code",
      "metadata": {
        "colab": {
          "base_uri": "https://localhost:8080/"
        },
        "id": "DPU9JMso-AJ6",
        "outputId": "63114be6-a699-4523-e617-81329a926be8"
      },
      "source": [
        "# reshape em X=t and Y=t+1\n",
        "# isto é, criando dados no padrão DF = [X|Y]\n",
        "# para cada X, o Y = X+1\n",
        "\n",
        "janela_previsao = 1\n",
        "trainX, trainY = create_dataset(train, janela_previsao)\n",
        "\n",
        "# vendo o nosso conjunto de treinamento\n",
        "print(\"DF = [X | X+1]\")\n",
        "np.column_stack((trainX, trainY))"
      ],
      "execution_count": 33,
      "outputs": [
        {
          "output_type": "stream",
          "text": [
            "DF = [X | X+1]\n"
          ],
          "name": "stdout"
        },
        {
          "output_type": "execute_result",
          "data": {
            "text/plain": [
              "array([[-0.47858536, -0.9054558 ],\n",
              "       [-0.9054558 , -0.7732361 ],\n",
              "       [-0.7732361 , -0.99999994],\n",
              "       [-0.99999994, -0.78318816],\n",
              "       [-0.78318816, -0.8251288 ],\n",
              "       [-0.8251288 , -0.6001421 ],\n",
              "       [-0.6001421 , -0.62608844],\n",
              "       [-0.62608844, -0.7387595 ],\n",
              "       [-0.7387595 , -0.9872045 ],\n",
              "       [-0.9872045 , -0.2280078 ],\n",
              "       [-0.2280078 , -0.76328415],\n",
              "       [-0.76328415, -0.73342806],\n",
              "       [-0.73342806, -0.8926603 ],\n",
              "       [-0.8926603 , -0.67727023],\n",
              "       [-0.67727023, -0.45263904],\n",
              "       [-0.45263904, -0.74373555],\n",
              "       [-0.74373555, -0.4039452 ],\n",
              "       [-0.4039452 , -0.62075704],\n",
              "       [-0.62075704, -0.344944  ],\n",
              "       [-0.344944  , -0.39363778],\n",
              "       [-0.39363778,  0.07446253],\n",
              "       [ 0.07446253, -0.48391676],\n",
              "       [-0.48391676, -0.20739293],\n",
              "       [-0.20739293, -0.21663404],\n",
              "       [-0.21663404,  0.14128315],\n",
              "       [ 0.14128315, -0.30122626],\n",
              "       [-0.30122626,  0.13737333],\n",
              "       [ 0.13737333,  0.00231028]], dtype=float32)"
            ]
          },
          "metadata": {
            "tags": []
          },
          "execution_count": 33
        }
      ]
    },
    {
      "cell_type": "code",
      "metadata": {
        "colab": {
          "base_uri": "https://localhost:8080/"
        },
        "id": "nzPIF0ONyOdR",
        "outputId": "5427a01d-bc41-48c9-cb1a-07d7792b753d"
      },
      "source": [
        "# reshape em X=t and Y=t+1 para o conjunto de teste\n",
        "\n",
        "testX, testY  = create_dataset(test, janela_previsao)\n",
        "print(\"Conjunto de Teste no formato supervisionado:\")\n",
        "print(testX)\n",
        "print(\"Conjunto de Teste no formato supervisionado:\")\n",
        "print(testY)\n",
        "print(\"\\nDF = [X | X+1]\")\n",
        "np.column_stack((testX, testY))"
      ],
      "execution_count": 34,
      "outputs": [
        {
          "output_type": "stream",
          "text": [
            "Conjunto de Teste no formato supervisionado:\n",
            "[[0.62146807]\n",
            " [0.02470243]\n",
            " [1.        ]\n",
            " [0.26532793]]\n",
            "Conjunto de Teste no formato supervisionado:\n",
            "[0.02470243 1.         0.26532793 0.6420827 ]\n",
            "\n",
            "DF = [X | X+1]\n"
          ],
          "name": "stdout"
        },
        {
          "output_type": "execute_result",
          "data": {
            "text/plain": [
              "array([[0.62146807, 0.02470243],\n",
              "       [0.02470243, 1.        ],\n",
              "       [1.        , 0.26532793],\n",
              "       [0.26532793, 0.6420827 ]], dtype=float32)"
            ]
          },
          "metadata": {
            "tags": []
          },
          "execution_count": 34
        }
      ]
    },
    {
      "cell_type": "code",
      "metadata": {
        "colab": {
          "base_uri": "https://localhost:8080/"
        },
        "id": "Tu-Aw7-hA_fE",
        "outputId": "94732fe2-a6ea-4e07-daec-7926c32e3db4"
      },
      "source": [
        "# Ajustando os conjunto de treino (trainX) e teste (testX) para o formato\n",
        "# [samples, time_steps, features]\n",
        "trainX = np.reshape(trainX, (trainX.shape[0], 1, trainX.shape[1]))\n",
        "print(\"- Dim train:\", trainX.shape)\n",
        "testX = np.reshape(testX, (testX.shape[0], 1, testX.shape[1]))\n",
        "print(\"- Dim test:  \", testX.shape)\n",
        "\n",
        "print(\"Teste no formato para input:\") #alternativamente poderíamos ter amostras multivariadas\n",
        "print(testX)"
      ],
      "execution_count": 35,
      "outputs": [
        {
          "output_type": "stream",
          "text": [
            "- Dim train: (28, 1, 1)\n",
            "- Dim test:   (4, 1, 1)\n",
            "Teste no formato para input:\n",
            "[[[0.62146807]]\n",
            "\n",
            " [[0.02470243]]\n",
            "\n",
            " [[1.        ]]\n",
            "\n",
            " [[0.26532793]]]\n"
          ],
          "name": "stdout"
        }
      ]
    },
    {
      "cell_type": "code",
      "metadata": {
        "colab": {
          "base_uri": "https://localhost:8080/"
        },
        "id": "cUq6paulylj6",
        "outputId": "4bb52bf4-73e0-4645-bdc0-80c88d15ce57"
      },
      "source": [
        "# Criando nossa rede recorrente com unidades de LSTM \n",
        "\n",
        "# formato keras sequencial\n",
        "model = Sequential()\n",
        "\n",
        "# camada recorrente com 4 blocos/neurônios, amostra única (1) \n",
        "# para prever a janela de previsão = 1\n",
        "# assim, input_shape = (1, 1)\n",
        "model.add(LSTM(units=4, input_shape=(1, janela_previsao))) \n",
        "# Add um layer, completamente conectado para agregar a saida dos 4 neuronios\n",
        "model.add(Dense(1))\n",
        "\n",
        "# visualizar o modelo (arquitetura) que geramos\n",
        "model.summary()"
      ],
      "execution_count": 36,
      "outputs": [
        {
          "output_type": "stream",
          "text": [
            "Model: \"sequential_1\"\n",
            "_________________________________________________________________\n",
            "Layer (type)                 Output Shape              Param #   \n",
            "=================================================================\n",
            "lstm_1 (LSTM)                (None, 4)                 96        \n",
            "_________________________________________________________________\n",
            "dense_1 (Dense)              (None, 1)                 5         \n",
            "=================================================================\n",
            "Total params: 101\n",
            "Trainable params: 101\n",
            "Non-trainable params: 0\n",
            "_________________________________________________________________\n"
          ],
          "name": "stdout"
        }
      ]
    },
    {
      "cell_type": "code",
      "metadata": {
        "id": "jGwX8EMpz4z7"
      },
      "source": [
        "# parâmetros para otimizacao\n",
        "# medida a ser minimizada = Erro quadrático médio (Mean Squared Error)\n",
        "# Otimizador, algoritmo de treinamento = Adam\n",
        "# métricas para avaliar o modelo = MSE, RMSE, MAE\n",
        "model.compile(loss='mean_squared_error', \n",
        "              optimizer='adam', \n",
        "              metrics=[\"MeanSquaredError\", \"RootMeanSquaredError\", \"MeanAbsoluteError\"]\n",
        ") "
      ],
      "execution_count": 37,
      "outputs": []
    },
    {
      "cell_type": "code",
      "metadata": {
        "colab": {
          "base_uri": "https://localhost:8080/"
        },
        "id": "2T9f4HTBy2Zw",
        "outputId": "1df015e4-7447-4b2d-ab2b-b7949c38a238"
      },
      "source": [
        "# Treinando nossa rede\n",
        "# epocas = 100\n",
        "# batch_size = 1, treinar amostra por amostra\n",
        "history = model.fit(trainX, trainY, epochs=100, batch_size=1, verbose=2)"
      ],
      "execution_count": 38,
      "outputs": [
        {
          "output_type": "stream",
          "text": [
            "Epoch 1/100\n",
            "28/28 - 1s - loss: 0.3657 - mean_squared_error: 0.3657 - root_mean_squared_error: 0.6047 - mean_absolute_error: 0.5322\n",
            "Epoch 2/100\n",
            "28/28 - 0s - loss: 0.3175 - mean_squared_error: 0.3175 - root_mean_squared_error: 0.5635 - mean_absolute_error: 0.4970\n",
            "Epoch 3/100\n",
            "28/28 - 0s - loss: 0.2769 - mean_squared_error: 0.2769 - root_mean_squared_error: 0.5262 - mean_absolute_error: 0.4619\n",
            "Epoch 4/100\n",
            "28/28 - 0s - loss: 0.2422 - mean_squared_error: 0.2422 - root_mean_squared_error: 0.4921 - mean_absolute_error: 0.4301\n",
            "Epoch 5/100\n",
            "28/28 - 0s - loss: 0.2153 - mean_squared_error: 0.2153 - root_mean_squared_error: 0.4640 - mean_absolute_error: 0.4024\n",
            "Epoch 6/100\n",
            "28/28 - 0s - loss: 0.1927 - mean_squared_error: 0.1927 - root_mean_squared_error: 0.4390 - mean_absolute_error: 0.3808\n",
            "Epoch 7/100\n",
            "28/28 - 0s - loss: 0.1707 - mean_squared_error: 0.1707 - root_mean_squared_error: 0.4132 - mean_absolute_error: 0.3590\n",
            "Epoch 8/100\n",
            "28/28 - 0s - loss: 0.1561 - mean_squared_error: 0.1561 - root_mean_squared_error: 0.3951 - mean_absolute_error: 0.3437\n",
            "Epoch 9/100\n",
            "28/28 - 0s - loss: 0.1409 - mean_squared_error: 0.1409 - root_mean_squared_error: 0.3754 - mean_absolute_error: 0.3260\n",
            "Epoch 10/100\n",
            "28/28 - 0s - loss: 0.1299 - mean_squared_error: 0.1299 - root_mean_squared_error: 0.3604 - mean_absolute_error: 0.3136\n",
            "Epoch 11/100\n",
            "28/28 - 0s - loss: 0.1213 - mean_squared_error: 0.1213 - root_mean_squared_error: 0.3483 - mean_absolute_error: 0.3012\n",
            "Epoch 12/100\n",
            "28/28 - 0s - loss: 0.1135 - mean_squared_error: 0.1135 - root_mean_squared_error: 0.3369 - mean_absolute_error: 0.2917\n",
            "Epoch 13/100\n",
            "28/28 - 0s - loss: 0.1077 - mean_squared_error: 0.1077 - root_mean_squared_error: 0.3282 - mean_absolute_error: 0.2830\n",
            "Epoch 14/100\n",
            "28/28 - 0s - loss: 0.1035 - mean_squared_error: 0.1035 - root_mean_squared_error: 0.3217 - mean_absolute_error: 0.2769\n",
            "Epoch 15/100\n",
            "28/28 - 0s - loss: 0.0998 - mean_squared_error: 0.0998 - root_mean_squared_error: 0.3159 - mean_absolute_error: 0.2720\n",
            "Epoch 16/100\n",
            "28/28 - 0s - loss: 0.0973 - mean_squared_error: 0.0973 - root_mean_squared_error: 0.3119 - mean_absolute_error: 0.2689\n",
            "Epoch 17/100\n",
            "28/28 - 0s - loss: 0.0952 - mean_squared_error: 0.0952 - root_mean_squared_error: 0.3085 - mean_absolute_error: 0.2649\n",
            "Epoch 18/100\n",
            "28/28 - 0s - loss: 0.0937 - mean_squared_error: 0.0937 - root_mean_squared_error: 0.3061 - mean_absolute_error: 0.2633\n",
            "Epoch 19/100\n",
            "28/28 - 0s - loss: 0.0926 - mean_squared_error: 0.0926 - root_mean_squared_error: 0.3043 - mean_absolute_error: 0.2612\n",
            "Epoch 20/100\n",
            "28/28 - 0s - loss: 0.0918 - mean_squared_error: 0.0918 - root_mean_squared_error: 0.3030 - mean_absolute_error: 0.2591\n",
            "Epoch 21/100\n",
            "28/28 - 0s - loss: 0.0911 - mean_squared_error: 0.0911 - root_mean_squared_error: 0.3018 - mean_absolute_error: 0.2573\n",
            "Epoch 22/100\n",
            "28/28 - 0s - loss: 0.0906 - mean_squared_error: 0.0906 - root_mean_squared_error: 0.3010 - mean_absolute_error: 0.2559\n",
            "Epoch 23/100\n",
            "28/28 - 0s - loss: 0.0910 - mean_squared_error: 0.0910 - root_mean_squared_error: 0.3016 - mean_absolute_error: 0.2561\n",
            "Epoch 24/100\n",
            "28/28 - 0s - loss: 0.0898 - mean_squared_error: 0.0898 - root_mean_squared_error: 0.2997 - mean_absolute_error: 0.2530\n",
            "Epoch 25/100\n",
            "28/28 - 0s - loss: 0.0897 - mean_squared_error: 0.0897 - root_mean_squared_error: 0.2994 - mean_absolute_error: 0.2521\n",
            "Epoch 26/100\n",
            "28/28 - 0s - loss: 0.0897 - mean_squared_error: 0.0897 - root_mean_squared_error: 0.2994 - mean_absolute_error: 0.2528\n",
            "Epoch 27/100\n",
            "28/28 - 0s - loss: 0.0893 - mean_squared_error: 0.0893 - root_mean_squared_error: 0.2989 - mean_absolute_error: 0.2527\n",
            "Epoch 28/100\n",
            "28/28 - 0s - loss: 0.0891 - mean_squared_error: 0.0891 - root_mean_squared_error: 0.2985 - mean_absolute_error: 0.2504\n",
            "Epoch 29/100\n",
            "28/28 - 0s - loss: 0.0886 - mean_squared_error: 0.0886 - root_mean_squared_error: 0.2976 - mean_absolute_error: 0.2490\n",
            "Epoch 30/100\n",
            "28/28 - 0s - loss: 0.0889 - mean_squared_error: 0.0889 - root_mean_squared_error: 0.2981 - mean_absolute_error: 0.2502\n",
            "Epoch 31/100\n",
            "28/28 - 0s - loss: 0.0878 - mean_squared_error: 0.0878 - root_mean_squared_error: 0.2963 - mean_absolute_error: 0.2479\n",
            "Epoch 32/100\n",
            "28/28 - 0s - loss: 0.0878 - mean_squared_error: 0.0878 - root_mean_squared_error: 0.2963 - mean_absolute_error: 0.2481\n",
            "Epoch 33/100\n",
            "28/28 - 0s - loss: 0.0874 - mean_squared_error: 0.0874 - root_mean_squared_error: 0.2957 - mean_absolute_error: 0.2470\n",
            "Epoch 34/100\n",
            "28/28 - 0s - loss: 0.0872 - mean_squared_error: 0.0872 - root_mean_squared_error: 0.2954 - mean_absolute_error: 0.2465\n",
            "Epoch 35/100\n",
            "28/28 - 0s - loss: 0.0870 - mean_squared_error: 0.0870 - root_mean_squared_error: 0.2950 - mean_absolute_error: 0.2462\n",
            "Epoch 36/100\n",
            "28/28 - 0s - loss: 0.0869 - mean_squared_error: 0.0869 - root_mean_squared_error: 0.2948 - mean_absolute_error: 0.2463\n",
            "Epoch 37/100\n",
            "28/28 - 0s - loss: 0.0867 - mean_squared_error: 0.0867 - root_mean_squared_error: 0.2945 - mean_absolute_error: 0.2458\n",
            "Epoch 38/100\n",
            "28/28 - 0s - loss: 0.0872 - mean_squared_error: 0.0872 - root_mean_squared_error: 0.2952 - mean_absolute_error: 0.2468\n",
            "Epoch 39/100\n",
            "28/28 - 0s - loss: 0.0862 - mean_squared_error: 0.0862 - root_mean_squared_error: 0.2935 - mean_absolute_error: 0.2448\n",
            "Epoch 40/100\n",
            "28/28 - 0s - loss: 0.0862 - mean_squared_error: 0.0862 - root_mean_squared_error: 0.2936 - mean_absolute_error: 0.2452\n",
            "Epoch 41/100\n",
            "28/28 - 0s - loss: 0.0865 - mean_squared_error: 0.0865 - root_mean_squared_error: 0.2942 - mean_absolute_error: 0.2468\n",
            "Epoch 42/100\n",
            "28/28 - 0s - loss: 0.0860 - mean_squared_error: 0.0860 - root_mean_squared_error: 0.2933 - mean_absolute_error: 0.2459\n",
            "Epoch 43/100\n",
            "28/28 - 0s - loss: 0.0857 - mean_squared_error: 0.0857 - root_mean_squared_error: 0.2927 - mean_absolute_error: 0.2446\n",
            "Epoch 44/100\n",
            "28/28 - 0s - loss: 0.0859 - mean_squared_error: 0.0859 - root_mean_squared_error: 0.2931 - mean_absolute_error: 0.2457\n",
            "Epoch 45/100\n",
            "28/28 - 0s - loss: 0.0853 - mean_squared_error: 0.0853 - root_mean_squared_error: 0.2921 - mean_absolute_error: 0.2446\n",
            "Epoch 46/100\n",
            "28/28 - 0s - loss: 0.0852 - mean_squared_error: 0.0852 - root_mean_squared_error: 0.2918 - mean_absolute_error: 0.2441\n",
            "Epoch 47/100\n",
            "28/28 - 0s - loss: 0.0848 - mean_squared_error: 0.0848 - root_mean_squared_error: 0.2913 - mean_absolute_error: 0.2440\n",
            "Epoch 48/100\n",
            "28/28 - 0s - loss: 0.0852 - mean_squared_error: 0.0852 - root_mean_squared_error: 0.2919 - mean_absolute_error: 0.2440\n",
            "Epoch 49/100\n",
            "28/28 - 0s - loss: 0.0850 - mean_squared_error: 0.0850 - root_mean_squared_error: 0.2915 - mean_absolute_error: 0.2442\n",
            "Epoch 50/100\n",
            "28/28 - 0s - loss: 0.0847 - mean_squared_error: 0.0847 - root_mean_squared_error: 0.2910 - mean_absolute_error: 0.2442\n",
            "Epoch 51/100\n",
            "28/28 - 0s - loss: 0.0847 - mean_squared_error: 0.0847 - root_mean_squared_error: 0.2910 - mean_absolute_error: 0.2447\n",
            "Epoch 52/100\n",
            "28/28 - 0s - loss: 0.0843 - mean_squared_error: 0.0843 - root_mean_squared_error: 0.2903 - mean_absolute_error: 0.2436\n",
            "Epoch 53/100\n",
            "28/28 - 0s - loss: 0.0845 - mean_squared_error: 0.0845 - root_mean_squared_error: 0.2907 - mean_absolute_error: 0.2436\n",
            "Epoch 54/100\n",
            "28/28 - 0s - loss: 0.0842 - mean_squared_error: 0.0842 - root_mean_squared_error: 0.2902 - mean_absolute_error: 0.2431\n",
            "Epoch 55/100\n",
            "28/28 - 0s - loss: 0.0839 - mean_squared_error: 0.0839 - root_mean_squared_error: 0.2896 - mean_absolute_error: 0.2427\n",
            "Epoch 56/100\n",
            "28/28 - 0s - loss: 0.0838 - mean_squared_error: 0.0838 - root_mean_squared_error: 0.2894 - mean_absolute_error: 0.2420\n",
            "Epoch 57/100\n",
            "28/28 - 0s - loss: 0.0837 - mean_squared_error: 0.0837 - root_mean_squared_error: 0.2894 - mean_absolute_error: 0.2427\n",
            "Epoch 58/100\n",
            "28/28 - 0s - loss: 0.0834 - mean_squared_error: 0.0834 - root_mean_squared_error: 0.2888 - mean_absolute_error: 0.2418\n",
            "Epoch 59/100\n",
            "28/28 - 0s - loss: 0.0839 - mean_squared_error: 0.0839 - root_mean_squared_error: 0.2896 - mean_absolute_error: 0.2427\n",
            "Epoch 60/100\n",
            "28/28 - 0s - loss: 0.0834 - mean_squared_error: 0.0834 - root_mean_squared_error: 0.2888 - mean_absolute_error: 0.2423\n",
            "Epoch 61/100\n",
            "28/28 - 0s - loss: 0.0833 - mean_squared_error: 0.0833 - root_mean_squared_error: 0.2887 - mean_absolute_error: 0.2428\n",
            "Epoch 62/100\n",
            "28/28 - 0s - loss: 0.0831 - mean_squared_error: 0.0831 - root_mean_squared_error: 0.2883 - mean_absolute_error: 0.2417\n",
            "Epoch 63/100\n",
            "28/28 - 0s - loss: 0.0835 - mean_squared_error: 0.0835 - root_mean_squared_error: 0.2889 - mean_absolute_error: 0.2411\n",
            "Epoch 64/100\n",
            "28/28 - 0s - loss: 0.0835 - mean_squared_error: 0.0835 - root_mean_squared_error: 0.2890 - mean_absolute_error: 0.2431\n",
            "Epoch 65/100\n",
            "28/28 - 0s - loss: 0.0838 - mean_squared_error: 0.0838 - root_mean_squared_error: 0.2894 - mean_absolute_error: 0.2412\n",
            "Epoch 66/100\n",
            "28/28 - 0s - loss: 0.0833 - mean_squared_error: 0.0833 - root_mean_squared_error: 0.2886 - mean_absolute_error: 0.2419\n",
            "Epoch 67/100\n",
            "28/28 - 0s - loss: 0.0830 - mean_squared_error: 0.0830 - root_mean_squared_error: 0.2880 - mean_absolute_error: 0.2420\n",
            "Epoch 68/100\n",
            "28/28 - 0s - loss: 0.0828 - mean_squared_error: 0.0828 - root_mean_squared_error: 0.2878 - mean_absolute_error: 0.2408\n",
            "Epoch 69/100\n",
            "28/28 - 0s - loss: 0.0827 - mean_squared_error: 0.0827 - root_mean_squared_error: 0.2876 - mean_absolute_error: 0.2409\n",
            "Epoch 70/100\n",
            "28/28 - 0s - loss: 0.0827 - mean_squared_error: 0.0827 - root_mean_squared_error: 0.2876 - mean_absolute_error: 0.2409\n",
            "Epoch 71/100\n",
            "28/28 - 0s - loss: 0.0823 - mean_squared_error: 0.0823 - root_mean_squared_error: 0.2869 - mean_absolute_error: 0.2396\n",
            "Epoch 72/100\n",
            "28/28 - 0s - loss: 0.0825 - mean_squared_error: 0.0825 - root_mean_squared_error: 0.2872 - mean_absolute_error: 0.2402\n",
            "Epoch 73/100\n",
            "28/28 - 0s - loss: 0.0831 - mean_squared_error: 0.0831 - root_mean_squared_error: 0.2883 - mean_absolute_error: 0.2430\n",
            "Epoch 74/100\n",
            "28/28 - 0s - loss: 0.0824 - mean_squared_error: 0.0824 - root_mean_squared_error: 0.2870 - mean_absolute_error: 0.2405\n",
            "Epoch 75/100\n",
            "28/28 - 0s - loss: 0.0827 - mean_squared_error: 0.0827 - root_mean_squared_error: 0.2875 - mean_absolute_error: 0.2409\n",
            "Epoch 76/100\n",
            "28/28 - 0s - loss: 0.0821 - mean_squared_error: 0.0821 - root_mean_squared_error: 0.2865 - mean_absolute_error: 0.2399\n",
            "Epoch 77/100\n",
            "28/28 - 0s - loss: 0.0819 - mean_squared_error: 0.0819 - root_mean_squared_error: 0.2863 - mean_absolute_error: 0.2392\n",
            "Epoch 78/100\n",
            "28/28 - 0s - loss: 0.0821 - mean_squared_error: 0.0821 - root_mean_squared_error: 0.2865 - mean_absolute_error: 0.2393\n",
            "Epoch 79/100\n",
            "28/28 - 0s - loss: 0.0821 - mean_squared_error: 0.0821 - root_mean_squared_error: 0.2865 - mean_absolute_error: 0.2397\n",
            "Epoch 80/100\n",
            "28/28 - 0s - loss: 0.0820 - mean_squared_error: 0.0820 - root_mean_squared_error: 0.2863 - mean_absolute_error: 0.2396\n",
            "Epoch 81/100\n",
            "28/28 - 0s - loss: 0.0822 - mean_squared_error: 0.0822 - root_mean_squared_error: 0.2867 - mean_absolute_error: 0.2395\n",
            "Epoch 82/100\n",
            "28/28 - 0s - loss: 0.0818 - mean_squared_error: 0.0818 - root_mean_squared_error: 0.2860 - mean_absolute_error: 0.2386\n",
            "Epoch 83/100\n",
            "28/28 - 0s - loss: 0.0824 - mean_squared_error: 0.0824 - root_mean_squared_error: 0.2871 - mean_absolute_error: 0.2402\n",
            "Epoch 84/100\n",
            "28/28 - 0s - loss: 0.0815 - mean_squared_error: 0.0815 - root_mean_squared_error: 0.2855 - mean_absolute_error: 0.2395\n",
            "Epoch 85/100\n",
            "28/28 - 0s - loss: 0.0821 - mean_squared_error: 0.0821 - root_mean_squared_error: 0.2866 - mean_absolute_error: 0.2404\n",
            "Epoch 86/100\n",
            "28/28 - 0s - loss: 0.0824 - mean_squared_error: 0.0824 - root_mean_squared_error: 0.2870 - mean_absolute_error: 0.2402\n",
            "Epoch 87/100\n",
            "28/28 - 0s - loss: 0.0821 - mean_squared_error: 0.0821 - root_mean_squared_error: 0.2865 - mean_absolute_error: 0.2392\n",
            "Epoch 88/100\n",
            "28/28 - 0s - loss: 0.0818 - mean_squared_error: 0.0818 - root_mean_squared_error: 0.2860 - mean_absolute_error: 0.2389\n",
            "Epoch 89/100\n",
            "28/28 - 0s - loss: 0.0819 - mean_squared_error: 0.0819 - root_mean_squared_error: 0.2861 - mean_absolute_error: 0.2393\n",
            "Epoch 90/100\n",
            "28/28 - 0s - loss: 0.0814 - mean_squared_error: 0.0814 - root_mean_squared_error: 0.2854 - mean_absolute_error: 0.2387\n",
            "Epoch 91/100\n",
            "28/28 - 0s - loss: 0.0814 - mean_squared_error: 0.0814 - root_mean_squared_error: 0.2853 - mean_absolute_error: 0.2385\n",
            "Epoch 92/100\n",
            "28/28 - 0s - loss: 0.0818 - mean_squared_error: 0.0818 - root_mean_squared_error: 0.2861 - mean_absolute_error: 0.2386\n",
            "Epoch 93/100\n",
            "28/28 - 0s - loss: 0.0821 - mean_squared_error: 0.0821 - root_mean_squared_error: 0.2865 - mean_absolute_error: 0.2388\n",
            "Epoch 94/100\n",
            "28/28 - 0s - loss: 0.0814 - mean_squared_error: 0.0814 - root_mean_squared_error: 0.2853 - mean_absolute_error: 0.2382\n",
            "Epoch 95/100\n",
            "28/28 - 0s - loss: 0.0819 - mean_squared_error: 0.0819 - root_mean_squared_error: 0.2862 - mean_absolute_error: 0.2392\n",
            "Epoch 96/100\n",
            "28/28 - 0s - loss: 0.0815 - mean_squared_error: 0.0815 - root_mean_squared_error: 0.2854 - mean_absolute_error: 0.2381\n",
            "Epoch 97/100\n",
            "28/28 - 0s - loss: 0.0817 - mean_squared_error: 0.0817 - root_mean_squared_error: 0.2858 - mean_absolute_error: 0.2386\n",
            "Epoch 98/100\n",
            "28/28 - 0s - loss: 0.0827 - mean_squared_error: 0.0827 - root_mean_squared_error: 0.2876 - mean_absolute_error: 0.2409\n",
            "Epoch 99/100\n",
            "28/28 - 0s - loss: 0.0818 - mean_squared_error: 0.0818 - root_mean_squared_error: 0.2860 - mean_absolute_error: 0.2383\n",
            "Epoch 100/100\n",
            "28/28 - 0s - loss: 0.0829 - mean_squared_error: 0.0829 - root_mean_squared_error: 0.2880 - mean_absolute_error: 0.2394\n"
          ],
          "name": "stdout"
        }
      ]
    },
    {
      "cell_type": "code",
      "metadata": {
        "colab": {
          "base_uri": "https://localhost:8080/",
          "height": 279
        },
        "id": "cZ8Hk295DmJd",
        "outputId": "72d1c231-924b-4d2c-ddfe-c5f50d2f94ff"
      },
      "source": [
        "# Plotando os erros obtidos no conjunto de treinamento\n",
        "# plotamos as três medidas (MSE, RMSE, MAE)\n",
        "# percebam que depois de 20 épocas, não há uma redução significativa nos erros, \n",
        "#e o treinamento poderia ser feito com uma quantidade menor de iterações\n",
        "\n",
        "# checar os nomes\n",
        "#print(history.history.keys())\n",
        "\n",
        "plt.plot(history.history['mean_squared_error'])\n",
        "plt.plot(history.history['root_mean_squared_error'])\n",
        "plt.plot(history.history['mean_absolute_error'])\n",
        "plt.xlabel('epoch')\n",
        "plt.legend(['MSE', 'RMSE', 'MAE'], loc='upper right')\n",
        "plt.show()"
      ],
      "execution_count": 39,
      "outputs": [
        {
          "output_type": "display_data",
          "data": {
            "image/png": "[encoded data removed]",
            "text/plain": [
              "<Figure size 432x288 with 1 Axes>"
            ]
          },
          "metadata": {
            "tags": [],
            "needs_background": "light"
          }
        }
      ]
    },
    {
      "cell_type": "code",
      "metadata": {
        "id": "XvlbL0fkzDgl"
      },
      "source": [
        "# Realizando as predições nos conjuntos de treino/teste\n",
        "\n",
        "# predição no conjunto de trienamento\n",
        "trainPredict = model.predict(trainX)\n",
        "\n",
        "# predição no conjunto de teste\n",
        "testPredict  = model.predict(testX)"
      ],
      "execution_count": 40,
      "outputs": []
    },
    {
      "cell_type": "code",
      "metadata": {
        "colab": {
          "base_uri": "https://localhost:8080/"
        },
        "id": "2MaXB8sXzK4O",
        "outputId": "17c4e7e5-1bed-4de2-8424-19d55213be6d"
      },
      "source": [
        "print(\"Predição do Teste:\")\n",
        "print(testPredict)\n",
        "\n",
        "print(\"\\nDF = [Real | Predito]\")\n",
        "np.column_stack((testY, testPredict))\n"
      ],
      "execution_count": 41,
      "outputs": [
        {
          "output_type": "stream",
          "text": [
            "Predição do Teste:\n",
            "[[ 0.00419462]\n",
            " [-0.23923856]\n",
            " [ 0.0763329 ]\n",
            " [-0.12269209]]\n",
            "\n",
            "DF = [Real | Predito]\n"
          ],
          "name": "stdout"
        },
        {
          "output_type": "execute_result",
          "data": {
            "text/plain": [
              "array([[ 0.02470243,  0.00419462],\n",
              "       [ 1.        , -0.23923856],\n",
              "       [ 0.26532793,  0.0763329 ],\n",
              "       [ 0.6420827 , -0.12269209]], dtype=float32)"
            ]
          },
          "metadata": {
            "tags": []
          },
          "execution_count": 41
        }
      ]
    },
    {
      "cell_type": "code",
      "metadata": {
        "id": "Srk-aWu8zNWm"
      },
      "source": [
        "# Aplicando a inversa da escala para retornar ao valor original\n",
        "trainPredict = scaler.inverse_transform(trainPredict)\n",
        "trainY = scaler.inverse_transform([trainY])\n",
        "\n",
        "testPredict = scaler.inverse_transform(testPredict)\n",
        "testY = scaler.inverse_transform([testY])"
      ],
      "execution_count": 42,
      "outputs": []
    },
    {
      "cell_type": "code",
      "metadata": {
        "colab": {
          "base_uri": "https://localhost:8080/"
        },
        "id": "Zk8RvwEizRX8",
        "outputId": "6a430849-4e2e-4048-e962-f2978d75bcd1"
      },
      "source": [
        "print(\"\\n * Predição do Teste na escala original:\")\n",
        "print(testPredict.shape)\n",
        "print(testPredict)\n",
        "\n",
        "#print(\"\\nDF = [Real | Predito]\")\n",
        "#np.column_stack((testY, testPredict))\n",
        "\n",
        "print(\"\\n * Predição do Teste na escala original:\")\n",
        "print(testY.shape)\n",
        "print(testY)\n"
      ],
      "execution_count": 43,
      "outputs": [
        {
          "output_type": "stream",
          "text": [
            "\n",
            " * Predição do Teste na escala original:\n",
            "(4, 1)\n",
            "[[401.83014]\n",
            " [333.34024]\n",
            " [422.12625]\n",
            " [366.13055]]\n",
            "\n",
            " * Predição do Teste na escala original:\n",
            "(1, 4)\n",
            "[[407.60001748 681.99999017 475.30000242 581.29995486]]\n"
          ],
          "name": "stdout"
        }
      ]
    },
    {
      "cell_type": "code",
      "metadata": {
        "colab": {
          "base_uri": "https://localhost:8080/"
        },
        "id": "DQvupAV_zT1R",
        "outputId": "5a38e0b9-8682-449c-a4b0-5a6cc5becbf3"
      },
      "source": [
        "# Calculando RMSE no treino e teste\n",
        "trainScore = math.sqrt(mean_squared_error(trainY[0], trainPredict[:,0]))\n",
        "print('Treino: %.2f RMSE' % (trainScore))\n",
        "\n",
        "testScore = math.sqrt(mean_squared_error(testY[0], testPredict[:,0]))\n",
        "print('Teste Score: %.2f RMSE' % (testScore))"
      ],
      "execution_count": 44,
      "outputs": [
        {
          "output_type": "stream",
          "text": [
            "Treino: 80.12 RMSE\n",
            "Teste Score: 206.59 RMSE\n"
          ],
          "name": "stdout"
        }
      ]
    },
    {
      "cell_type": "code",
      "metadata": {
        "colab": {
          "base_uri": "https://localhost:8080/"
        },
        "id": "S_cCE1syIE9b",
        "outputId": "1ab6433e-e995-4324-955f-64761acff04f"
      },
      "source": [
        "# Ajustando o plot do treino\n",
        "trainPredictPlot = np.empty_like(dataset)\n",
        "trainPredictPlot[:, :] = np.nan\n",
        "trainPredictPlot[janela_previsao:len(trainPredict)+janela_previsao, :] = trainPredict\n",
        "print(trainPredictPlot)"
      ],
      "execution_count": 45,
      "outputs": [
        {
          "output_type": "stream",
          "text": [
            "[[      nan]\n",
            " [257.60266]\n",
            " [203.38457]\n",
            " [218.64816]\n",
            " [193.28696]\n",
            " [217.45132]\n",
            " [212.4941 ]\n",
            " [240.7287 ]\n",
            " [237.26819]\n",
            " [222.8556 ]\n",
            " [194.61543]\n",
            " [295.01495]\n",
            " [219.85292]\n",
            " [223.51477]\n",
            " [204.80232]\n",
            " [230.59605]\n",
            " [261.335  ]\n",
            " [222.24248]\n",
            " [268.44797]\n",
            " [237.975  ]\n",
            " [277.23206]\n",
            " [269.9704 ]\n",
            " [340.55273]\n",
            " [256.84106]\n",
            " [298.17853]\n",
            " [296.75992]\n",
            " [349.9236 ]\n",
            " [283.83505]\n",
            " [349.38647]\n",
            " [      nan]\n",
            " [      nan]\n",
            " [      nan]\n",
            " [      nan]\n",
            " [      nan]\n",
            " [      nan]\n",
            " [      nan]]\n"
          ],
          "name": "stdout"
        }
      ]
    },
    {
      "cell_type": "code",
      "metadata": {
        "colab": {
          "base_uri": "https://localhost:8080/"
        },
        "id": "nqI-gXWVII-3",
        "outputId": "84aa4083-7b6b-4496-afed-507b6dd199f6"
      },
      "source": [
        "# Ajustando o plot do teste\n",
        "testPredictPlot = np.empty_like(dataset)\n",
        "testPredictPlot[:, :] = np.nan\n",
        "testPredictPlot[len(trainPredict)+(janela_previsao*2)+1:len(dataset)-1, :] = testPredict\n",
        "print(testPredictPlot)"
      ],
      "execution_count": 46,
      "outputs": [
        {
          "output_type": "stream",
          "text": [
            "[[      nan]\n",
            " [      nan]\n",
            " [      nan]\n",
            " [      nan]\n",
            " [      nan]\n",
            " [      nan]\n",
            " [      nan]\n",
            " [      nan]\n",
            " [      nan]\n",
            " [      nan]\n",
            " [      nan]\n",
            " [      nan]\n",
            " [      nan]\n",
            " [      nan]\n",
            " [      nan]\n",
            " [      nan]\n",
            " [      nan]\n",
            " [      nan]\n",
            " [      nan]\n",
            " [      nan]\n",
            " [      nan]\n",
            " [      nan]\n",
            " [      nan]\n",
            " [      nan]\n",
            " [      nan]\n",
            " [      nan]\n",
            " [      nan]\n",
            " [      nan]\n",
            " [      nan]\n",
            " [      nan]\n",
            " [      nan]\n",
            " [401.83014]\n",
            " [333.34024]\n",
            " [422.12625]\n",
            " [366.13055]\n",
            " [      nan]]\n"
          ],
          "name": "stdout"
        }
      ]
    },
    {
      "cell_type": "code",
      "metadata": {
        "colab": {
          "base_uri": "https://localhost:8080/",
          "height": 280
        },
        "id": "JGpcXR6DzeC3",
        "outputId": "5ad588e0-96ad-42ea-ff97-82fc9b1d09e2"
      },
      "source": [
        "# Ajustando o plot com o sinal original\n",
        "# - verde   = dataset original\n",
        "# - azul    = predicoes geradas no conjunto de treinamento\n",
        "# - laranja = predicoes geradas no conjunto de teste\n",
        "\n",
        "plt.plot(trainPredictPlot, marker='o', linestyle=\"--\")\n",
        "plt.plot(testPredictPlot, marker='s', linestyle=\"--\")\n",
        "plt.plot(scaler.inverse_transform(dataset), marker='^')\n",
        "plt.xlabel('instances')\n",
        "plt.legend(['train', 'test', 'original'], loc='upper left')\n",
        "plt.show()"
      ],
      "execution_count": 47,
      "outputs": [
        {
          "output_type": "display_data",
          "data": {
            "image/png": "[encoded data removed]",
            "text/plain": [
              "<Figure size 432x288 with 1 Axes>"
            ]
          },
          "metadata": {
            "tags": [],
            "needs_background": "light"
          }
        }
      ]
    }
  ]
}
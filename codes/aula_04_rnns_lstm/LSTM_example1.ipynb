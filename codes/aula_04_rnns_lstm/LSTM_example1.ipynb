{
  "nbformat": 4,
  "nbformat_minor": 0,
  "metadata": {
    "colab": {
      "name": "LSTM_example1.ipynb",
      "provenance": [],
      "collapsed_sections": [],
      "authorship_tag": "ABX9TyM7J18iRInvU8ZGvYJQ3bSs",
      "include_colab_link": true
    },
    "kernelspec": {
      "name": "python3",
      "display_name": "Python 3"
    },
    "language_info": {
      "name": "python"
    }
  },
  "cells": [
    {
      "cell_type": "markdown",
      "metadata": {
        "id": "view-in-github",
        "colab_type": "text"
      },
      "source": [
        "<a href=\"https://colab.research.google.com/github/rgmantovani/advancedML/blob/master/codes/aula_04_rnns_lstm/LSTM_example1.ipynb\" target=\"_parent\"><img src=\"https://colab.research.google.com/assets/colab-badge.svg\" alt=\"Open In Colab\"/></a>"
      ]
    },
    {
      "cell_type": "markdown",
      "metadata": {
        "id": "tjPzg2y05g20"
      },
      "source": [
        "# Uso de Deep Learning para Séries Temporais (LSTMs)\n",
        "\n",
        "Disciplina: Métodos e Modelos Avançados em Ciência de Dados\n",
        "\n",
        "Especialização em Ciência de Dados - Universidade Tecnologica Federal do Paraná\n",
        "\n",
        "Aula 04: RNNs e LSTMs\n",
        "\n",
        "Exemplo 01: Executando LSTM para série temporal univariada (shampoo)\n",
        "\n",
        "---"
      ]
    },
    {
      "cell_type": "code",
      "metadata": {
        "id": "pfOCE3ROwsWG"
      },
      "source": [
        "# importando as bibliotecas necessárias para rodar o script\n",
        "\n",
        "# manipulação de números de ponto flutuante\n",
        "import numpy as np\n",
        "\n",
        "# plotagem de gráficos\n",
        "import matplotlib.pyplot as plt\n",
        "\n",
        "# criação manipulação de data frames\n",
        "import pandas as pd\n",
        "\n",
        "# funções matemáticas\n",
        "import math\n",
        "\n",
        "# criação dos modelos de DL\n",
        "from keras.models import Sequential\n",
        "from keras.layers import Dense\n",
        "from keras.layers import LSTM\n",
        "\n",
        "# preprocessador - escalar os dados\n",
        "from sklearn.preprocessing import MinMaxScaler\n",
        "\n",
        "# metrica de desempenho (MSE)\n",
        "from sklearn.metrics import mean_squared_error"
      ],
      "execution_count": 130,
      "outputs": []
    },
    {
      "cell_type": "code",
      "metadata": {
        "id": "KK8RvbGVxCIN"
      },
      "source": [
        "# definir um seed para reprodução dos experimentos\n",
        "np.random.seed(42)"
      ],
      "execution_count": 131,
      "outputs": []
    },
    {
      "cell_type": "code",
      "metadata": {
        "colab": {
          "base_uri": "https://localhost:8080/"
        },
        "id": "l86H0BVQxKdF",
        "outputId": "7d5de68b-64b4-4d55-bda0-5c82b841ef60"
      },
      "source": [
        "# obter dataset --> https://github.com/jbrownlee/Datasets\n",
        "# Exemplo: shampoo, venda de shampoos ao longo de três anos\n",
        "url = \"https://raw.githubusercontent.com/jbrownlee/Datasets/master/shampoo.csv\"\n",
        "\n",
        "# ler como data frame (via pandas)\n",
        "dataframe = pd.read_csv(url, header=0, usecols=[1])\n",
        "dataset = dataframe.values\n",
        "dataset = dataset.astype('float32')\n",
        "\n",
        "# vislumbrar um pedaço dos dados e formato lido\n",
        "print(\"\\n* Dimensão dos dados:\", dataset.shape) \n",
        "# 36 amostras/instâncias, univariadas (um único valor real)\n",
        "print(\"* Dados originais:\")\n",
        "print(dataset[:10])"
      ],
      "execution_count": 132,
      "outputs": [
        {
          "output_type": "stream",
          "text": [
            "\n",
            "* Dimensão dos dados: (36, 1)\n",
            "* Dados originais:\n",
            "[[266. ]\n",
            " [145.9]\n",
            " [183.1]\n",
            " [119.3]\n",
            " [180.3]\n",
            " [168.5]\n",
            " [231.8]\n",
            " [224.5]\n",
            " [192.8]\n",
            " [122.9]]\n"
          ],
          "name": "stdout"
        }
      ]
    },
    {
      "cell_type": "code",
      "metadata": {
        "colab": {
          "base_uri": "https://localhost:8080/",
          "height": 283
        },
        "id": "gCy6iEPmxZI9",
        "outputId": "317b58b9-b24d-4d37-ca62-e369f792d593"
      },
      "source": [
        "# plotar os dados para visualizar a nossa time series\n",
        "plt.plot(dataset, linestyle='--', marker='o', color='b')"
      ],
      "execution_count": 133,
      "outputs": [
        {
          "output_type": "execute_result",
          "data": {
            "text/plain": [
              "[<matplotlib.lines.Line2D at 0x7fd08a6bf2d0>]"
            ]
          },
          "metadata": {
            "tags": []
          },
          "execution_count": 133
        },
        {
          "output_type": "display_data",
          "data": {
            "image/png": "[encoded data removed]",
            "text/plain": [
              "<Figure size 432x288 with 1 Axes>"
            ]
          },
          "metadata": {
            "tags": [],
            "needs_background": "light"
          }
        }
      ]
    },
    {
      "cell_type": "markdown",
      "metadata": {
        "id": "ZHaCJEg87Vva"
      },
      "source": [
        "Temos dados com valores variados, mas precisamos escalar a série temporal no intervalo [-1,+1], que é o intervalo de saída da função de ativação que usaremos. "
      ]
    },
    {
      "cell_type": "code",
      "metadata": {
        "colab": {
          "base_uri": "https://localhost:8080/"
        },
        "id": "EDliZkduxgfC",
        "outputId": "6245219b-700b-442e-e64d-e4a100840cf4"
      },
      "source": [
        "# Normalizando os dados\n",
        "\n",
        "# escalar os dados no intervalo [-1,1] usando sklearn\n",
        "# from sklearn.preprocessing import MinMaxScaler\n",
        "\n",
        "scaler = MinMaxScaler(feature_range=(-1, 1))\n",
        "dataset = scaler.fit_transform(dataset)\n",
        "\n",
        "print(\"* Dados escalados:\")\n",
        "print(dataset[:10].transpose())"
      ],
      "execution_count": 134,
      "outputs": [
        {
          "output_type": "stream",
          "text": [
            "* Dados escalados:\n",
            "[[-0.47858536 -0.9054558  -0.7732361  -0.99999994 -0.78318816 -0.8251288\n",
            "  -0.6001421  -0.62608844 -0.7387595  -0.9872045 ]]\n"
          ],
          "name": "stdout"
        }
      ]
    },
    {
      "cell_type": "code",
      "metadata": {
        "colab": {
          "base_uri": "https://localhost:8080/",
          "height": 282
        },
        "id": "JqkdpkxZxkvy",
        "outputId": "fb63e8e5-7183-4de6-d047-f91e74731b73"
      },
      "source": [
        "# visualizar nossos dados escalados\n",
        "# Obs: prestar atenção ao eixo Y, agora varia entre [-1,+1]\n",
        "plt.plot(dataset, linestyle='--', marker='o', color='b')"
      ],
      "execution_count": 135,
      "outputs": [
        {
          "output_type": "execute_result",
          "data": {
            "text/plain": [
              "[<matplotlib.lines.Line2D at 0x7fd08a76b310>]"
            ]
          },
          "metadata": {
            "tags": []
          },
          "execution_count": 135
        },
        {
          "output_type": "display_data",
          "data": {
            "image/png": "[encoded data removed]",
            "text/plain": [
              "<Figure size 432x288 with 1 Axes>"
            ]
          },
          "metadata": {
            "tags": [],
            "needs_background": "light"
          }
        }
      ]
    },
    {
      "cell_type": "code",
      "metadata": {
        "id": "DiSRT_HTxrjs"
      },
      "source": [
        "# funcao auxiliar para criar os itervalos de previsao\n",
        "def create_dataset(dataset, janela_previsao=1):\n",
        "    dataX, dataY = [], []\n",
        "    for i in range(len(dataset)-janela_previsao-1):\n",
        "        a = dataset[i:(i+janela_previsao), 0]\n",
        "        dataX.append(a)\n",
        "        dataY.append(dataset[i + janela_previsao, 0])\n",
        "    return numpy.array(dataX), numpy.array(dataY)"
      ],
      "execution_count": 136,
      "outputs": []
    },
    {
      "cell_type": "code",
      "metadata": {
        "colab": {
          "base_uri": "https://localhost:8080/"
        },
        "id": "h6BRyqwSxwYA",
        "outputId": "00a43ed5-e023-461c-ec7d-efff841b2a08"
      },
      "source": [
        "# Ajustando conjunto de treino e teste\n",
        "# 85% dos exemplos no treino, 15% no teste\n",
        "train_size = int(len(dataset) * 0.85)\n",
        "test_size  = len(dataset) - train_size\n",
        "\n",
        "#print(train_size, test_size)\n",
        "print(\"- Numero de instâncias treino: \", train_size)\n",
        "print(\"- Numero de instâncias teste: \", test_size)"
      ],
      "execution_count": 137,
      "outputs": [
        {
          "output_type": "stream",
          "text": [
            "- Numero de instâncias treino:  30\n",
            "- Numero de instâncias teste:  6\n"
          ],
          "name": "stdout"
        }
      ]
    },
    {
      "cell_type": "code",
      "metadata": {
        "colab": {
          "base_uri": "https://localhost:8080/"
        },
        "id": "oWWi0Dev9Oqt",
        "outputId": "c58e2d53-f4c7-4f53-b5d4-30d0c8ec25c7"
      },
      "source": [
        "# Conjunto de treinamento - amostras de 0-29\n",
        "# Conjunto de teste - amostras de 30-35\n",
        "train, test = dataset[0:train_size,:], dataset[train_size:len(dataset),:]\n",
        "\n",
        "print(\"* Conjunto de Treinamento:\", train.shape)\n",
        "#print(train)\n",
        "\n",
        "print(\"* Conjunto de Teste:\", test.shape)\n",
        "#print(test)"
      ],
      "execution_count": 138,
      "outputs": [
        {
          "output_type": "stream",
          "text": [
            "* Conjunto de Treinamento: (30, 1)\n",
            "* Conjunto de Teste: (6, 1)\n"
          ],
          "name": "stdout"
        }
      ]
    },
    {
      "cell_type": "code",
      "metadata": {
        "colab": {
          "base_uri": "https://localhost:8080/"
        },
        "id": "DPU9JMso-AJ6",
        "outputId": "01fa0f0e-95f5-49a9-e402-959c672715e1"
      },
      "source": [
        "# reshape em X=t and Y=t+1\n",
        "# isto é, criando dados no padrão DF = [X|Y]\n",
        "# para cada X, o Y = X+1\n",
        "\n",
        "janela_previsao = 1\n",
        "trainX, trainY = create_dataset(train, janela_previsao)\n",
        "\n",
        "# vendo o nosso conjunto de treinamento\n",
        "print(\"DF = [X | X+1]\")\n",
        "np.column_stack((trainX, trainY))"
      ],
      "execution_count": 139,
      "outputs": [
        {
          "output_type": "stream",
          "text": [
            "DF = [X | X+1]\n"
          ],
          "name": "stdout"
        },
        {
          "output_type": "execute_result",
          "data": {
            "text/plain": [
              "array([[-0.47858536, -0.9054558 ],\n",
              "       [-0.9054558 , -0.7732361 ],\n",
              "       [-0.7732361 , -0.99999994],\n",
              "       [-0.99999994, -0.78318816],\n",
              "       [-0.78318816, -0.8251288 ],\n",
              "       [-0.8251288 , -0.6001421 ],\n",
              "       [-0.6001421 , -0.62608844],\n",
              "       [-0.62608844, -0.7387595 ],\n",
              "       [-0.7387595 , -0.9872045 ],\n",
              "       [-0.9872045 , -0.2280078 ],\n",
              "       [-0.2280078 , -0.76328415],\n",
              "       [-0.76328415, -0.73342806],\n",
              "       [-0.73342806, -0.8926603 ],\n",
              "       [-0.8926603 , -0.67727023],\n",
              "       [-0.67727023, -0.45263904],\n",
              "       [-0.45263904, -0.74373555],\n",
              "       [-0.74373555, -0.4039452 ],\n",
              "       [-0.4039452 , -0.62075704],\n",
              "       [-0.62075704, -0.344944  ],\n",
              "       [-0.344944  , -0.39363778],\n",
              "       [-0.39363778,  0.07446253],\n",
              "       [ 0.07446253, -0.48391676],\n",
              "       [-0.48391676, -0.20739293],\n",
              "       [-0.20739293, -0.21663404],\n",
              "       [-0.21663404,  0.14128315],\n",
              "       [ 0.14128315, -0.30122626],\n",
              "       [-0.30122626,  0.13737333],\n",
              "       [ 0.13737333,  0.00231028]], dtype=float32)"
            ]
          },
          "metadata": {
            "tags": []
          },
          "execution_count": 139
        }
      ]
    },
    {
      "cell_type": "code",
      "metadata": {
        "colab": {
          "base_uri": "https://localhost:8080/"
        },
        "id": "nzPIF0ONyOdR",
        "outputId": "569e94c8-7f7d-4867-bcc3-b8d2b828f808"
      },
      "source": [
        "# reshape em X=t and Y=t+1 para o conjunto de teste\n",
        "\n",
        "testX, testY  = create_dataset(test, janela_previsao)\n",
        "print(\"Conjunto de Teste no formato supervisionado:\")\n",
        "print(testX)\n",
        "print(\"Conjunto de Teste no formato supervisionado:\")\n",
        "print(testY)\n",
        "print(\"\\nDF = [X | X+1]\")\n",
        "np.column_stack((testX, testY))"
      ],
      "execution_count": 140,
      "outputs": [
        {
          "output_type": "stream",
          "text": [
            "Conjunto de Teste no formato supervisionado:\n",
            "[[0.62146807]\n",
            " [0.02470243]\n",
            " [1.        ]\n",
            " [0.26532793]]\n",
            "Conjunto de Teste no formato supervisionado:\n",
            "[0.02470243 1.         0.26532793 0.6420827 ]\n",
            "\n",
            "DF = [X | X+1]\n"
          ],
          "name": "stdout"
        },
        {
          "output_type": "execute_result",
          "data": {
            "text/plain": [
              "array([[0.62146807, 0.02470243],\n",
              "       [0.02470243, 1.        ],\n",
              "       [1.        , 0.26532793],\n",
              "       [0.26532793, 0.6420827 ]], dtype=float32)"
            ]
          },
          "metadata": {
            "tags": []
          },
          "execution_count": 140
        }
      ]
    },
    {
      "cell_type": "code",
      "metadata": {
        "colab": {
          "base_uri": "https://localhost:8080/"
        },
        "id": "Tu-Aw7-hA_fE",
        "outputId": "dc862229-27a1-4d13-ff62-f0329cc1268e"
      },
      "source": [
        "# Ajustando os conjunto de treino (trainX) e teste (testX) para o formato\n",
        "# [samples, time_steps, features]\n",
        "trainX = numpy.reshape(trainX, (trainX.shape[0], 1, trainX.shape[1]))\n",
        "print(\"- Dim train:\", trainX.shape)\n",
        "testX = numpy.reshape(testX, (testX.shape[0], 1, testX.shape[1]))\n",
        "print(\"- Dim test:  \", testX.shape)\n",
        "\n",
        "print(\"Teste no formato para input:\") #alternativamente poderíamos ter amostras multivariadas\n",
        "print(testX)"
      ],
      "execution_count": 141,
      "outputs": [
        {
          "output_type": "stream",
          "text": [
            "- Dim train: (28, 1, 1)\n",
            "- Dim test:   (4, 1, 1)\n",
            "Teste no formato para input:\n",
            "[[[0.62146807]]\n",
            "\n",
            " [[0.02470243]]\n",
            "\n",
            " [[1.        ]]\n",
            "\n",
            " [[0.26532793]]]\n"
          ],
          "name": "stdout"
        }
      ]
    },
    {
      "cell_type": "code",
      "metadata": {
        "colab": {
          "base_uri": "https://localhost:8080/"
        },
        "id": "cUq6paulylj6",
        "outputId": "0eee4b0b-2542-4153-f9d7-662c502be5f7"
      },
      "source": [
        "# Criando nossa rede recorrente com unidades de LSTM \n",
        "\n",
        "# formato keras sequencial\n",
        "model = Sequential()\n",
        "\n",
        "# camada recorrente com 4 blocos/neurônios, amostra única (1) \n",
        "# para prever a janela de previsão = 1\n",
        "# assim, input_shape = (1, 1)\n",
        "model.add(LSTM(units=4, input_shape=(1, janela_previsao))) \n",
        "# Add um layer, completamente conectado para agregar a saida dos 4 neuronios\n",
        "model.add(Dense(1))\n",
        "\n",
        "# visualizar o modelo (arquitetura) que geramos\n",
        "model.summary()"
      ],
      "execution_count": 143,
      "outputs": [
        {
          "output_type": "stream",
          "text": [
            "Model: \"sequential_5\"\n",
            "_________________________________________________________________\n",
            "Layer (type)                 Output Shape              Param #   \n",
            "=================================================================\n",
            "lstm_5 (LSTM)                (None, 4)                 96        \n",
            "_________________________________________________________________\n",
            "dense_5 (Dense)              (None, 1)                 5         \n",
            "=================================================================\n",
            "Total params: 101\n",
            "Trainable params: 101\n",
            "Non-trainable params: 0\n",
            "_________________________________________________________________\n"
          ],
          "name": "stdout"
        }
      ]
    },
    {
      "cell_type": "code",
      "metadata": {
        "id": "jGwX8EMpz4z7"
      },
      "source": [
        "# parâmetros para otimizacao\n",
        "# medida a ser minimizada = Erro quadrático médio (Mean Squared Error)\n",
        "# Otimizador, algoritmo de treinamento = Adam\n",
        "# métricas para avaliar o modelo = MSE, RMSE, MAE\n",
        "model.compile(loss='mean_squared_error', \n",
        "              optimizer='adam', \n",
        "              metrics=[\"MeanSquaredError\", \"RootMeanSquaredError\", \"MeanAbsoluteError\"]\n",
        ") "
      ],
      "execution_count": 144,
      "outputs": []
    },
    {
      "cell_type": "code",
      "metadata": {
        "colab": {
          "base_uri": "https://localhost:8080/"
        },
        "id": "2T9f4HTBy2Zw",
        "outputId": "6315594e-b8f3-4c39-918e-5af89a133cec"
      },
      "source": [
        "# Treinando nossa rede\n",
        "# epocas = 100\n",
        "# batch_size = 1, treinar amostra por amostra\n",
        "history = model.fit(trainX, trainY, epochs=100, batch_size=1, verbose=2)"
      ],
      "execution_count": 145,
      "outputs": [
        {
          "output_type": "stream",
          "text": [
            "Epoch 1/100\n",
            "28/28 - 1s - loss: 0.2899 - mean_squared_error: 0.2899 - root_mean_squared_error: 0.5384 - mean_absolute_error: 0.4734\n",
            "Epoch 2/100\n",
            "28/28 - 0s - loss: 0.2513 - mean_squared_error: 0.2513 - root_mean_squared_error: 0.5013 - mean_absolute_error: 0.4385\n",
            "Epoch 3/100\n",
            "28/28 - 0s - loss: 0.2160 - mean_squared_error: 0.2160 - root_mean_squared_error: 0.4648 - mean_absolute_error: 0.4049\n",
            "Epoch 4/100\n",
            "28/28 - 0s - loss: 0.1885 - mean_squared_error: 0.1885 - root_mean_squared_error: 0.4342 - mean_absolute_error: 0.3791\n",
            "Epoch 5/100\n",
            "28/28 - 0s - loss: 0.1642 - mean_squared_error: 0.1642 - root_mean_squared_error: 0.4053 - mean_absolute_error: 0.3546\n",
            "Epoch 6/100\n",
            "28/28 - 0s - loss: 0.1459 - mean_squared_error: 0.1459 - root_mean_squared_error: 0.3819 - mean_absolute_error: 0.3320\n",
            "Epoch 7/100\n",
            "28/28 - 0s - loss: 0.1300 - mean_squared_error: 0.1300 - root_mean_squared_error: 0.3606 - mean_absolute_error: 0.3134\n",
            "Epoch 8/100\n",
            "28/28 - 0s - loss: 0.1178 - mean_squared_error: 0.1178 - root_mean_squared_error: 0.3433 - mean_absolute_error: 0.2986\n",
            "Epoch 9/100\n",
            "28/28 - 0s - loss: 0.1082 - mean_squared_error: 0.1082 - root_mean_squared_error: 0.3289 - mean_absolute_error: 0.2868\n",
            "Epoch 10/100\n",
            "28/28 - 0s - loss: 0.1017 - mean_squared_error: 0.1017 - root_mean_squared_error: 0.3189 - mean_absolute_error: 0.2785\n",
            "Epoch 11/100\n",
            "28/28 - 0s - loss: 0.0962 - mean_squared_error: 0.0962 - root_mean_squared_error: 0.3102 - mean_absolute_error: 0.2693\n",
            "Epoch 12/100\n",
            "28/28 - 0s - loss: 0.0929 - mean_squared_error: 0.0929 - root_mean_squared_error: 0.3047 - mean_absolute_error: 0.2642\n",
            "Epoch 13/100\n",
            "28/28 - 0s - loss: 0.0912 - mean_squared_error: 0.0912 - root_mean_squared_error: 0.3020 - mean_absolute_error: 0.2614\n",
            "Epoch 14/100\n",
            "28/28 - 0s - loss: 0.0886 - mean_squared_error: 0.0886 - root_mean_squared_error: 0.2976 - mean_absolute_error: 0.2560\n",
            "Epoch 15/100\n",
            "28/28 - 0s - loss: 0.0873 - mean_squared_error: 0.0873 - root_mean_squared_error: 0.2955 - mean_absolute_error: 0.2539\n",
            "Epoch 16/100\n",
            "28/28 - 0s - loss: 0.0867 - mean_squared_error: 0.0867 - root_mean_squared_error: 0.2945 - mean_absolute_error: 0.2519\n",
            "Epoch 17/100\n",
            "28/28 - 0s - loss: 0.0860 - mean_squared_error: 0.0860 - root_mean_squared_error: 0.2932 - mean_absolute_error: 0.2498\n",
            "Epoch 18/100\n",
            "28/28 - 0s - loss: 0.0855 - mean_squared_error: 0.0855 - root_mean_squared_error: 0.2924 - mean_absolute_error: 0.2481\n",
            "Epoch 19/100\n",
            "28/28 - 0s - loss: 0.0851 - mean_squared_error: 0.0851 - root_mean_squared_error: 0.2917 - mean_absolute_error: 0.2465\n",
            "Epoch 20/100\n",
            "28/28 - 0s - loss: 0.0852 - mean_squared_error: 0.0852 - root_mean_squared_error: 0.2919 - mean_absolute_error: 0.2461\n",
            "Epoch 21/100\n",
            "28/28 - 0s - loss: 0.0846 - mean_squared_error: 0.0846 - root_mean_squared_error: 0.2909 - mean_absolute_error: 0.2444\n",
            "Epoch 22/100\n",
            "28/28 - 0s - loss: 0.0852 - mean_squared_error: 0.0852 - root_mean_squared_error: 0.2920 - mean_absolute_error: 0.2448\n",
            "Epoch 23/100\n",
            "28/28 - 0s - loss: 0.0846 - mean_squared_error: 0.0846 - root_mean_squared_error: 0.2909 - mean_absolute_error: 0.2447\n",
            "Epoch 24/100\n",
            "28/28 - 0s - loss: 0.0843 - mean_squared_error: 0.0843 - root_mean_squared_error: 0.2904 - mean_absolute_error: 0.2443\n",
            "Epoch 25/100\n",
            "28/28 - 0s - loss: 0.0845 - mean_squared_error: 0.0845 - root_mean_squared_error: 0.2906 - mean_absolute_error: 0.2439\n",
            "Epoch 26/100\n",
            "28/28 - 0s - loss: 0.0842 - mean_squared_error: 0.0842 - root_mean_squared_error: 0.2902 - mean_absolute_error: 0.2433\n",
            "Epoch 27/100\n",
            "28/28 - 0s - loss: 0.0842 - mean_squared_error: 0.0842 - root_mean_squared_error: 0.2902 - mean_absolute_error: 0.2436\n",
            "Epoch 28/100\n",
            "28/28 - 0s - loss: 0.0840 - mean_squared_error: 0.0840 - root_mean_squared_error: 0.2899 - mean_absolute_error: 0.2427\n",
            "Epoch 29/100\n",
            "28/28 - 0s - loss: 0.0840 - mean_squared_error: 0.0840 - root_mean_squared_error: 0.2898 - mean_absolute_error: 0.2430\n",
            "Epoch 30/100\n",
            "28/28 - 0s - loss: 0.0837 - mean_squared_error: 0.0837 - root_mean_squared_error: 0.2893 - mean_absolute_error: 0.2425\n",
            "Epoch 31/100\n",
            "28/28 - 0s - loss: 0.0835 - mean_squared_error: 0.0835 - root_mean_squared_error: 0.2890 - mean_absolute_error: 0.2421\n",
            "Epoch 32/100\n",
            "28/28 - 0s - loss: 0.0834 - mean_squared_error: 0.0834 - root_mean_squared_error: 0.2888 - mean_absolute_error: 0.2421\n",
            "Epoch 33/100\n",
            "28/28 - 0s - loss: 0.0836 - mean_squared_error: 0.0836 - root_mean_squared_error: 0.2891 - mean_absolute_error: 0.2429\n",
            "Epoch 34/100\n",
            "28/28 - 0s - loss: 0.0840 - mean_squared_error: 0.0840 - root_mean_squared_error: 0.2898 - mean_absolute_error: 0.2416\n",
            "Epoch 35/100\n",
            "28/28 - 0s - loss: 0.0834 - mean_squared_error: 0.0834 - root_mean_squared_error: 0.2888 - mean_absolute_error: 0.2419\n",
            "Epoch 36/100\n",
            "28/28 - 0s - loss: 0.0834 - mean_squared_error: 0.0834 - root_mean_squared_error: 0.2888 - mean_absolute_error: 0.2410\n",
            "Epoch 37/100\n",
            "28/28 - 0s - loss: 0.0829 - mean_squared_error: 0.0829 - root_mean_squared_error: 0.2880 - mean_absolute_error: 0.2414\n",
            "Epoch 38/100\n",
            "28/28 - 0s - loss: 0.0832 - mean_squared_error: 0.0832 - root_mean_squared_error: 0.2884 - mean_absolute_error: 0.2421\n",
            "Epoch 39/100\n",
            "28/28 - 0s - loss: 0.0829 - mean_squared_error: 0.0829 - root_mean_squared_error: 0.2879 - mean_absolute_error: 0.2412\n",
            "Epoch 40/100\n",
            "28/28 - 0s - loss: 0.0829 - mean_squared_error: 0.0829 - root_mean_squared_error: 0.2880 - mean_absolute_error: 0.2411\n",
            "Epoch 41/100\n",
            "28/28 - 0s - loss: 0.0834 - mean_squared_error: 0.0834 - root_mean_squared_error: 0.2887 - mean_absolute_error: 0.2405\n",
            "Epoch 42/100\n",
            "28/28 - 0s - loss: 0.0830 - mean_squared_error: 0.0830 - root_mean_squared_error: 0.2881 - mean_absolute_error: 0.2416\n",
            "Epoch 43/100\n",
            "28/28 - 0s - loss: 0.0827 - mean_squared_error: 0.0827 - root_mean_squared_error: 0.2876 - mean_absolute_error: 0.2410\n",
            "Epoch 44/100\n",
            "28/28 - 0s - loss: 0.0831 - mean_squared_error: 0.0831 - root_mean_squared_error: 0.2882 - mean_absolute_error: 0.2409\n",
            "Epoch 45/100\n",
            "28/28 - 0s - loss: 0.0828 - mean_squared_error: 0.0828 - root_mean_squared_error: 0.2877 - mean_absolute_error: 0.2412\n",
            "Epoch 46/100\n",
            "28/28 - 0s - loss: 0.0826 - mean_squared_error: 0.0826 - root_mean_squared_error: 0.2874 - mean_absolute_error: 0.2410\n",
            "Epoch 47/100\n",
            "28/28 - 0s - loss: 0.0828 - mean_squared_error: 0.0828 - root_mean_squared_error: 0.2878 - mean_absolute_error: 0.2409\n",
            "Epoch 48/100\n",
            "28/28 - 0s - loss: 0.0824 - mean_squared_error: 0.0824 - root_mean_squared_error: 0.2870 - mean_absolute_error: 0.2401\n",
            "Epoch 49/100\n",
            "28/28 - 0s - loss: 0.0826 - mean_squared_error: 0.0826 - root_mean_squared_error: 0.2874 - mean_absolute_error: 0.2412\n",
            "Epoch 50/100\n",
            "28/28 - 0s - loss: 0.0822 - mean_squared_error: 0.0822 - root_mean_squared_error: 0.2867 - mean_absolute_error: 0.2402\n",
            "Epoch 51/100\n",
            "28/28 - 0s - loss: 0.0824 - mean_squared_error: 0.0824 - root_mean_squared_error: 0.2870 - mean_absolute_error: 0.2404\n",
            "Epoch 52/100\n",
            "28/28 - 0s - loss: 0.0821 - mean_squared_error: 0.0821 - root_mean_squared_error: 0.2865 - mean_absolute_error: 0.2396\n",
            "Epoch 53/100\n",
            "28/28 - 0s - loss: 0.0822 - mean_squared_error: 0.0822 - root_mean_squared_error: 0.2868 - mean_absolute_error: 0.2398\n",
            "Epoch 54/100\n",
            "28/28 - 0s - loss: 0.0820 - mean_squared_error: 0.0820 - root_mean_squared_error: 0.2864 - mean_absolute_error: 0.2392\n",
            "Epoch 55/100\n",
            "28/28 - 0s - loss: 0.0822 - mean_squared_error: 0.0822 - root_mean_squared_error: 0.2867 - mean_absolute_error: 0.2397\n",
            "Epoch 56/100\n",
            "28/28 - 0s - loss: 0.0822 - mean_squared_error: 0.0822 - root_mean_squared_error: 0.2867 - mean_absolute_error: 0.2400\n",
            "Epoch 57/100\n",
            "28/28 - 0s - loss: 0.0824 - mean_squared_error: 0.0824 - root_mean_squared_error: 0.2871 - mean_absolute_error: 0.2392\n",
            "Epoch 58/100\n",
            "28/28 - 0s - loss: 0.0819 - mean_squared_error: 0.0819 - root_mean_squared_error: 0.2861 - mean_absolute_error: 0.2388\n",
            "Epoch 59/100\n",
            "28/28 - 0s - loss: 0.0819 - mean_squared_error: 0.0819 - root_mean_squared_error: 0.2862 - mean_absolute_error: 0.2387\n",
            "Epoch 60/100\n",
            "28/28 - 0s - loss: 0.0820 - mean_squared_error: 0.0820 - root_mean_squared_error: 0.2863 - mean_absolute_error: 0.2396\n",
            "Epoch 61/100\n",
            "28/28 - 0s - loss: 0.0816 - mean_squared_error: 0.0816 - root_mean_squared_error: 0.2857 - mean_absolute_error: 0.2390\n",
            "Epoch 62/100\n",
            "28/28 - 0s - loss: 0.0819 - mean_squared_error: 0.0819 - root_mean_squared_error: 0.2862 - mean_absolute_error: 0.2392\n",
            "Epoch 63/100\n",
            "28/28 - 0s - loss: 0.0821 - mean_squared_error: 0.0821 - root_mean_squared_error: 0.2865 - mean_absolute_error: 0.2387\n",
            "Epoch 64/100\n",
            "28/28 - 0s - loss: 0.0820 - mean_squared_error: 0.0820 - root_mean_squared_error: 0.2863 - mean_absolute_error: 0.2399\n",
            "Epoch 65/100\n",
            "28/28 - 0s - loss: 0.0816 - mean_squared_error: 0.0816 - root_mean_squared_error: 0.2856 - mean_absolute_error: 0.2388\n",
            "Epoch 66/100\n",
            "28/28 - 0s - loss: 0.0819 - mean_squared_error: 0.0819 - root_mean_squared_error: 0.2861 - mean_absolute_error: 0.2396\n",
            "Epoch 67/100\n",
            "28/28 - 0s - loss: 0.0820 - mean_squared_error: 0.0820 - root_mean_squared_error: 0.2864 - mean_absolute_error: 0.2399\n",
            "Epoch 68/100\n",
            "28/28 - 0s - loss: 0.0817 - mean_squared_error: 0.0817 - root_mean_squared_error: 0.2858 - mean_absolute_error: 0.2390\n",
            "Epoch 69/100\n",
            "28/28 - 0s - loss: 0.0817 - mean_squared_error: 0.0817 - root_mean_squared_error: 0.2859 - mean_absolute_error: 0.2388\n",
            "Epoch 70/100\n",
            "28/28 - 0s - loss: 0.0820 - mean_squared_error: 0.0820 - root_mean_squared_error: 0.2863 - mean_absolute_error: 0.2393\n",
            "Epoch 71/100\n",
            "28/28 - 0s - loss: 0.0816 - mean_squared_error: 0.0816 - root_mean_squared_error: 0.2857 - mean_absolute_error: 0.2384\n",
            "Epoch 72/100\n",
            "28/28 - 0s - loss: 0.0814 - mean_squared_error: 0.0814 - root_mean_squared_error: 0.2853 - mean_absolute_error: 0.2382\n",
            "Epoch 73/100\n",
            "28/28 - 0s - loss: 0.0819 - mean_squared_error: 0.0819 - root_mean_squared_error: 0.2861 - mean_absolute_error: 0.2386\n",
            "Epoch 74/100\n",
            "28/28 - 0s - loss: 0.0817 - mean_squared_error: 0.0817 - root_mean_squared_error: 0.2858 - mean_absolute_error: 0.2391\n",
            "Epoch 75/100\n",
            "28/28 - 0s - loss: 0.0816 - mean_squared_error: 0.0816 - root_mean_squared_error: 0.2856 - mean_absolute_error: 0.2386\n",
            "Epoch 76/100\n",
            "28/28 - 0s - loss: 0.0813 - mean_squared_error: 0.0813 - root_mean_squared_error: 0.2852 - mean_absolute_error: 0.2379\n",
            "Epoch 77/100\n",
            "28/28 - 0s - loss: 0.0816 - mean_squared_error: 0.0816 - root_mean_squared_error: 0.2856 - mean_absolute_error: 0.2383\n",
            "Epoch 78/100\n",
            "28/28 - 0s - loss: 0.0815 - mean_squared_error: 0.0815 - root_mean_squared_error: 0.2855 - mean_absolute_error: 0.2384\n",
            "Epoch 79/100\n",
            "28/28 - 0s - loss: 0.0814 - mean_squared_error: 0.0814 - root_mean_squared_error: 0.2852 - mean_absolute_error: 0.2383\n",
            "Epoch 80/100\n",
            "28/28 - 0s - loss: 0.0816 - mean_squared_error: 0.0816 - root_mean_squared_error: 0.2857 - mean_absolute_error: 0.2384\n",
            "Epoch 81/100\n",
            "28/28 - 0s - loss: 0.0813 - mean_squared_error: 0.0813 - root_mean_squared_error: 0.2852 - mean_absolute_error: 0.2382\n",
            "Epoch 82/100\n",
            "28/28 - 0s - loss: 0.0812 - mean_squared_error: 0.0812 - root_mean_squared_error: 0.2849 - mean_absolute_error: 0.2381\n",
            "Epoch 83/100\n",
            "28/28 - 0s - loss: 0.0817 - mean_squared_error: 0.0817 - root_mean_squared_error: 0.2858 - mean_absolute_error: 0.2387\n",
            "Epoch 84/100\n",
            "28/28 - 0s - loss: 0.0813 - mean_squared_error: 0.0813 - root_mean_squared_error: 0.2851 - mean_absolute_error: 0.2386\n",
            "Epoch 85/100\n",
            "28/28 - 0s - loss: 0.0813 - mean_squared_error: 0.0813 - root_mean_squared_error: 0.2852 - mean_absolute_error: 0.2379\n",
            "Epoch 86/100\n",
            "28/28 - 0s - loss: 0.0817 - mean_squared_error: 0.0817 - root_mean_squared_error: 0.2859 - mean_absolute_error: 0.2381\n",
            "Epoch 87/100\n",
            "28/28 - 0s - loss: 0.0818 - mean_squared_error: 0.0818 - root_mean_squared_error: 0.2860 - mean_absolute_error: 0.2396\n",
            "Epoch 88/100\n",
            "28/28 - 0s - loss: 0.0812 - mean_squared_error: 0.0812 - root_mean_squared_error: 0.2850 - mean_absolute_error: 0.2380\n",
            "Epoch 89/100\n",
            "28/28 - 0s - loss: 0.0812 - mean_squared_error: 0.0812 - root_mean_squared_error: 0.2849 - mean_absolute_error: 0.2379\n",
            "Epoch 90/100\n",
            "28/28 - 0s - loss: 0.0813 - mean_squared_error: 0.0813 - root_mean_squared_error: 0.2851 - mean_absolute_error: 0.2380\n",
            "Epoch 91/100\n",
            "28/28 - 0s - loss: 0.0817 - mean_squared_error: 0.0817 - root_mean_squared_error: 0.2858 - mean_absolute_error: 0.2387\n",
            "Epoch 92/100\n",
            "28/28 - 0s - loss: 0.0821 - mean_squared_error: 0.0821 - root_mean_squared_error: 0.2866 - mean_absolute_error: 0.2392\n",
            "Epoch 93/100\n",
            "28/28 - 0s - loss: 0.0810 - mean_squared_error: 0.0810 - root_mean_squared_error: 0.2847 - mean_absolute_error: 0.2373\n",
            "Epoch 94/100\n",
            "28/28 - 0s - loss: 0.0814 - mean_squared_error: 0.0814 - root_mean_squared_error: 0.2853 - mean_absolute_error: 0.2382\n",
            "Epoch 95/100\n",
            "28/28 - 0s - loss: 0.0815 - mean_squared_error: 0.0815 - root_mean_squared_error: 0.2855 - mean_absolute_error: 0.2391\n",
            "Epoch 96/100\n",
            "28/28 - 0s - loss: 0.0815 - mean_squared_error: 0.0815 - root_mean_squared_error: 0.2855 - mean_absolute_error: 0.2386\n",
            "Epoch 97/100\n",
            "28/28 - 0s - loss: 0.0813 - mean_squared_error: 0.0813 - root_mean_squared_error: 0.2851 - mean_absolute_error: 0.2376\n",
            "Epoch 98/100\n",
            "28/28 - 0s - loss: 0.0811 - mean_squared_error: 0.0811 - root_mean_squared_error: 0.2848 - mean_absolute_error: 0.2377\n",
            "Epoch 99/100\n",
            "28/28 - 0s - loss: 0.0813 - mean_squared_error: 0.0813 - root_mean_squared_error: 0.2852 - mean_absolute_error: 0.2377\n",
            "Epoch 100/100\n",
            "28/28 - 0s - loss: 0.0816 - mean_squared_error: 0.0816 - root_mean_squared_error: 0.2857 - mean_absolute_error: 0.2380\n"
          ],
          "name": "stdout"
        }
      ]
    },
    {
      "cell_type": "code",
      "metadata": {
        "colab": {
          "base_uri": "https://localhost:8080/",
          "height": 279
        },
        "id": "cZ8Hk295DmJd",
        "outputId": "cb4c4808-2cc3-4361-b76d-f73ea035e928"
      },
      "source": [
        "# Plotando os erros obtidos no conjunto de treinamento\n",
        "# plotamos as três medidas (MSE, RMSE, MAE)\n",
        "# percebam que depois de 20 épocas, não há uma redução significativa nos erros, \n",
        "#e o treinamento poderia ser feito com uma quantidade menor de iterações\n",
        "\n",
        "# checar os nomes\n",
        "#print(history.history.keys())\n",
        "\n",
        "plt.plot(history.history['mean_squared_error'])\n",
        "plt.plot(history.history['root_mean_squared_error'])\n",
        "plt.plot(history.history['mean_absolute_error'])\n",
        "plt.xlabel('epoch')\n",
        "plt.legend(['MSE', 'RMSE', 'MAE'], loc='upper right')\n",
        "plt.show()"
      ],
      "execution_count": 146,
      "outputs": [
        {
          "output_type": "display_data",
          "data": {
            "image/png": "[encoded data removed]",
            "text/plain": [
              "<Figure size 432x288 with 1 Axes>"
            ]
          },
          "metadata": {
            "tags": [],
            "needs_background": "light"
          }
        }
      ]
    },
    {
      "cell_type": "code",
      "metadata": {
        "id": "XvlbL0fkzDgl"
      },
      "source": [
        "# Realizando as predições nos conjuntos de treino/teste\n",
        "\n",
        "# predição no conjunto de trienamento\n",
        "trainPredict = model.predict(trainX)\n",
        "\n",
        "# predição no conjunto de teste\n",
        "testPredict  = model.predict(testX)"
      ],
      "execution_count": 147,
      "outputs": []
    },
    {
      "cell_type": "code",
      "metadata": {
        "colab": {
          "base_uri": "https://localhost:8080/"
        },
        "id": "2MaXB8sXzK4O",
        "outputId": "d8b53645-aa95-4168-ea88-4c42bdf7bee0"
      },
      "source": [
        "print(\"Predição do Teste:\")\n",
        "print(testPredict)\n",
        "\n",
        "print(\"\\nDF = [Real | Predito]\")\n",
        "np.column_stack((testY, testPredict))\n"
      ],
      "execution_count": 148,
      "outputs": [
        {
          "output_type": "stream",
          "text": [
            "Predição do Teste:\n",
            "[[ 0.03481662]\n",
            " [-0.22759628]\n",
            " [ 0.12499128]\n",
            " [-0.10637464]]\n",
            "\n",
            "DF = [Real | Predito]\n"
          ],
          "name": "stdout"
        },
        {
          "output_type": "execute_result",
          "data": {
            "text/plain": [
              "array([[ 0.02470243,  0.03481662],\n",
              "       [ 1.        , -0.22759628],\n",
              "       [ 0.26532793,  0.12499128],\n",
              "       [ 0.6420827 , -0.10637464]], dtype=float32)"
            ]
          },
          "metadata": {
            "tags": []
          },
          "execution_count": 148
        }
      ]
    },
    {
      "cell_type": "code",
      "metadata": {
        "id": "Srk-aWu8zNWm"
      },
      "source": [
        "# Aplicando a inversa da escala para retornar ao valor original\n",
        "trainPredict = scaler.inverse_transform(trainPredict)\n",
        "trainY = scaler.inverse_transform([trainY])\n",
        "\n",
        "testPredict = scaler.inverse_transform(testPredict)\n",
        "testY = scaler.inverse_transform([testY])"
      ],
      "execution_count": 149,
      "outputs": []
    },
    {
      "cell_type": "code",
      "metadata": {
        "colab": {
          "base_uri": "https://localhost:8080/"
        },
        "id": "Zk8RvwEizRX8",
        "outputId": "fa2b91d8-0b46-48d0-d2ff-84bd8dedb524"
      },
      "source": [
        "print(\"\\n * Predição do Teste na escala original:\")\n",
        "print(testPredict.shape)\n",
        "print(testPredict)\n",
        "\n",
        "#print(\"\\nDF = [Real | Predito]\")\n",
        "#np.column_stack((testY, testPredict))\n",
        "\n",
        "print(\"\\n * Predição do Teste na escala original:\")\n",
        "print(testY.shape)\n",
        "print(testY)\n"
      ],
      "execution_count": 159,
      "outputs": [
        {
          "output_type": "stream",
          "text": [
            "\n",
            " * Predição do Teste na escala original:\n",
            "(4, 1)\n",
            "[[410.44565]\n",
            " [336.61578]\n",
            " [435.81628]\n",
            " [370.7215 ]]\n",
            "\n",
            " * Predição do Teste na escala original:\n",
            "(1, 4)\n",
            "[[407.60001748 681.99999017 475.30000242 581.29995486]]\n"
          ],
          "name": "stdout"
        }
      ]
    },
    {
      "cell_type": "code",
      "metadata": {
        "colab": {
          "base_uri": "https://localhost:8080/"
        },
        "id": "DQvupAV_zT1R",
        "outputId": "522b266a-cd28-4bc6-a2c5-765d7974ba59"
      },
      "source": [
        "# Calculando RMSE no treino e teste\n",
        "trainScore = math.sqrt(mean_squared_error(trainY[0], trainPredict[:,0]))\n",
        "print('Treino: %.2f RMSE' % (trainScore))\n",
        "\n",
        "testScore = math.sqrt(mean_squared_error(testY[0], testPredict[:,0]))\n",
        "print('Teste Score: %.2f RMSE' % (testScore))"
      ],
      "execution_count": 160,
      "outputs": [
        {
          "output_type": "stream",
          "text": [
            "Treino: 80.03 RMSE\n",
            "Teste Score: 203.22 RMSE\n"
          ],
          "name": "stdout"
        }
      ]
    },
    {
      "cell_type": "code",
      "metadata": {
        "colab": {
          "base_uri": "https://localhost:8080/"
        },
        "id": "S_cCE1syIE9b",
        "outputId": "778cbe7b-477e-4f37-c2a4-aa360803c59a"
      },
      "source": [
        "# Ajustando o plot do treino\n",
        "trainPredictPlot = numpy.empty_like(dataset)\n",
        "trainPredictPlot[:, :] = numpy.nan\n",
        "trainPredictPlot[janela_previsao:len(trainPredict)+janela_previsao, :] = trainPredict\n",
        "print(trainPredictPlot)"
      ],
      "execution_count": 169,
      "outputs": [
        {
          "output_type": "stream",
          "text": [
            "[[      nan]\n",
            " [259.60547]\n",
            " [202.29665]\n",
            " [218.71097]\n",
            " [191.34546]\n",
            " [217.43124]\n",
            " [212.1167 ]\n",
            " [242.0704 ]\n",
            " [238.4413 ]\n",
            " [223.1991 ]\n",
            " [192.78929]\n",
            " [297.75983]\n",
            " [219.99779]\n",
            " [223.90063]\n",
            " [203.82921]\n",
            " [231.41072]\n",
            " [263.4507 ]\n",
            " [222.54608]\n",
            " [270.74963]\n",
            " [239.18352]\n",
            " [279.71713]\n",
            " [272.30725]\n",
            " [344.00742]\n",
            " [258.81946]\n",
            " [300.96017]\n",
            " [299.52527]\n",
            " [353.6892 ]\n",
            " [286.43057]\n",
            " [353.1314 ]\n",
            " [      nan]\n",
            " [      nan]\n",
            " [      nan]\n",
            " [      nan]\n",
            " [      nan]\n",
            " [      nan]\n",
            " [      nan]]\n"
          ],
          "name": "stdout"
        }
      ]
    },
    {
      "cell_type": "code",
      "metadata": {
        "colab": {
          "base_uri": "https://localhost:8080/"
        },
        "id": "nqI-gXWVII-3",
        "outputId": "56dce8d2-2f26-4778-8834-c8a3cf28c503"
      },
      "source": [
        "# Ajustando o plot do teste\n",
        "testPredictPlot = numpy.empty_like(dataset)\n",
        "testPredictPlot[:, :] = numpy.nan\n",
        "testPredictPlot[len(trainPredict)+(janela_previsao*2)+1:len(dataset)-1, :] = testPredict\n",
        "print(testPredictPlot)"
      ],
      "execution_count": 170,
      "outputs": [
        {
          "output_type": "stream",
          "text": [
            "[[      nan]\n",
            " [      nan]\n",
            " [      nan]\n",
            " [      nan]\n",
            " [      nan]\n",
            " [      nan]\n",
            " [      nan]\n",
            " [      nan]\n",
            " [      nan]\n",
            " [      nan]\n",
            " [      nan]\n",
            " [      nan]\n",
            " [      nan]\n",
            " [      nan]\n",
            " [      nan]\n",
            " [      nan]\n",
            " [      nan]\n",
            " [      nan]\n",
            " [      nan]\n",
            " [      nan]\n",
            " [      nan]\n",
            " [      nan]\n",
            " [      nan]\n",
            " [      nan]\n",
            " [      nan]\n",
            " [      nan]\n",
            " [      nan]\n",
            " [      nan]\n",
            " [      nan]\n",
            " [      nan]\n",
            " [      nan]\n",
            " [410.44565]\n",
            " [336.61578]\n",
            " [435.81628]\n",
            " [370.7215 ]\n",
            " [      nan]]\n"
          ],
          "name": "stdout"
        }
      ]
    },
    {
      "cell_type": "code",
      "metadata": {
        "colab": {
          "base_uri": "https://localhost:8080/",
          "height": 280
        },
        "id": "JGpcXR6DzeC3",
        "outputId": "287659f7-84c4-42a8-f2c5-33c496d54ae1"
      },
      "source": [
        "# Ajustando o plot com o sinal original\n",
        "# - verde   = dataset original\n",
        "# - azul    = predicoes geradas no conjunto de treinamento\n",
        "# - laranja = predicoes geradas no conjunto de teste\n",
        "\n",
        "plt.plot(trainPredictPlot, marker='o', linestyle=\"--\")\n",
        "plt.plot(testPredictPlot, marker='s', linestyle=\"--\")\n",
        "plt.plot(scaler.inverse_transform(dataset), marker='^')\n",
        "plt.xlabel('instances')\n",
        "plt.legend(['train', 'test', 'original'], loc='upper left')\n",
        "plt.show()"
      ],
      "execution_count": 190,
      "outputs": [
        {
          "output_type": "display_data",
          "data": {
            "image/png": "[encoded data removed]",
            "text/plain": [
              "<Figure size 432x288 with 1 Axes>"
            ]
          },
          "metadata": {
            "tags": [],
            "needs_background": "light"
          }
        }
      ]
    }
  ]
}
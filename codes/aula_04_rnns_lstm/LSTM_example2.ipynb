{
  "nbformat": 4,
  "nbformat_minor": 0,
  "metadata": {
    "colab": {
      "name": "LSTM_example2.ipynb",
      "provenance": [],
      "authorship_tag": "ABX9TyNdeTLtpCB8DhXlceRYUU1p",
      "include_colab_link": true
    },
    "kernelspec": {
      "name": "python3",
      "display_name": "Python 3"
    },
    "language_info": {
      "name": "python"
    }
  },
  "cells": [
    {
      "cell_type": "markdown",
      "metadata": {
        "id": "view-in-github",
        "colab_type": "text"
      },
      "source": [
        "<a href=\"https://colab.research.google.com/github/rgmantovani/advancedML/blob/master/codes/aula_04_rnns_lstm/LSTM_example2.ipynb\" target=\"_parent\"><img src=\"https://colab.research.google.com/assets/colab-badge.svg\" alt=\"Open In Colab\"/></a>"
      ]
    },
    {
      "cell_type": "code",
      "metadata": {
        "id": "FfUBXbmF0I9P"
      },
      "source": [
        "# LSTM para avaliação de quantidade de passageiros.\n",
        "import numpy\n",
        "import matplotlib.pyplot as plt\n",
        "from pandas import read_csv\n",
        "import math\n",
        "from keras.models import Sequential\n",
        "from keras.layers import Dense\n",
        "from keras.layers import LSTM\n",
        "from sklearn.preprocessing import MinMaxScaler\n",
        "from sklearn.metrics import mean_squared_error"
      ],
      "execution_count": 1,
      "outputs": []
    },
    {
      "cell_type": "code",
      "metadata": {
        "id": "feWxcUNP0QgK"
      },
      "source": [
        "numpy.random.seed(42)"
      ],
      "execution_count": 2,
      "outputs": []
    },
    {
      "cell_type": "code",
      "metadata": {
        "id": "WYbDtxij0SS-"
      },
      "source": [
        "def create_dataset(dataset, janela_previsao=1):\n",
        "    dataX, dataY = [], []\n",
        "    for i in range(len(dataset)-janela_previsao-1):\n",
        "        a = dataset[i:(i+janela_previsao), 0]\n",
        "        dataX.append(a)\n",
        "        dataY.append(dataset[i + janela_previsao, 0])\n",
        "    return numpy.array(dataX), numpy.array(dataY)"
      ],
      "execution_count": 3,
      "outputs": []
    },
    {
      "cell_type": "code",
      "metadata": {
        "id": "Aqw5bkDW0V5t"
      },
      "source": [
        "dataframe = read_csv('https://raw.githubusercontent.com/jbrownlee/Datasets/master/airline-passengers.csv', usecols=[1], engine='python')\n",
        "dataset = dataframe.values\n",
        "dataset = dataset.astype('float32')"
      ],
      "execution_count": 4,
      "outputs": []
    },
    {
      "cell_type": "code",
      "metadata": {
        "colab": {
          "base_uri": "https://localhost:8080/",
          "height": 282
        },
        "id": "xfTLK5Ux0Ye9",
        "outputId": "d92c4e8a-1cc8-4265-e856-0994a0c0ea1a"
      },
      "source": [
        "plt.plot(dataset)"
      ],
      "execution_count": 5,
      "outputs": [
        {
          "output_type": "execute_result",
          "data": {
            "text/plain": [
              "[<matplotlib.lines.Line2D at 0x7f8a85adaa90>]"
            ]
          },
          "metadata": {
            "tags": []
          },
          "execution_count": 5
        },
        {
          "output_type": "display_data",
          "data": {
            "image/png": "[encoded data removed]",
            "text/plain": [
              "<Figure size 432x288 with 1 Axes>"
            ]
          },
          "metadata": {
            "tags": [],
            "needs_background": "light"
          }
        }
      ]
    },
    {
      "cell_type": "code",
      "metadata": {
        "colab": {
          "base_uri": "https://localhost:8080/"
        },
        "id": "gY0nHhlr0dNo",
        "outputId": "bff1c55d-6563-4a39-b41a-ea5956c97023"
      },
      "source": [
        "scaler = MinMaxScaler(feature_range=(0, 1))\n",
        "dataset = scaler.fit_transform(dataset)\n",
        "print(dataset[:10])"
      ],
      "execution_count": 9,
      "outputs": [
        {
          "output_type": "stream",
          "text": [
            "[[0.01544401]\n",
            " [0.02702703]\n",
            " [0.05405405]\n",
            " [0.04826255]\n",
            " [0.03281853]\n",
            " [0.05984557]\n",
            " [0.08494207]\n",
            " [0.08494207]\n",
            " [0.06177607]\n",
            " [0.02895753]]\n"
          ],
          "name": "stdout"
        }
      ]
    },
    {
      "cell_type": "code",
      "metadata": {
        "id": "CQoMl1ID0nQh"
      },
      "source": [
        "train_size = int(len(dataset) * 0.67)\n",
        "test_size = len(dataset) - train_size\n",
        "train, test = dataset[0:train_size,:], dataset[train_size:len(dataset),:]"
      ],
      "execution_count": 10,
      "outputs": []
    },
    {
      "cell_type": "code",
      "metadata": {
        "id": "ZbApN-TX0pxd"
      },
      "source": [
        "janela_previsao = 1\n",
        "trainX, trainY = create_dataset(train, janela_previsao)\n",
        "testX, testY = create_dataset(test, janela_previsao)"
      ],
      "execution_count": 11,
      "outputs": []
    },
    {
      "cell_type": "code",
      "metadata": {
        "id": "mF1zK8sp0rnG"
      },
      "source": [
        "trainX = numpy.reshape(trainX, (trainX.shape[0], 1, trainX.shape[1]))\n",
        "testX = numpy.reshape(testX, (testX.shape[0], 1, testX.shape[1]))"
      ],
      "execution_count": 12,
      "outputs": []
    },
    {
      "cell_type": "code",
      "metadata": {
        "colab": {
          "base_uri": "https://localhost:8080/"
        },
        "id": "HAywGdpf0vNM",
        "outputId": "cc0defea-fda6-4cf6-bace-b0682b393d09"
      },
      "source": [
        "model = Sequential()\n",
        "model.add(LSTM(4, input_shape=(1, janela_previsao)))\n",
        "model.add(Dense(1))\n",
        "\n",
        "model.summary()"
      ],
      "execution_count": 14,
      "outputs": [
        {
          "output_type": "stream",
          "text": [
            "Model: \"sequential_1\"\n",
            "_________________________________________________________________\n",
            "Layer (type)                 Output Shape              Param #   \n",
            "=================================================================\n",
            "lstm_1 (LSTM)                (None, 4)                 96        \n",
            "_________________________________________________________________\n",
            "dense_1 (Dense)              (None, 1)                 5         \n",
            "=================================================================\n",
            "Total params: 101\n",
            "Trainable params: 101\n",
            "Non-trainable params: 0\n",
            "_________________________________________________________________\n"
          ],
          "name": "stdout"
        }
      ]
    },
    {
      "cell_type": "code",
      "metadata": {
        "id": "7DFN4UkL00_R"
      },
      "source": [
        "model.compile(loss='mean_squared_error', optimizer='adam')"
      ],
      "execution_count": 15,
      "outputs": []
    },
    {
      "cell_type": "code",
      "metadata": {
        "colab": {
          "base_uri": "https://localhost:8080/"
        },
        "id": "7Tfy339a022v",
        "outputId": "857c209d-a4d3-474b-8ca3-77a34a97ffff"
      },
      "source": [
        "model.fit(trainX, trainY, epochs=100, batch_size=1, verbose=2)"
      ],
      "execution_count": 16,
      "outputs": [
        {
          "output_type": "stream",
          "text": [
            "Epoch 1/100\n",
            "94/94 - 2s - loss: 0.0399\n",
            "Epoch 2/100\n",
            "94/94 - 0s - loss: 0.0192\n",
            "Epoch 3/100\n",
            "94/94 - 0s - loss: 0.0145\n",
            "Epoch 4/100\n",
            "94/94 - 0s - loss: 0.0131\n",
            "Epoch 5/100\n",
            "94/94 - 0s - loss: 0.0124\n",
            "Epoch 6/100\n",
            "94/94 - 0s - loss: 0.0114\n",
            "Epoch 7/100\n",
            "94/94 - 0s - loss: 0.0103\n",
            "Epoch 8/100\n",
            "94/94 - 0s - loss: 0.0095\n",
            "Epoch 9/100\n",
            "94/94 - 0s - loss: 0.0087\n",
            "Epoch 10/100\n",
            "94/94 - 0s - loss: 0.0077\n",
            "Epoch 11/100\n",
            "94/94 - 0s - loss: 0.0069\n",
            "Epoch 12/100\n",
            "94/94 - 0s - loss: 0.0062\n",
            "Epoch 13/100\n",
            "94/94 - 0s - loss: 0.0055\n",
            "Epoch 14/100\n",
            "94/94 - 0s - loss: 0.0048\n",
            "Epoch 15/100\n",
            "94/94 - 0s - loss: 0.0043\n",
            "Epoch 16/100\n",
            "94/94 - 0s - loss: 0.0037\n",
            "Epoch 17/100\n",
            "94/94 - 0s - loss: 0.0033\n",
            "Epoch 18/100\n",
            "94/94 - 0s - loss: 0.0030\n",
            "Epoch 19/100\n",
            "94/94 - 0s - loss: 0.0027\n",
            "Epoch 20/100\n",
            "94/94 - 0s - loss: 0.0025\n",
            "Epoch 21/100\n",
            "94/94 - 0s - loss: 0.0024\n",
            "Epoch 22/100\n",
            "94/94 - 0s - loss: 0.0022\n",
            "Epoch 23/100\n",
            "94/94 - 0s - loss: 0.0021\n",
            "Epoch 24/100\n",
            "94/94 - 0s - loss: 0.0021\n",
            "Epoch 25/100\n",
            "94/94 - 0s - loss: 0.0021\n",
            "Epoch 26/100\n",
            "94/94 - 0s - loss: 0.0020\n",
            "Epoch 27/100\n",
            "94/94 - 0s - loss: 0.0020\n",
            "Epoch 28/100\n",
            "94/94 - 0s - loss: 0.0020\n",
            "Epoch 29/100\n",
            "94/94 - 0s - loss: 0.0020\n",
            "Epoch 30/100\n",
            "94/94 - 0s - loss: 0.0020\n",
            "Epoch 31/100\n",
            "94/94 - 0s - loss: 0.0020\n",
            "Epoch 32/100\n",
            "94/94 - 0s - loss: 0.0020\n",
            "Epoch 33/100\n",
            "94/94 - 0s - loss: 0.0020\n",
            "Epoch 34/100\n",
            "94/94 - 0s - loss: 0.0020\n",
            "Epoch 35/100\n",
            "94/94 - 0s - loss: 0.0020\n",
            "Epoch 36/100\n",
            "94/94 - 0s - loss: 0.0020\n",
            "Epoch 37/100\n",
            "94/94 - 0s - loss: 0.0020\n",
            "Epoch 38/100\n",
            "94/94 - 0s - loss: 0.0020\n",
            "Epoch 39/100\n",
            "94/94 - 0s - loss: 0.0020\n",
            "Epoch 40/100\n",
            "94/94 - 0s - loss: 0.0020\n",
            "Epoch 41/100\n",
            "94/94 - 0s - loss: 0.0020\n",
            "Epoch 42/100\n",
            "94/94 - 0s - loss: 0.0020\n",
            "Epoch 43/100\n",
            "94/94 - 0s - loss: 0.0020\n",
            "Epoch 44/100\n",
            "94/94 - 0s - loss: 0.0020\n",
            "Epoch 45/100\n",
            "94/94 - 0s - loss: 0.0020\n",
            "Epoch 46/100\n",
            "94/94 - 0s - loss: 0.0020\n",
            "Epoch 47/100\n",
            "94/94 - 0s - loss: 0.0020\n",
            "Epoch 48/100\n",
            "94/94 - 0s - loss: 0.0020\n",
            "Epoch 49/100\n",
            "94/94 - 0s - loss: 0.0020\n",
            "Epoch 50/100\n",
            "94/94 - 0s - loss: 0.0020\n",
            "Epoch 51/100\n",
            "94/94 - 0s - loss: 0.0020\n",
            "Epoch 52/100\n",
            "94/94 - 0s - loss: 0.0020\n",
            "Epoch 53/100\n",
            "94/94 - 0s - loss: 0.0020\n",
            "Epoch 54/100\n",
            "94/94 - 0s - loss: 0.0020\n",
            "Epoch 55/100\n",
            "94/94 - 0s - loss: 0.0020\n",
            "Epoch 56/100\n",
            "94/94 - 0s - loss: 0.0020\n",
            "Epoch 57/100\n",
            "94/94 - 0s - loss: 0.0020\n",
            "Epoch 58/100\n",
            "94/94 - 0s - loss: 0.0020\n",
            "Epoch 59/100\n",
            "94/94 - 0s - loss: 0.0020\n",
            "Epoch 60/100\n",
            "94/94 - 0s - loss: 0.0020\n",
            "Epoch 61/100\n",
            "94/94 - 0s - loss: 0.0020\n",
            "Epoch 62/100\n",
            "94/94 - 0s - loss: 0.0020\n",
            "Epoch 63/100\n",
            "94/94 - 0s - loss: 0.0020\n",
            "Epoch 64/100\n",
            "94/94 - 0s - loss: 0.0021\n",
            "Epoch 65/100\n",
            "94/94 - 0s - loss: 0.0020\n",
            "Epoch 66/100\n",
            "94/94 - 0s - loss: 0.0021\n",
            "Epoch 67/100\n",
            "94/94 - 0s - loss: 0.0020\n",
            "Epoch 68/100\n",
            "94/94 - 0s - loss: 0.0020\n",
            "Epoch 69/100\n",
            "94/94 - 0s - loss: 0.0020\n",
            "Epoch 70/100\n",
            "94/94 - 0s - loss: 0.0020\n",
            "Epoch 71/100\n",
            "94/94 - 0s - loss: 0.0020\n",
            "Epoch 72/100\n",
            "94/94 - 0s - loss: 0.0020\n",
            "Epoch 73/100\n",
            "94/94 - 0s - loss: 0.0020\n",
            "Epoch 74/100\n",
            "94/94 - 0s - loss: 0.0020\n",
            "Epoch 75/100\n",
            "94/94 - 0s - loss: 0.0020\n",
            "Epoch 76/100\n",
            "94/94 - 0s - loss: 0.0020\n",
            "Epoch 77/100\n",
            "94/94 - 0s - loss: 0.0020\n",
            "Epoch 78/100\n",
            "94/94 - 0s - loss: 0.0020\n",
            "Epoch 79/100\n",
            "94/94 - 0s - loss: 0.0020\n",
            "Epoch 80/100\n",
            "94/94 - 0s - loss: 0.0020\n",
            "Epoch 81/100\n",
            "94/94 - 0s - loss: 0.0021\n",
            "Epoch 82/100\n",
            "94/94 - 0s - loss: 0.0020\n",
            "Epoch 83/100\n",
            "94/94 - 0s - loss: 0.0020\n",
            "Epoch 84/100\n",
            "94/94 - 0s - loss: 0.0020\n",
            "Epoch 85/100\n",
            "94/94 - 0s - loss: 0.0020\n",
            "Epoch 86/100\n",
            "94/94 - 0s - loss: 0.0020\n",
            "Epoch 87/100\n",
            "94/94 - 0s - loss: 0.0020\n",
            "Epoch 88/100\n",
            "94/94 - 0s - loss: 0.0020\n",
            "Epoch 89/100\n",
            "94/94 - 0s - loss: 0.0020\n",
            "Epoch 90/100\n",
            "94/94 - 0s - loss: 0.0020\n",
            "Epoch 91/100\n",
            "94/94 - 0s - loss: 0.0020\n",
            "Epoch 92/100\n",
            "94/94 - 0s - loss: 0.0020\n",
            "Epoch 93/100\n",
            "94/94 - 0s - loss: 0.0020\n",
            "Epoch 94/100\n",
            "94/94 - 0s - loss: 0.0019\n",
            "Epoch 95/100\n",
            "94/94 - 0s - loss: 0.0021\n",
            "Epoch 96/100\n",
            "94/94 - 0s - loss: 0.0020\n",
            "Epoch 97/100\n",
            "94/94 - 0s - loss: 0.0020\n",
            "Epoch 98/100\n",
            "94/94 - 0s - loss: 0.0019\n",
            "Epoch 99/100\n",
            "94/94 - 0s - loss: 0.0020\n",
            "Epoch 100/100\n",
            "94/94 - 0s - loss: 0.0020\n"
          ],
          "name": "stdout"
        },
        {
          "output_type": "execute_result",
          "data": {
            "text/plain": [
              "<tensorflow.python.keras.callbacks.History at 0x7f8a7de57310>"
            ]
          },
          "metadata": {
            "tags": []
          },
          "execution_count": 16
        }
      ]
    },
    {
      "cell_type": "code",
      "metadata": {
        "id": "p6u5sH9P07PQ"
      },
      "source": [
        "trainPredict = model.predict(trainX)\n",
        "testPredict = model.predict(testX)"
      ],
      "execution_count": 17,
      "outputs": []
    },
    {
      "cell_type": "code",
      "metadata": {
        "id": "0W-E2dIh0_Uk"
      },
      "source": [
        "trainPredict = scaler.inverse_transform(trainPredict)\n",
        "trainY = scaler.inverse_transform([trainY])\n",
        "testPredict = scaler.inverse_transform(testPredict)\n",
        "testY = scaler.inverse_transform([testY])"
      ],
      "execution_count": 18,
      "outputs": []
    },
    {
      "cell_type": "code",
      "metadata": {
        "colab": {
          "base_uri": "https://localhost:8080/"
        },
        "id": "ROF1g3gf1CCJ",
        "outputId": "f5c748de-b844-424d-bc92-9cace6f2b9a0"
      },
      "source": [
        "trainScore = math.sqrt(mean_squared_error(trainY[0], trainPredict[:,0]))\n",
        "print('Treino: %.2f RMSE' % (trainScore))\n",
        "testScore = math.sqrt(mean_squared_error(testY[0], testPredict[:,0]))\n",
        "print('Teste Score: %.2f RMSE' % (testScore))"
      ],
      "execution_count": 19,
      "outputs": [
        {
          "output_type": "stream",
          "text": [
            "Treino: 0.04 RMSE\n",
            "Teste Score: 0.10 RMSE\n"
          ],
          "name": "stdout"
        }
      ]
    },
    {
      "cell_type": "code",
      "metadata": {
        "colab": {
          "base_uri": "https://localhost:8080/",
          "height": 265
        },
        "id": "lHRGVSGr1FKx",
        "outputId": "accc709a-d74c-4593-e9a9-9b08777b15a7"
      },
      "source": [
        "trainPredictPlot = numpy.empty_like(dataset)\n",
        "trainPredictPlot[:, :] = numpy.nan\n",
        "trainPredictPlot[janela_previsao:len(trainPredict)+janela_previsao, :] = trainPredict\n",
        "\n",
        "testPredictPlot = numpy.empty_like(dataset)\n",
        "testPredictPlot[:, :] = numpy.nan\n",
        "testPredictPlot[len(trainPredict)+(janela_previsao*2)+1:len(dataset)-1, :] = testPredict\n",
        "\n",
        "plt.plot(scaler.inverse_transform(dataset))\n",
        "plt.plot(trainPredictPlot)\n",
        "plt.plot(testPredictPlot)\n",
        "plt.show()"
      ],
      "execution_count": 21,
      "outputs": [
        {
          "output_type": "display_data",
          "data": {
            "image/png": "[encoded data removed]",
            "text/plain": [
              "<Figure size 432x288 with 1 Axes>"
            ]
          },
          "metadata": {
            "tags": [],
            "needs_background": "light"
          }
        }
      ]
    }
  ]
}
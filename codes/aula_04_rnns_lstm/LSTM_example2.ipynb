{
  "nbformat": 4,
  "nbformat_minor": 0,
  "metadata": {
    "colab": {
      "name": "LSTM_example2.ipynb",
      "provenance": [],
      "authorship_tag": "ABX9TyNmnP0yo2tG3o+5neqJ+WfQ",
      "include_colab_link": true
    },
    "kernelspec": {
      "name": "python3",
      "display_name": "Python 3"
    },
    "language_info": {
      "name": "python"
    }
  },
  "cells": [
    {
      "cell_type": "markdown",
      "metadata": {
        "id": "view-in-github",
        "colab_type": "text"
      },
      "source": [
        "<a href=\"https://colab.research.google.com/github/rgmantovani/advancedML/blob/master/codes/aula_04_rnns_lstm/LSTM_example2.ipynb\" target=\"_parent\"><img src=\"https://colab.research.google.com/assets/colab-badge.svg\" alt=\"Open In Colab\"/></a>"
      ]
    },
    {
      "cell_type": "markdown",
      "metadata": {
        "id": "imPkqde4SDU6"
      },
      "source": [
        "# Uso de Deep Learning para Séries Temporais (LSTMs)\n",
        "\n",
        "Disciplina: Métodos e Modelos Avançados em Ciência de Dados\n",
        "\n",
        "Especialização em Ciência de Dados - Universidade Tecnologica Federal do Paraná\n",
        "\n",
        "Aula 04: RNNs e LSTMs\n",
        "\n",
        "Exemplo 02: Executando LSTM para série temporal univariada (airline-passengers)\n",
        "\n",
        "---"
      ]
    },
    {
      "cell_type": "code",
      "metadata": {
        "id": "FfUBXbmF0I9P"
      },
      "source": [
        "# importando as bibliotecas necessárias para rodar o script\n",
        "\n",
        "# manipulação de números de ponto flutuante\n",
        "import numpy as np\n",
        "\n",
        "# plotagem de gráficos\n",
        "import matplotlib.pyplot as plt\n",
        "\n",
        "# criação manipulação de data frames\n",
        "import pandas as pd\n",
        "\n",
        "# funções matemáticas\n",
        "import math\n",
        "\n",
        "# criação dos modelos de DL\n",
        "from keras.models import Sequential\n",
        "from keras.layers import Dense\n",
        "from keras.layers import LSTM\n",
        "\n",
        "# preprocessador - escalar os dados\n",
        "from sklearn.preprocessing import MinMaxScaler\n",
        "\n",
        "# metrica de desempenho (MSE)\n",
        "from sklearn.metrics import mean_squared_error"
      ],
      "execution_count": 23,
      "outputs": []
    },
    {
      "cell_type": "code",
      "metadata": {
        "id": "feWxcUNP0QgK"
      },
      "source": [
        "# definir um seed para reprodução dos experimentos\n",
        "numpy.random.seed(42)"
      ],
      "execution_count": 25,
      "outputs": []
    },
    {
      "cell_type": "code",
      "metadata": {
        "id": "WYbDtxij0SS-"
      },
      "source": [
        "# funcao auxiliar para criar os itervalos de previsao\n",
        "# é a mesma que usamos no exemplo anterior\n",
        "def create_dataset(dataset, janela_previsao=1):\n",
        "    dataX, dataY = [], []\n",
        "    for i in range(len(dataset)-janela_previsao-1):\n",
        "        a = dataset[i:(i+janela_previsao), 0]\n",
        "        dataX.append(a)\n",
        "        dataY.append(dataset[i + janela_previsao, 0])\n",
        "    return numpy.array(dataX), numpy.array(dataY)"
      ],
      "execution_count": 24,
      "outputs": []
    },
    {
      "cell_type": "code",
      "metadata": {
        "colab": {
          "base_uri": "https://localhost:8080/"
        },
        "id": "Aqw5bkDW0V5t",
        "outputId": "590e5083-cf23-4725-bab5-7760151a5a75"
      },
      "source": [
        "# obter dataset --> https://github.com/jbrownlee/Datasets\n",
        "# Exemplo: shampoo, venda de shampoos ao longo de três anos\n",
        "\n",
        "url = 'https://raw.githubusercontent.com/jbrownlee/Datasets/master/airline-passengers.csv'\n",
        "dataframe = pd.read_csv(url, usecols=[1], engine='python')\n",
        "dataset = dataframe.values\n",
        "dataset = dataset.astype('float32')\n",
        "\n",
        "# vislumbrar um pedaço dos dados e formato lido\n",
        "print(\"\\n* Dimensão dos dados:\", dataset.shape) \n",
        "# 36 amostras/instâncias, univariadas (um único valor real)\n",
        "print(\"* Dados originais:\")\n",
        "print(dataset[:10])"
      ],
      "execution_count": 26,
      "outputs": [
        {
          "output_type": "stream",
          "text": [
            "\n",
            "* Dimensão dos dados: (144, 1)\n",
            "* Dados originais:\n",
            "[[112.]\n",
            " [118.]\n",
            " [132.]\n",
            " [129.]\n",
            " [121.]\n",
            " [135.]\n",
            " [148.]\n",
            " [148.]\n",
            " [136.]\n",
            " [119.]]\n"
          ],
          "name": "stdout"
        }
      ]
    },
    {
      "cell_type": "code",
      "metadata": {
        "colab": {
          "base_uri": "https://localhost:8080/",
          "height": 282
        },
        "id": "xfTLK5Ux0Ye9",
        "outputId": "bd4f41a6-6d72-400d-ee35-d605917794be"
      },
      "source": [
        "# plotar os dados para visualizar a nossa time series\n",
        "plt.plot(dataset, linestyle='--', marker='o', color='b')"
      ],
      "execution_count": 27,
      "outputs": [
        {
          "output_type": "execute_result",
          "data": {
            "text/plain": [
              "[<matplotlib.lines.Line2D at 0x7f8a7b57d5d0>]"
            ]
          },
          "metadata": {
            "tags": []
          },
          "execution_count": 27
        },
        {
          "output_type": "display_data",
          "data": {
            "image/png": "[encoded data removed]",
            "text/plain": [
              "<Figure size 432x288 with 1 Axes>"
            ]
          },
          "metadata": {
            "tags": [],
            "needs_background": "light"
          }
        }
      ]
    },
    {
      "cell_type": "code",
      "metadata": {
        "colab": {
          "base_uri": "https://localhost:8080/"
        },
        "id": "gY0nHhlr0dNo",
        "outputId": "1f399c71-7d96-416c-b7e0-34f8eedab59b"
      },
      "source": [
        "# Normalizando os dados\n",
        "\n",
        "# escalar os dados no intervalo [0,1] usando sklearn\n",
        "# from sklearn.preprocessing import MinMaxScaler\n",
        "\n",
        "scaler = MinMaxScaler(feature_range=(0, 1))\n",
        "dataset = scaler.fit_transform(dataset)\n",
        "\n",
        "print(\"* Dados escalados:\")\n",
        "print(dataset[:10].transpose())"
      ],
      "execution_count": 28,
      "outputs": [
        {
          "output_type": "stream",
          "text": [
            "* Dados escalados:\n",
            "[[0.01544401 0.02702703 0.05405405 0.04826255 0.03281853 0.05984557\n",
            "  0.08494207 0.08494207 0.06177607 0.02895753]]\n"
          ],
          "name": "stdout"
        }
      ]
    },
    {
      "cell_type": "code",
      "metadata": {
        "colab": {
          "base_uri": "https://localhost:8080/",
          "height": 282
        },
        "id": "KZTLoRGRS1Ep",
        "outputId": "5889a577-cc84-4bde-fa88-98ee58929959"
      },
      "source": [
        "# visualizar nossos dados escalados\n",
        "# Obs: prestar atenção ao eixo Y, agora varia entre [0, +1]\n",
        "plt.plot(dataset, linestyle='--', marker='o', color='b')"
      ],
      "execution_count": 29,
      "outputs": [
        {
          "output_type": "execute_result",
          "data": {
            "text/plain": [
              "[<matplotlib.lines.Line2D at 0x7f8a7a6316d0>]"
            ]
          },
          "metadata": {
            "tags": []
          },
          "execution_count": 29
        },
        {
          "output_type": "display_data",
          "data": {
            "image/png": "[encoded data removed]",
            "text/plain": [
              "<Figure size 432x288 with 1 Axes>"
            ]
          },
          "metadata": {
            "tags": [],
            "needs_background": "light"
          }
        }
      ]
    },
    {
      "cell_type": "code",
      "metadata": {
        "colab": {
          "base_uri": "https://localhost:8080/"
        },
        "id": "CQoMl1ID0nQh",
        "outputId": "aa2403f4-047d-4583-ba27-5a960bc77183"
      },
      "source": [
        "# Ajustando conjunto de treino e teste\n",
        "# 85% dos exemplos no treino, 15% no teste\n",
        "train_size = int(len(dataset) * 0.67)\n",
        "test_size = len(dataset) - train_size\n",
        "\n",
        "#print(train_size, test_size)\n",
        "print(\"- Numero de instâncias treino: \", train_size)\n",
        "print(\"- Numero de instâncias teste: \", test_size)"
      ],
      "execution_count": 30,
      "outputs": [
        {
          "output_type": "stream",
          "text": [
            "- Numero de instâncias treino:  96\n",
            "- Numero de instâncias teste:  48\n"
          ],
          "name": "stdout"
        }
      ]
    },
    {
      "cell_type": "code",
      "metadata": {
        "colab": {
          "base_uri": "https://localhost:8080/"
        },
        "id": "9ush7QuJTAOC",
        "outputId": "0c20e79b-9d74-4d46-c574-41f90dfc9801"
      },
      "source": [
        "train, test = dataset[0:train_size,:], dataset[train_size:len(dataset),:]\n",
        "\n",
        "# Conjunto de treinamento - amostras de 0-95\n",
        "# Conjunto de teste - amostras de 96-143\n",
        "train, test = dataset[0:train_size,:], dataset[train_size:len(dataset),:]\n",
        "\n",
        "print(\"* Conjunto de Treinamento:\", train.shape)\n",
        "#print(train)\n",
        "\n",
        "print(\"* Conjunto de Teste:\", test.shape)\n",
        "#print(test)\n"
      ],
      "execution_count": 31,
      "outputs": [
        {
          "output_type": "stream",
          "text": [
            "* Conjunto de Treinamento: (96, 1)\n",
            "* Conjunto de Teste: (48, 1)\n"
          ],
          "name": "stdout"
        }
      ]
    },
    {
      "cell_type": "code",
      "metadata": {
        "colab": {
          "base_uri": "https://localhost:8080/"
        },
        "id": "ZbApN-TX0pxd",
        "outputId": "c502afad-f980-4b77-9e68-30adf118408b"
      },
      "source": [
        "# reshape em X=t and Y=t+1\n",
        "# isto é, criando dados no padrão DF = [X|Y]\n",
        "# para cada X, o Y = X+1\n",
        "\n",
        "janela_previsao = 1\n",
        "trainX, trainY = create_dataset(train, janela_previsao)\n",
        "\n",
        "# vendo o nosso conjunto de treinamento\n",
        "print(\"DF = [X | X+1]\")\n",
        "np.column_stack((trainX, trainY))\n"
      ],
      "execution_count": 32,
      "outputs": [
        {
          "output_type": "stream",
          "text": [
            "DF = [X | X+1]\n"
          ],
          "name": "stdout"
        },
        {
          "output_type": "execute_result",
          "data": {
            "text/plain": [
              "array([[0.01544401, 0.02702703],\n",
              "       [0.02702703, 0.05405405],\n",
              "       [0.05405405, 0.04826255],\n",
              "       [0.04826255, 0.03281853],\n",
              "       [0.03281853, 0.05984557],\n",
              "       [0.05984557, 0.08494207],\n",
              "       [0.08494207, 0.08494207],\n",
              "       [0.08494207, 0.06177607],\n",
              "       [0.06177607, 0.02895753],\n",
              "       [0.02895753, 0.        ],\n",
              "       [0.        , 0.02702703],\n",
              "       [0.02702703, 0.02123553],\n",
              "       [0.02123553, 0.04247104],\n",
              "       [0.04247104, 0.07142857],\n",
              "       [0.07142857, 0.05984557],\n",
              "       [0.05984557, 0.04054055],\n",
              "       [0.04054055, 0.08687258],\n",
              "       [0.08687258, 0.12741312],\n",
              "       [0.12741312, 0.12741312],\n",
              "       [0.12741312, 0.10424709],\n",
              "       [0.10424709, 0.05598456],\n",
              "       [0.05598456, 0.01930502],\n",
              "       [0.01930502, 0.06949806],\n",
              "       [0.06949806, 0.07915059],\n",
              "       [0.07915059, 0.08880308],\n",
              "       [0.08880308, 0.14285713],\n",
              "       [0.14285713, 0.11389962],\n",
              "       [0.11389962, 0.13127413],\n",
              "       [0.13127413, 0.14285713],\n",
              "       [0.14285713, 0.18339768],\n",
              "       [0.18339768, 0.18339768],\n",
              "       [0.18339768, 0.15444016],\n",
              "       [0.15444016, 0.11196911],\n",
              "       [0.11196911, 0.08108109],\n",
              "       [0.08108109, 0.1196911 ],\n",
              "       [0.1196911 , 0.12934363],\n",
              "       [0.12934363, 0.14671814],\n",
              "       [0.14671814, 0.17181468],\n",
              "       [0.17181468, 0.14864865],\n",
              "       [0.14864865, 0.15250966],\n",
              "       [0.15250966, 0.22007722],\n",
              "       [0.22007722, 0.24324325],\n",
              "       [0.24324325, 0.26640925],\n",
              "       [0.26640925, 0.2027027 ],\n",
              "       [0.2027027 , 0.16795367],\n",
              "       [0.16795367, 0.13127413],\n",
              "       [0.13127413, 0.17374519],\n",
              "       [0.17374519, 0.17760617],\n",
              "       [0.17760617, 0.17760617],\n",
              "       [0.17760617, 0.25482625],\n",
              "       [0.25482625, 0.25289574],\n",
              "       [0.25289574, 0.24131274],\n",
              "       [0.24131274, 0.26833975],\n",
              "       [0.26833975, 0.3088803 ],\n",
              "       [0.3088803 , 0.32432434],\n",
              "       [0.32432434, 0.25675675],\n",
              "       [0.25675675, 0.20656371],\n",
              "       [0.20656371, 0.14671814],\n",
              "       [0.14671814, 0.18725869],\n",
              "       [0.18725869, 0.19305018],\n",
              "       [0.19305018, 0.16216215],\n",
              "       [0.16216215, 0.25289574],\n",
              "       [0.25289574, 0.23745173],\n",
              "       [0.23745173, 0.25096524],\n",
              "       [0.25096524, 0.3088803 ],\n",
              "       [0.3088803 , 0.38223937],\n",
              "       [0.38223937, 0.36486486],\n",
              "       [0.36486486, 0.2992278 ],\n",
              "       [0.2992278 , 0.24131274],\n",
              "       [0.24131274, 0.1911197 ],\n",
              "       [0.1911197 , 0.24131274],\n",
              "       [0.24131274, 0.26640925],\n",
              "       [0.26640925, 0.24903473],\n",
              "       [0.24903473, 0.31467178],\n",
              "       [0.31467178, 0.3185328 ],\n",
              "       [0.3185328 , 0.32046333],\n",
              "       [0.32046333, 0.4073359 ],\n",
              "       [0.4073359 , 0.5019305 ],\n",
              "       [0.5019305 , 0.46911195],\n",
              "       [0.46911195, 0.40154442],\n",
              "       [0.40154442, 0.32818535],\n",
              "       [0.32818535, 0.25675675],\n",
              "       [0.25675675, 0.3359073 ],\n",
              "       [0.3359073 , 0.34749034],\n",
              "       [0.34749034, 0.33397684],\n",
              "       [0.33397684, 0.41119692],\n",
              "       [0.41119692, 0.4034749 ],\n",
              "       [0.4034749 , 0.4131274 ],\n",
              "       [0.4131274 , 0.52123547],\n",
              "       [0.52123547, 0.5965251 ],\n",
              "       [0.5965251 , 0.58108103],\n",
              "       [0.58108103, 0.484556  ],\n",
              "       [0.484556  , 0.3899614 ],\n",
              "       [0.3899614 , 0.3223938 ]], dtype=float32)"
            ]
          },
          "metadata": {
            "tags": []
          },
          "execution_count": 32
        }
      ]
    },
    {
      "cell_type": "code",
      "metadata": {
        "colab": {
          "base_uri": "https://localhost:8080/"
        },
        "id": "JBzpOdybTSz7",
        "outputId": "c1a31ced-2aa4-4831-cffc-d52f93be99bd"
      },
      "source": [
        "# reshape em X=t and Y=t+1 para o conjunto de teste\n",
        "testX, testY  = create_dataset(test, janela_previsao)\n",
        "print(\"Conjunto de Teste no formato supervisionado:\")\n",
        "print(testX)\n",
        "print(\"Conjunto de Teste no formato supervisionado:\")\n",
        "print(testY)\n",
        "print(\"\\nDF = [X | X+1]\")\n",
        "np.column_stack((testX, testY))\n"
      ],
      "execution_count": 33,
      "outputs": [
        {
          "output_type": "stream",
          "text": [
            "Conjunto de Teste no formato supervisionado:\n",
            "[[0.4073359 ]\n",
            " [0.3803089 ]\n",
            " [0.48648646]\n",
            " [0.47104248]\n",
            " [0.484556  ]\n",
            " [0.6138996 ]\n",
            " [0.6969112 ]\n",
            " [0.70077217]\n",
            " [0.57915056]\n",
            " [0.46911195]\n",
            " [0.38803086]\n",
            " [0.44787642]\n",
            " [0.45559844]\n",
            " [0.4131274 ]\n",
            " [0.4980695 ]\n",
            " [0.47104248]\n",
            " [0.49999997]\n",
            " [0.6389961 ]\n",
            " [0.7471043 ]\n",
            " [0.7741313 ]\n",
            " [0.57915056]\n",
            " [0.492278  ]\n",
            " [0.3976834 ]\n",
            " [0.44980696]\n",
            " [0.49420848]\n",
            " [0.45945945]\n",
            " [0.5830116 ]\n",
            " [0.5637065 ]\n",
            " [0.61003864]\n",
            " [0.71042466]\n",
            " [0.8571429 ]\n",
            " [0.8783784 ]\n",
            " [0.69305015]\n",
            " [0.5849421 ]\n",
            " [0.4980695 ]\n",
            " [0.58108103]\n",
            " [0.6042471 ]\n",
            " [0.554054  ]\n",
            " [0.60810804]\n",
            " [0.6891892 ]\n",
            " [0.71042466]\n",
            " [0.8320464 ]\n",
            " [1.        ]\n",
            " [0.96911204]\n",
            " [0.7799227 ]\n",
            " [0.6891892 ]]\n",
            "Conjunto de Teste no formato supervisionado:\n",
            "[0.3803089  0.48648646 0.47104248 0.484556   0.6138996  0.6969112\n",
            " 0.70077217 0.57915056 0.46911195 0.38803086 0.44787642 0.45559844\n",
            " 0.4131274  0.4980695  0.47104248 0.49999997 0.6389961  0.7471043\n",
            " 0.7741313  0.57915056 0.492278   0.3976834  0.44980696 0.49420848\n",
            " 0.45945945 0.5830116  0.5637065  0.61003864 0.71042466 0.8571429\n",
            " 0.8783784  0.69305015 0.5849421  0.4980695  0.58108103 0.6042471\n",
            " 0.554054   0.60810804 0.6891892  0.71042466 0.8320464  1.\n",
            " 0.96911204 0.7799227  0.6891892  0.55212355]\n",
            "\n",
            "DF = [X | X+1]\n"
          ],
          "name": "stdout"
        },
        {
          "output_type": "execute_result",
          "data": {
            "text/plain": [
              "array([[0.4073359 , 0.3803089 ],\n",
              "       [0.3803089 , 0.48648646],\n",
              "       [0.48648646, 0.47104248],\n",
              "       [0.47104248, 0.484556  ],\n",
              "       [0.484556  , 0.6138996 ],\n",
              "       [0.6138996 , 0.6969112 ],\n",
              "       [0.6969112 , 0.70077217],\n",
              "       [0.70077217, 0.57915056],\n",
              "       [0.57915056, 0.46911195],\n",
              "       [0.46911195, 0.38803086],\n",
              "       [0.38803086, 0.44787642],\n",
              "       [0.44787642, 0.45559844],\n",
              "       [0.45559844, 0.4131274 ],\n",
              "       [0.4131274 , 0.4980695 ],\n",
              "       [0.4980695 , 0.47104248],\n",
              "       [0.47104248, 0.49999997],\n",
              "       [0.49999997, 0.6389961 ],\n",
              "       [0.6389961 , 0.7471043 ],\n",
              "       [0.7471043 , 0.7741313 ],\n",
              "       [0.7741313 , 0.57915056],\n",
              "       [0.57915056, 0.492278  ],\n",
              "       [0.492278  , 0.3976834 ],\n",
              "       [0.3976834 , 0.44980696],\n",
              "       [0.44980696, 0.49420848],\n",
              "       [0.49420848, 0.45945945],\n",
              "       [0.45945945, 0.5830116 ],\n",
              "       [0.5830116 , 0.5637065 ],\n",
              "       [0.5637065 , 0.61003864],\n",
              "       [0.61003864, 0.71042466],\n",
              "       [0.71042466, 0.8571429 ],\n",
              "       [0.8571429 , 0.8783784 ],\n",
              "       [0.8783784 , 0.69305015],\n",
              "       [0.69305015, 0.5849421 ],\n",
              "       [0.5849421 , 0.4980695 ],\n",
              "       [0.4980695 , 0.58108103],\n",
              "       [0.58108103, 0.6042471 ],\n",
              "       [0.6042471 , 0.554054  ],\n",
              "       [0.554054  , 0.60810804],\n",
              "       [0.60810804, 0.6891892 ],\n",
              "       [0.6891892 , 0.71042466],\n",
              "       [0.71042466, 0.8320464 ],\n",
              "       [0.8320464 , 1.        ],\n",
              "       [1.        , 0.96911204],\n",
              "       [0.96911204, 0.7799227 ],\n",
              "       [0.7799227 , 0.6891892 ],\n",
              "       [0.6891892 , 0.55212355]], dtype=float32)"
            ]
          },
          "metadata": {
            "tags": []
          },
          "execution_count": 33
        }
      ]
    },
    {
      "cell_type": "code",
      "metadata": {
        "colab": {
          "base_uri": "https://localhost:8080/"
        },
        "id": "mF1zK8sp0rnG",
        "outputId": "b9d37655-df37-4d0e-f908-8b006728464d"
      },
      "source": [
        "# Ajustando os conjunto de treino (trainX) e teste (testX) para o formato\n",
        "# [samples, time_steps, features]\n",
        "trainX = numpy.reshape(trainX, (trainX.shape[0], 1, trainX.shape[1]))\n",
        "print(\"- Dim train:\", trainX.shape)\n",
        "testX = numpy.reshape(testX, (testX.shape[0], 1, testX.shape[1]))\n",
        "print(\"- Dim test:  \", testX.shape)\n",
        "\n",
        "print(\"Teste no formato para input:\") #alternativamente poderíamos ter amostras multivariadas\n",
        "print(testX)"
      ],
      "execution_count": 34,
      "outputs": [
        {
          "output_type": "stream",
          "text": [
            "- Dim train: (94, 1, 1)\n",
            "- Dim test:   (46, 1, 1)\n",
            "Teste no formato para input:\n",
            "[[[0.4073359 ]]\n",
            "\n",
            " [[0.3803089 ]]\n",
            "\n",
            " [[0.48648646]]\n",
            "\n",
            " [[0.47104248]]\n",
            "\n",
            " [[0.484556  ]]\n",
            "\n",
            " [[0.6138996 ]]\n",
            "\n",
            " [[0.6969112 ]]\n",
            "\n",
            " [[0.70077217]]\n",
            "\n",
            " [[0.57915056]]\n",
            "\n",
            " [[0.46911195]]\n",
            "\n",
            " [[0.38803086]]\n",
            "\n",
            " [[0.44787642]]\n",
            "\n",
            " [[0.45559844]]\n",
            "\n",
            " [[0.4131274 ]]\n",
            "\n",
            " [[0.4980695 ]]\n",
            "\n",
            " [[0.47104248]]\n",
            "\n",
            " [[0.49999997]]\n",
            "\n",
            " [[0.6389961 ]]\n",
            "\n",
            " [[0.7471043 ]]\n",
            "\n",
            " [[0.7741313 ]]\n",
            "\n",
            " [[0.57915056]]\n",
            "\n",
            " [[0.492278  ]]\n",
            "\n",
            " [[0.3976834 ]]\n",
            "\n",
            " [[0.44980696]]\n",
            "\n",
            " [[0.49420848]]\n",
            "\n",
            " [[0.45945945]]\n",
            "\n",
            " [[0.5830116 ]]\n",
            "\n",
            " [[0.5637065 ]]\n",
            "\n",
            " [[0.61003864]]\n",
            "\n",
            " [[0.71042466]]\n",
            "\n",
            " [[0.8571429 ]]\n",
            "\n",
            " [[0.8783784 ]]\n",
            "\n",
            " [[0.69305015]]\n",
            "\n",
            " [[0.5849421 ]]\n",
            "\n",
            " [[0.4980695 ]]\n",
            "\n",
            " [[0.58108103]]\n",
            "\n",
            " [[0.6042471 ]]\n",
            "\n",
            " [[0.554054  ]]\n",
            "\n",
            " [[0.60810804]]\n",
            "\n",
            " [[0.6891892 ]]\n",
            "\n",
            " [[0.71042466]]\n",
            "\n",
            " [[0.8320464 ]]\n",
            "\n",
            " [[1.        ]]\n",
            "\n",
            " [[0.96911204]]\n",
            "\n",
            " [[0.7799227 ]]\n",
            "\n",
            " [[0.6891892 ]]]\n"
          ],
          "name": "stdout"
        }
      ]
    },
    {
      "cell_type": "code",
      "metadata": {
        "colab": {
          "base_uri": "https://localhost:8080/"
        },
        "id": "HAywGdpf0vNM",
        "outputId": "ad5c4acc-02e3-4051-c1df-09c506182d97"
      },
      "source": [
        "# Criando nossa rede recorrente com unidades de LSTM \n",
        "# formato keras sequencial\n",
        "model = Sequential()\n",
        "model.add(LSTM(units=4, input_shape=(1, janela_previsao))) \n",
        "model.add(Dense(1))\n",
        "\n",
        "# visualizar o modelo (arquitetura) que geramos\n",
        "model.summary()\n"
      ],
      "execution_count": 35,
      "outputs": [
        {
          "output_type": "stream",
          "text": [
            "Model: \"sequential_2\"\n",
            "_________________________________________________________________\n",
            "Layer (type)                 Output Shape              Param #   \n",
            "=================================================================\n",
            "lstm_2 (LSTM)                (None, 4)                 96        \n",
            "_________________________________________________________________\n",
            "dense_2 (Dense)              (None, 1)                 5         \n",
            "=================================================================\n",
            "Total params: 101\n",
            "Trainable params: 101\n",
            "Non-trainable params: 0\n",
            "_________________________________________________________________\n"
          ],
          "name": "stdout"
        }
      ]
    },
    {
      "cell_type": "code",
      "metadata": {
        "id": "7DFN4UkL00_R"
      },
      "source": [
        "# parâmetros para otimizacao\n",
        "# medida a ser minimizada = Erro quadrático médio (Mean Squared Error)\n",
        "# Otimizador, algoritmo de treinamento = Adam\n",
        "# métricas para avaliar o modelo = MSE, RMSE, MAE\n",
        "model.compile(loss='mean_squared_error', \n",
        "              optimizer='adam', \n",
        "              metrics=[\"MeanSquaredError\", \"RootMeanSquaredError\", \"MeanAbsoluteError\"]\n",
        ") "
      ],
      "execution_count": 36,
      "outputs": []
    },
    {
      "cell_type": "code",
      "metadata": {
        "colab": {
          "base_uri": "https://localhost:8080/"
        },
        "id": "7Tfy339a022v",
        "outputId": "c82cf10d-3a93-40ba-d1b0-6b3b97ca273f"
      },
      "source": [
        "# Treinando nossa rede\n",
        "# epocas = 100\n",
        "# batch_size = 1, treinar amostra por amostra\n",
        "history = model.fit(trainX, trainY, epochs=100, batch_size=1, verbose=2)"
      ],
      "execution_count": 37,
      "outputs": [
        {
          "output_type": "stream",
          "text": [
            "Epoch 1/100\n",
            "94/94 - 1s - loss: 0.0488 - mean_squared_error: 0.0488 - root_mean_squared_error: 0.2210 - mean_absolute_error: 0.1725\n",
            "Epoch 2/100\n",
            "94/94 - 0s - loss: 0.0251 - mean_squared_error: 0.0251 - root_mean_squared_error: 0.1585 - mean_absolute_error: 0.1220\n",
            "Epoch 3/100\n",
            "94/94 - 0s - loss: 0.0174 - mean_squared_error: 0.0174 - root_mean_squared_error: 0.1319 - mean_absolute_error: 0.1045\n",
            "Epoch 4/100\n",
            "94/94 - 0s - loss: 0.0154 - mean_squared_error: 0.0154 - root_mean_squared_error: 0.1242 - mean_absolute_error: 0.1021\n",
            "Epoch 5/100\n",
            "94/94 - 0s - loss: 0.0144 - mean_squared_error: 0.0144 - root_mean_squared_error: 0.1200 - mean_absolute_error: 0.0987\n",
            "Epoch 6/100\n",
            "94/94 - 0s - loss: 0.0135 - mean_squared_error: 0.0135 - root_mean_squared_error: 0.1160 - mean_absolute_error: 0.0957\n",
            "Epoch 7/100\n",
            "94/94 - 0s - loss: 0.0126 - mean_squared_error: 0.0126 - root_mean_squared_error: 0.1123 - mean_absolute_error: 0.0931\n",
            "Epoch 8/100\n",
            "94/94 - 0s - loss: 0.0117 - mean_squared_error: 0.0117 - root_mean_squared_error: 0.1082 - mean_absolute_error: 0.0889\n",
            "Epoch 9/100\n",
            "94/94 - 0s - loss: 0.0108 - mean_squared_error: 0.0108 - root_mean_squared_error: 0.1038 - mean_absolute_error: 0.0857\n",
            "Epoch 10/100\n",
            "94/94 - 0s - loss: 0.0099 - mean_squared_error: 0.0099 - root_mean_squared_error: 0.0997 - mean_absolute_error: 0.0821\n",
            "Epoch 11/100\n",
            "94/94 - 0s - loss: 0.0090 - mean_squared_error: 0.0090 - root_mean_squared_error: 0.0949 - mean_absolute_error: 0.0778\n",
            "Epoch 12/100\n",
            "94/94 - 0s - loss: 0.0082 - mean_squared_error: 0.0082 - root_mean_squared_error: 0.0904 - mean_absolute_error: 0.0747\n",
            "Epoch 13/100\n",
            "94/94 - 0s - loss: 0.0073 - mean_squared_error: 0.0073 - root_mean_squared_error: 0.0856 - mean_absolute_error: 0.0695\n",
            "Epoch 14/100\n",
            "94/94 - 0s - loss: 0.0065 - mean_squared_error: 0.0065 - root_mean_squared_error: 0.0806 - mean_absolute_error: 0.0659\n",
            "Epoch 15/100\n",
            "94/94 - 0s - loss: 0.0057 - mean_squared_error: 0.0057 - root_mean_squared_error: 0.0755 - mean_absolute_error: 0.0614\n",
            "Epoch 16/100\n",
            "94/94 - 0s - loss: 0.0050 - mean_squared_error: 0.0050 - root_mean_squared_error: 0.0708 - mean_absolute_error: 0.0579\n",
            "Epoch 17/100\n",
            "94/94 - 0s - loss: 0.0044 - mean_squared_error: 0.0044 - root_mean_squared_error: 0.0661 - mean_absolute_error: 0.0533\n",
            "Epoch 18/100\n",
            "94/94 - 0s - loss: 0.0039 - mean_squared_error: 0.0039 - root_mean_squared_error: 0.0622 - mean_absolute_error: 0.0505\n",
            "Epoch 19/100\n",
            "94/94 - 0s - loss: 0.0034 - mean_squared_error: 0.0034 - root_mean_squared_error: 0.0583 - mean_absolute_error: 0.0464\n",
            "Epoch 20/100\n",
            "94/94 - 0s - loss: 0.0030 - mean_squared_error: 0.0030 - root_mean_squared_error: 0.0549 - mean_absolute_error: 0.0438\n",
            "Epoch 21/100\n",
            "94/94 - 0s - loss: 0.0027 - mean_squared_error: 0.0027 - root_mean_squared_error: 0.0521 - mean_absolute_error: 0.0420\n",
            "Epoch 22/100\n",
            "94/94 - 0s - loss: 0.0025 - mean_squared_error: 0.0025 - root_mean_squared_error: 0.0498 - mean_absolute_error: 0.0389\n",
            "Epoch 23/100\n",
            "94/94 - 0s - loss: 0.0023 - mean_squared_error: 0.0023 - root_mean_squared_error: 0.0484 - mean_absolute_error: 0.0394\n",
            "Epoch 24/100\n",
            "94/94 - 0s - loss: 0.0022 - mean_squared_error: 0.0022 - root_mean_squared_error: 0.0470 - mean_absolute_error: 0.0374\n",
            "Epoch 25/100\n",
            "94/94 - 0s - loss: 0.0021 - mean_squared_error: 0.0021 - root_mean_squared_error: 0.0463 - mean_absolute_error: 0.0366\n",
            "Epoch 26/100\n",
            "94/94 - 0s - loss: 0.0021 - mean_squared_error: 0.0021 - root_mean_squared_error: 0.0455 - mean_absolute_error: 0.0360\n",
            "Epoch 27/100\n",
            "94/94 - 0s - loss: 0.0021 - mean_squared_error: 0.0021 - root_mean_squared_error: 0.0454 - mean_absolute_error: 0.0355\n",
            "Epoch 28/100\n",
            "94/94 - 0s - loss: 0.0021 - mean_squared_error: 0.0021 - root_mean_squared_error: 0.0453 - mean_absolute_error: 0.0361\n",
            "Epoch 29/100\n",
            "94/94 - 0s - loss: 0.0020 - mean_squared_error: 0.0020 - root_mean_squared_error: 0.0449 - mean_absolute_error: 0.0351\n",
            "Epoch 30/100\n",
            "94/94 - 0s - loss: 0.0020 - mean_squared_error: 0.0020 - root_mean_squared_error: 0.0449 - mean_absolute_error: 0.0353\n",
            "Epoch 31/100\n",
            "94/94 - 0s - loss: 0.0020 - mean_squared_error: 0.0020 - root_mean_squared_error: 0.0446 - mean_absolute_error: 0.0349\n",
            "Epoch 32/100\n",
            "94/94 - 0s - loss: 0.0020 - mean_squared_error: 0.0020 - root_mean_squared_error: 0.0451 - mean_absolute_error: 0.0354\n",
            "Epoch 33/100\n",
            "94/94 - 0s - loss: 0.0020 - mean_squared_error: 0.0020 - root_mean_squared_error: 0.0452 - mean_absolute_error: 0.0354\n",
            "Epoch 34/100\n",
            "94/94 - 0s - loss: 0.0020 - mean_squared_error: 0.0020 - root_mean_squared_error: 0.0450 - mean_absolute_error: 0.0352\n",
            "Epoch 35/100\n",
            "94/94 - 0s - loss: 0.0020 - mean_squared_error: 0.0020 - root_mean_squared_error: 0.0452 - mean_absolute_error: 0.0355\n",
            "Epoch 36/100\n",
            "94/94 - 0s - loss: 0.0019 - mean_squared_error: 0.0019 - root_mean_squared_error: 0.0441 - mean_absolute_error: 0.0350\n",
            "Epoch 37/100\n",
            "94/94 - 0s - loss: 0.0022 - mean_squared_error: 0.0022 - root_mean_squared_error: 0.0465 - mean_absolute_error: 0.0371\n",
            "Epoch 38/100\n",
            "94/94 - 0s - loss: 0.0020 - mean_squared_error: 0.0020 - root_mean_squared_error: 0.0449 - mean_absolute_error: 0.0354\n",
            "Epoch 39/100\n",
            "94/94 - 0s - loss: 0.0021 - mean_squared_error: 0.0021 - root_mean_squared_error: 0.0457 - mean_absolute_error: 0.0363\n",
            "Epoch 40/100\n",
            "94/94 - 0s - loss: 0.0020 - mean_squared_error: 0.0020 - root_mean_squared_error: 0.0448 - mean_absolute_error: 0.0352\n",
            "Epoch 41/100\n",
            "94/94 - 0s - loss: 0.0020 - mean_squared_error: 0.0020 - root_mean_squared_error: 0.0450 - mean_absolute_error: 0.0354\n",
            "Epoch 42/100\n",
            "94/94 - 0s - loss: 0.0020 - mean_squared_error: 0.0020 - root_mean_squared_error: 0.0445 - mean_absolute_error: 0.0351\n",
            "Epoch 43/100\n",
            "94/94 - 0s - loss: 0.0020 - mean_squared_error: 0.0020 - root_mean_squared_error: 0.0447 - mean_absolute_error: 0.0351\n",
            "Epoch 44/100\n",
            "94/94 - 0s - loss: 0.0020 - mean_squared_error: 0.0020 - root_mean_squared_error: 0.0450 - mean_absolute_error: 0.0355\n",
            "Epoch 45/100\n",
            "94/94 - 0s - loss: 0.0020 - mean_squared_error: 0.0020 - root_mean_squared_error: 0.0450 - mean_absolute_error: 0.0360\n",
            "Epoch 46/100\n",
            "94/94 - 0s - loss: 0.0020 - mean_squared_error: 0.0020 - root_mean_squared_error: 0.0447 - mean_absolute_error: 0.0352\n",
            "Epoch 47/100\n",
            "94/94 - 0s - loss: 0.0020 - mean_squared_error: 0.0020 - root_mean_squared_error: 0.0446 - mean_absolute_error: 0.0348\n",
            "Epoch 48/100\n",
            "94/94 - 0s - loss: 0.0020 - mean_squared_error: 0.0020 - root_mean_squared_error: 0.0447 - mean_absolute_error: 0.0351\n",
            "Epoch 49/100\n",
            "94/94 - 0s - loss: 0.0020 - mean_squared_error: 0.0020 - root_mean_squared_error: 0.0449 - mean_absolute_error: 0.0356\n",
            "Epoch 50/100\n",
            "94/94 - 0s - loss: 0.0021 - mean_squared_error: 0.0021 - root_mean_squared_error: 0.0455 - mean_absolute_error: 0.0366\n",
            "Epoch 51/100\n",
            "94/94 - 0s - loss: 0.0020 - mean_squared_error: 0.0020 - root_mean_squared_error: 0.0450 - mean_absolute_error: 0.0354\n",
            "Epoch 52/100\n",
            "94/94 - 0s - loss: 0.0020 - mean_squared_error: 0.0020 - root_mean_squared_error: 0.0448 - mean_absolute_error: 0.0350\n",
            "Epoch 53/100\n",
            "94/94 - 0s - loss: 0.0020 - mean_squared_error: 0.0020 - root_mean_squared_error: 0.0450 - mean_absolute_error: 0.0358\n",
            "Epoch 54/100\n",
            "94/94 - 0s - loss: 0.0020 - mean_squared_error: 0.0020 - root_mean_squared_error: 0.0446 - mean_absolute_error: 0.0350\n",
            "Epoch 55/100\n",
            "94/94 - 0s - loss: 0.0020 - mean_squared_error: 0.0020 - root_mean_squared_error: 0.0443 - mean_absolute_error: 0.0348\n",
            "Epoch 56/100\n",
            "94/94 - 0s - loss: 0.0020 - mean_squared_error: 0.0020 - root_mean_squared_error: 0.0448 - mean_absolute_error: 0.0353\n",
            "Epoch 57/100\n",
            "94/94 - 0s - loss: 0.0020 - mean_squared_error: 0.0020 - root_mean_squared_error: 0.0448 - mean_absolute_error: 0.0353\n",
            "Epoch 58/100\n",
            "94/94 - 0s - loss: 0.0020 - mean_squared_error: 0.0020 - root_mean_squared_error: 0.0452 - mean_absolute_error: 0.0354\n",
            "Epoch 59/100\n",
            "94/94 - 0s - loss: 0.0021 - mean_squared_error: 0.0021 - root_mean_squared_error: 0.0454 - mean_absolute_error: 0.0361\n",
            "Epoch 60/100\n",
            "94/94 - 0s - loss: 0.0020 - mean_squared_error: 0.0020 - root_mean_squared_error: 0.0446 - mean_absolute_error: 0.0350\n",
            "Epoch 61/100\n",
            "94/94 - 0s - loss: 0.0020 - mean_squared_error: 0.0020 - root_mean_squared_error: 0.0443 - mean_absolute_error: 0.0347\n",
            "Epoch 62/100\n",
            "94/94 - 0s - loss: 0.0020 - mean_squared_error: 0.0020 - root_mean_squared_error: 0.0445 - mean_absolute_error: 0.0351\n",
            "Epoch 63/100\n",
            "94/94 - 0s - loss: 0.0019 - mean_squared_error: 0.0019 - root_mean_squared_error: 0.0439 - mean_absolute_error: 0.0343\n",
            "Epoch 64/100\n",
            "94/94 - 0s - loss: 0.0020 - mean_squared_error: 0.0020 - root_mean_squared_error: 0.0449 - mean_absolute_error: 0.0359\n",
            "Epoch 65/100\n",
            "94/94 - 0s - loss: 0.0020 - mean_squared_error: 0.0020 - root_mean_squared_error: 0.0449 - mean_absolute_error: 0.0350\n",
            "Epoch 66/100\n",
            "94/94 - 0s - loss: 0.0019 - mean_squared_error: 0.0019 - root_mean_squared_error: 0.0441 - mean_absolute_error: 0.0348\n",
            "Epoch 67/100\n",
            "94/94 - 0s - loss: 0.0019 - mean_squared_error: 0.0019 - root_mean_squared_error: 0.0439 - mean_absolute_error: 0.0342\n",
            "Epoch 68/100\n",
            "94/94 - 0s - loss: 0.0021 - mean_squared_error: 0.0021 - root_mean_squared_error: 0.0459 - mean_absolute_error: 0.0364\n",
            "Epoch 69/100\n",
            "94/94 - 0s - loss: 0.0020 - mean_squared_error: 0.0020 - root_mean_squared_error: 0.0442 - mean_absolute_error: 0.0345\n",
            "Epoch 70/100\n",
            "94/94 - 0s - loss: 0.0020 - mean_squared_error: 0.0020 - root_mean_squared_error: 0.0447 - mean_absolute_error: 0.0349\n",
            "Epoch 71/100\n",
            "94/94 - 0s - loss: 0.0020 - mean_squared_error: 0.0020 - root_mean_squared_error: 0.0445 - mean_absolute_error: 0.0353\n",
            "Epoch 72/100\n",
            "94/94 - 0s - loss: 0.0020 - mean_squared_error: 0.0020 - root_mean_squared_error: 0.0448 - mean_absolute_error: 0.0354\n",
            "Epoch 73/100\n",
            "94/94 - 0s - loss: 0.0020 - mean_squared_error: 0.0020 - root_mean_squared_error: 0.0446 - mean_absolute_error: 0.0357\n",
            "Epoch 74/100\n",
            "94/94 - 0s - loss: 0.0020 - mean_squared_error: 0.0020 - root_mean_squared_error: 0.0445 - mean_absolute_error: 0.0359\n",
            "Epoch 75/100\n",
            "94/94 - 0s - loss: 0.0020 - mean_squared_error: 0.0020 - root_mean_squared_error: 0.0447 - mean_absolute_error: 0.0349\n",
            "Epoch 76/100\n",
            "94/94 - 0s - loss: 0.0020 - mean_squared_error: 0.0020 - root_mean_squared_error: 0.0445 - mean_absolute_error: 0.0350\n",
            "Epoch 77/100\n",
            "94/94 - 0s - loss: 0.0020 - mean_squared_error: 0.0020 - root_mean_squared_error: 0.0450 - mean_absolute_error: 0.0355\n",
            "Epoch 78/100\n",
            "94/94 - 0s - loss: 0.0019 - mean_squared_error: 0.0019 - root_mean_squared_error: 0.0437 - mean_absolute_error: 0.0343\n",
            "Epoch 79/100\n",
            "94/94 - 0s - loss: 0.0020 - mean_squared_error: 0.0020 - root_mean_squared_error: 0.0448 - mean_absolute_error: 0.0356\n",
            "Epoch 80/100\n",
            "94/94 - 0s - loss: 0.0021 - mean_squared_error: 0.0021 - root_mean_squared_error: 0.0459 - mean_absolute_error: 0.0363\n",
            "Epoch 81/100\n",
            "94/94 - 0s - loss: 0.0020 - mean_squared_error: 0.0020 - root_mean_squared_error: 0.0445 - mean_absolute_error: 0.0350\n",
            "Epoch 82/100\n",
            "94/94 - 0s - loss: 0.0020 - mean_squared_error: 0.0020 - root_mean_squared_error: 0.0445 - mean_absolute_error: 0.0352\n",
            "Epoch 83/100\n",
            "94/94 - 0s - loss: 0.0020 - mean_squared_error: 0.0020 - root_mean_squared_error: 0.0449 - mean_absolute_error: 0.0355\n",
            "Epoch 84/100\n",
            "94/94 - 0s - loss: 0.0019 - mean_squared_error: 0.0019 - root_mean_squared_error: 0.0442 - mean_absolute_error: 0.0347\n",
            "Epoch 85/100\n",
            "94/94 - 0s - loss: 0.0020 - mean_squared_error: 0.0020 - root_mean_squared_error: 0.0445 - mean_absolute_error: 0.0360\n",
            "Epoch 86/100\n",
            "94/94 - 0s - loss: 0.0021 - mean_squared_error: 0.0021 - root_mean_squared_error: 0.0453 - mean_absolute_error: 0.0360\n",
            "Epoch 87/100\n",
            "94/94 - 0s - loss: 0.0020 - mean_squared_error: 0.0020 - root_mean_squared_error: 0.0445 - mean_absolute_error: 0.0351\n",
            "Epoch 88/100\n",
            "94/94 - 0s - loss: 0.0020 - mean_squared_error: 0.0020 - root_mean_squared_error: 0.0444 - mean_absolute_error: 0.0353\n",
            "Epoch 89/100\n",
            "94/94 - 0s - loss: 0.0020 - mean_squared_error: 0.0020 - root_mean_squared_error: 0.0445 - mean_absolute_error: 0.0351\n",
            "Epoch 90/100\n",
            "94/94 - 0s - loss: 0.0020 - mean_squared_error: 0.0020 - root_mean_squared_error: 0.0446 - mean_absolute_error: 0.0349\n",
            "Epoch 91/100\n",
            "94/94 - 0s - loss: 0.0020 - mean_squared_error: 0.0020 - root_mean_squared_error: 0.0444 - mean_absolute_error: 0.0351\n",
            "Epoch 92/100\n",
            "94/94 - 0s - loss: 0.0019 - mean_squared_error: 0.0019 - root_mean_squared_error: 0.0438 - mean_absolute_error: 0.0349\n",
            "Epoch 93/100\n",
            "94/94 - 0s - loss: 0.0021 - mean_squared_error: 0.0021 - root_mean_squared_error: 0.0454 - mean_absolute_error: 0.0358\n",
            "Epoch 94/100\n",
            "94/94 - 0s - loss: 0.0020 - mean_squared_error: 0.0020 - root_mean_squared_error: 0.0445 - mean_absolute_error: 0.0353\n",
            "Epoch 95/100\n",
            "94/94 - 0s - loss: 0.0020 - mean_squared_error: 0.0020 - root_mean_squared_error: 0.0447 - mean_absolute_error: 0.0350\n",
            "Epoch 96/100\n",
            "94/94 - 0s - loss: 0.0020 - mean_squared_error: 0.0020 - root_mean_squared_error: 0.0447 - mean_absolute_error: 0.0353\n",
            "Epoch 97/100\n",
            "94/94 - 0s - loss: 0.0020 - mean_squared_error: 0.0020 - root_mean_squared_error: 0.0449 - mean_absolute_error: 0.0357\n",
            "Epoch 98/100\n",
            "94/94 - 0s - loss: 0.0020 - mean_squared_error: 0.0020 - root_mean_squared_error: 0.0451 - mean_absolute_error: 0.0357\n",
            "Epoch 99/100\n",
            "94/94 - 0s - loss: 0.0020 - mean_squared_error: 0.0020 - root_mean_squared_error: 0.0450 - mean_absolute_error: 0.0354\n",
            "Epoch 100/100\n",
            "94/94 - 0s - loss: 0.0020 - mean_squared_error: 0.0020 - root_mean_squared_error: 0.0450 - mean_absolute_error: 0.0356\n"
          ],
          "name": "stdout"
        }
      ]
    },
    {
      "cell_type": "code",
      "metadata": {
        "colab": {
          "base_uri": "https://localhost:8080/",
          "height": 279
        },
        "id": "jfY36IMZT0hy",
        "outputId": "de8dfdaf-bb4b-4663-c461-3d744f38362d"
      },
      "source": [
        "# Plotando os erros obtidos no conjunto de treinamento\n",
        "# plotamos as três medidas (MSE, RMSE, MAE)\n",
        "# percebam que depois de 20 épocas, não há uma redução significativa nos erros, \n",
        "#e o treinamento poderia ser feito com uma quantidade menor de iterações\n",
        "\n",
        "# checar os nomes\n",
        "#print(history.history.keys())\n",
        "\n",
        "plt.plot(history.history['mean_squared_error'])\n",
        "plt.plot(history.history['root_mean_squared_error'])\n",
        "plt.plot(history.history['mean_absolute_error'])\n",
        "plt.xlabel('epoch')\n",
        "plt.legend(['MSE', 'RMSE', 'MAE'], loc='upper right')\n",
        "plt.show()"
      ],
      "execution_count": 38,
      "outputs": [
        {
          "output_type": "display_data",
          "data": {
            "image/png": "[encoded data removed]",
            "text/plain": [
              "<Figure size 432x288 with 1 Axes>"
            ]
          },
          "metadata": {
            "tags": [],
            "needs_background": "light"
          }
        }
      ]
    },
    {
      "cell_type": "code",
      "metadata": {
        "id": "e-81As4sT5kC"
      },
      "source": [
        "# Realizando as predições nos conjuntos de treino/teste\n",
        "\n",
        "# predição no conjunto de trienamento\n",
        "trainPredict = model.predict(trainX)\n",
        "\n",
        "# predição no conjunto de teste\n",
        "testPredict  = model.predict(testX)"
      ],
      "execution_count": 39,
      "outputs": []
    },
    {
      "cell_type": "code",
      "metadata": {
        "colab": {
          "base_uri": "https://localhost:8080/"
        },
        "id": "f4Ij002CT-Qy",
        "outputId": "15cf77c6-270a-4b02-a613-091f9eaaa08e"
      },
      "source": [
        "print(\"Predição do Teste:\")\n",
        "print(testPredict)\n",
        "\n",
        "print(\"\\nDF = [Real | Predito]\")\n",
        "np.column_stack((testY, testPredict))"
      ],
      "execution_count": 40,
      "outputs": [
        {
          "output_type": "stream",
          "text": [
            "Predição do Teste:\n",
            "[[0.40707055]\n",
            " [0.3817637 ]\n",
            " [0.47908464]\n",
            " [0.46530098]\n",
            " [0.47736913]\n",
            " [0.5872908 ]\n",
            " [0.6522838 ]\n",
            " [0.65520054]\n",
            " [0.5587843 ]\n",
            " [0.46356845]\n",
            " [0.38902715]\n",
            " [0.44437417]\n",
            " [0.45138258]\n",
            " [0.41244984]\n",
            " [0.48933172]\n",
            " [0.46530098]\n",
            " [0.49103174]\n",
            " [0.6074015 ]\n",
            " [0.689477  ]\n",
            " [0.70886   ]\n",
            " [0.5587843 ]\n",
            " [0.4842179 ]\n",
            " [0.39806998]\n",
            " [0.44612935]\n",
            " [0.4859247 ]\n",
            " [0.45487458]\n",
            " [0.56198955]\n",
            " [0.54586947]\n",
            " [0.5841614 ]\n",
            " [0.6624517 ]\n",
            " [0.76565367]\n",
            " [0.7795357 ]\n",
            " [0.64935756]\n",
            " [0.5635887 ]\n",
            " [0.48933172]\n",
            " [0.5603881 ]\n",
            " [0.5794493 ]\n",
            " [0.5377217 ]\n",
            " [0.58259296]\n",
            " [0.6464219 ]\n",
            " [0.6624517 ]\n",
            " [0.7489122 ]\n",
            " [0.85421985]\n",
            " [0.83600974]\n",
            " [0.7129556 ]\n",
            " [0.6464219 ]]\n",
            "\n",
            "DF = [Real | Predito]\n"
          ],
          "name": "stdout"
        },
        {
          "output_type": "execute_result",
          "data": {
            "text/plain": [
              "array([[0.3803089 , 0.40707055],\n",
              "       [0.48648646, 0.3817637 ],\n",
              "       [0.47104248, 0.47908464],\n",
              "       [0.484556  , 0.46530098],\n",
              "       [0.6138996 , 0.47736913],\n",
              "       [0.6969112 , 0.5872908 ],\n",
              "       [0.70077217, 0.6522838 ],\n",
              "       [0.57915056, 0.65520054],\n",
              "       [0.46911195, 0.5587843 ],\n",
              "       [0.38803086, 0.46356845],\n",
              "       [0.44787642, 0.38902715],\n",
              "       [0.45559844, 0.44437417],\n",
              "       [0.4131274 , 0.45138258],\n",
              "       [0.4980695 , 0.41244984],\n",
              "       [0.47104248, 0.48933172],\n",
              "       [0.49999997, 0.46530098],\n",
              "       [0.6389961 , 0.49103174],\n",
              "       [0.7471043 , 0.6074015 ],\n",
              "       [0.7741313 , 0.689477  ],\n",
              "       [0.57915056, 0.70886   ],\n",
              "       [0.492278  , 0.5587843 ],\n",
              "       [0.3976834 , 0.4842179 ],\n",
              "       [0.44980696, 0.39806998],\n",
              "       [0.49420848, 0.44612935],\n",
              "       [0.45945945, 0.4859247 ],\n",
              "       [0.5830116 , 0.45487458],\n",
              "       [0.5637065 , 0.56198955],\n",
              "       [0.61003864, 0.54586947],\n",
              "       [0.71042466, 0.5841614 ],\n",
              "       [0.8571429 , 0.6624517 ],\n",
              "       [0.8783784 , 0.76565367],\n",
              "       [0.69305015, 0.7795357 ],\n",
              "       [0.5849421 , 0.64935756],\n",
              "       [0.4980695 , 0.5635887 ],\n",
              "       [0.58108103, 0.48933172],\n",
              "       [0.6042471 , 0.5603881 ],\n",
              "       [0.554054  , 0.5794493 ],\n",
              "       [0.60810804, 0.5377217 ],\n",
              "       [0.6891892 , 0.58259296],\n",
              "       [0.71042466, 0.6464219 ],\n",
              "       [0.8320464 , 0.6624517 ],\n",
              "       [1.        , 0.7489122 ],\n",
              "       [0.96911204, 0.85421985],\n",
              "       [0.7799227 , 0.83600974],\n",
              "       [0.6891892 , 0.7129556 ],\n",
              "       [0.55212355, 0.6464219 ]], dtype=float32)"
            ]
          },
          "metadata": {
            "tags": []
          },
          "execution_count": 40
        }
      ]
    },
    {
      "cell_type": "code",
      "metadata": {
        "id": "0W-E2dIh0_Uk"
      },
      "source": [
        "# Aplicando a inversa da escala para retornar ao valor original\n",
        "# training set\n",
        "trainPredict = scaler.inverse_transform(trainPredict)\n",
        "trainY = scaler.inverse_transform([trainY])\n",
        "\n",
        "# testing set\n",
        "testPredict = scaler.inverse_transform(testPredict)\n",
        "testY = scaler.inverse_transform([testY])"
      ],
      "execution_count": 41,
      "outputs": []
    },
    {
      "cell_type": "code",
      "metadata": {
        "colab": {
          "base_uri": "https://localhost:8080/"
        },
        "id": "8WSOX6bpUJY1",
        "outputId": "b9c8eeb2-7278-465d-a6af-e5e1d177eed7"
      },
      "source": [
        "print(\"\\n * Predição do Teste na escala original:\")\n",
        "print(testPredict.shape)\n",
        "print(testPredict)\n",
        "\n",
        "#print(\"\\nDF = [Real | Predito]\")\n",
        "#np.column_stack((testY, testPredict))\n",
        "\n",
        "print(\"\\n * Predição do Teste na escala original:\")\n",
        "print(testY.shape)\n",
        "print(testY)"
      ],
      "execution_count": 42,
      "outputs": [
        {
          "output_type": "stream",
          "text": [
            "\n",
            " * Predição do Teste na escala original:\n",
            "(46, 1)\n",
            "[[314.86255]\n",
            " [301.75357]\n",
            " [352.16586]\n",
            " [345.02594]\n",
            " [351.27722]\n",
            " [408.21667]\n",
            " [441.883  ]\n",
            " [443.3939 ]\n",
            " [393.4503 ]\n",
            " [344.12845]\n",
            " [305.51605]\n",
            " [334.18582]\n",
            " [337.8162 ]\n",
            " [317.64902]\n",
            " [357.47382]\n",
            " [345.02594]\n",
            " [358.35443]\n",
            " [418.63397]\n",
            " [461.1491 ]\n",
            " [471.18948]\n",
            " [393.4503 ]\n",
            " [354.8249 ]\n",
            " [310.20023]\n",
            " [335.095  ]\n",
            " [355.70898]\n",
            " [339.62506]\n",
            " [395.11057]\n",
            " [386.76038]\n",
            " [406.59558]\n",
            " [447.15   ]\n",
            " [500.6086 ]\n",
            " [507.79953]\n",
            " [440.36722]\n",
            " [395.93896]\n",
            " [357.47382]\n",
            " [394.281  ]\n",
            " [404.15472]\n",
            " [382.53986]\n",
            " [405.78314]\n",
            " [438.84653]\n",
            " [447.15   ]\n",
            " [491.93652]\n",
            " [546.4859 ]\n",
            " [537.05304]\n",
            " [473.31097]\n",
            " [438.84653]]\n",
            "\n",
            " * Predição do Teste na escala original:\n",
            "(1, 46)\n",
            "[[301.00001152 355.999993   348.00001085 355.00000681 421.9999924\n",
            "  465.0000161  466.99998848 403.99999397 346.99999379 304.99998716\n",
            "  335.99999132 339.99999783 317.99999288 362.00000277 348.00001085\n",
            "  362.99998896 434.99999813 491.00002756 505.00001948 403.99999397\n",
            "  359.00001333 310.00001073 337.00000838 359.99999952 342.00000109\n",
            "  406.0000281  395.99998094 420.00002002 471.99998119 548.00004318\n",
            "  559.00001477 462.99998197 407.00001429 362.00000277 404.99998016\n",
            "  416.9999997  390.99998824 418.99997208 461.00000959 471.99998119\n",
            "  535.00003745 622.00000929 606.00004499 507.99997805 461.00000959\n",
            "  390.00000205]]\n"
          ],
          "name": "stdout"
        }
      ]
    },
    {
      "cell_type": "code",
      "metadata": {
        "colab": {
          "base_uri": "https://localhost:8080/"
        },
        "id": "ROF1g3gf1CCJ",
        "outputId": "cf369330-98c0-414c-e7f9-0e23b4327dbb"
      },
      "source": [
        "# Calculando RMSE no treino e teste\n",
        "trainScore = math.sqrt(mean_squared_error(trainY[0], trainPredict[:,0]))\n",
        "print('Treino: %.2f RMSE' % (trainScore))\n",
        "testScore = math.sqrt(mean_squared_error(testY[0], testPredict[:,0]))\n",
        "print('Teste Score: %.2f RMSE' % (testScore))"
      ],
      "execution_count": 43,
      "outputs": [
        {
          "output_type": "stream",
          "text": [
            "Treino: 22.81 RMSE\n",
            "Teste Score: 49.12 RMSE\n"
          ],
          "name": "stdout"
        }
      ]
    },
    {
      "cell_type": "code",
      "metadata": {
        "colab": {
          "base_uri": "https://localhost:8080/"
        },
        "id": "blqu53fVUTRm",
        "outputId": "fa89175b-d40a-43dc-8817-106e2697d3ef"
      },
      "source": [
        "# Ajustando o plot do treino\n",
        "trainPredictPlot = numpy.empty_like(dataset)\n",
        "trainPredictPlot[:, :] = numpy.nan\n",
        "trainPredictPlot[janela_previsao:len(trainPredict)+janela_previsao, :] = trainPredict\n",
        "print(trainPredictPlot)"
      ],
      "execution_count": 44,
      "outputs": [
        {
          "output_type": "stream",
          "text": [
            "[[       nan]\n",
            " [123.50462 ]\n",
            " [128.645   ]\n",
            " [140.90193 ]\n",
            " [138.24591 ]\n",
            " [131.24127 ]\n",
            " [143.5733  ]\n",
            " [155.3156  ]\n",
            " [155.3156  ]\n",
            " [144.4671  ]\n",
            " [129.50854 ]\n",
            " [116.76341 ]\n",
            " [128.645   ]\n",
            " [126.066   ]\n",
            " [135.60562 ]\n",
            " [148.96027 ]\n",
            " [143.5733  ]\n",
            " [134.72911 ]\n",
            " [156.22939 ]\n",
            " [175.72093 ]\n",
            " [175.72093 ]\n",
            " [164.51547 ]\n",
            " [141.79071 ]\n",
            " [125.210236]\n",
            " [148.05844 ]\n",
            " [152.58293 ]\n",
            " [157.14459 ]\n",
            " [183.27751 ]\n",
            " [169.16397 ]\n",
            " [177.6041  ]\n",
            " [183.27751 ]\n",
            " [203.36853 ]\n",
            " [203.36853 ]\n",
            " [188.98387 ]\n",
            " [168.23187 ]\n",
            " [153.49234 ]\n",
            " [171.96736 ]\n",
            " [176.662   ]\n",
            " [185.17616 ]\n",
            " [197.5967  ]\n",
            " [186.12683 ]\n",
            " [188.03069 ]\n",
            " [221.75807 ]\n",
            " [233.42192 ]\n",
            " [245.09122 ]\n",
            " [213.03012 ]\n",
            " [195.67772 ]\n",
            " [177.6041  ]\n",
            " [198.55714 ]\n",
            " [200.47992 ]\n",
            " [200.47992 ]\n",
            " [239.25754 ]\n",
            " [238.28496 ]\n",
            " [232.44937 ]\n",
            " [246.06311 ]\n",
            " [266.41574 ]\n",
            " [274.12558 ]\n",
            " [240.23004 ]\n",
            " [214.96745 ]\n",
            " [185.17616 ]\n",
            " [205.29706 ]\n",
            " [208.19357 ]\n",
            " [192.80446 ]\n",
            " [238.28496 ]\n",
            " [230.50441 ]\n",
            " [237.31238 ]\n",
            " [266.41574 ]\n",
            " [302.6954  ]\n",
            " [294.19046 ]\n",
            " [261.5827  ]\n",
            " [232.44937 ]\n",
            " [207.2276  ]\n",
            " [232.44937 ]\n",
            " [245.09122 ]\n",
            " [236.33975 ]\n",
            " [269.3105  ]\n",
            " [271.238   ]\n",
            " [272.20108 ]\n",
            " [314.86255 ]\n",
            " [359.234   ]\n",
            " [344.12845 ]\n",
            " [312.06787 ]\n",
            " [276.04807 ]\n",
            " [240.23004 ]\n",
            " [279.8863  ]\n",
            " [285.6258  ]\n",
            " [278.9276  ]\n",
            " [316.72113 ]\n",
            " [313.0003  ]\n",
            " [317.64902 ]\n",
            " [367.96588 ]\n",
            " [400.88312 ]\n",
            " [394.281   ]\n",
            " [351.27722 ]\n",
            " [306.45462 ]\n",
            " [       nan]\n",
            " [       nan]\n",
            " [       nan]\n",
            " [       nan]\n",
            " [       nan]\n",
            " [       nan]\n",
            " [       nan]\n",
            " [       nan]\n",
            " [       nan]\n",
            " [       nan]\n",
            " [       nan]\n",
            " [       nan]\n",
            " [       nan]\n",
            " [       nan]\n",
            " [       nan]\n",
            " [       nan]\n",
            " [       nan]\n",
            " [       nan]\n",
            " [       nan]\n",
            " [       nan]\n",
            " [       nan]\n",
            " [       nan]\n",
            " [       nan]\n",
            " [       nan]\n",
            " [       nan]\n",
            " [       nan]\n",
            " [       nan]\n",
            " [       nan]\n",
            " [       nan]\n",
            " [       nan]\n",
            " [       nan]\n",
            " [       nan]\n",
            " [       nan]\n",
            " [       nan]\n",
            " [       nan]\n",
            " [       nan]\n",
            " [       nan]\n",
            " [       nan]\n",
            " [       nan]\n",
            " [       nan]\n",
            " [       nan]\n",
            " [       nan]\n",
            " [       nan]\n",
            " [       nan]\n",
            " [       nan]\n",
            " [       nan]\n",
            " [       nan]\n",
            " [       nan]\n",
            " [       nan]]\n"
          ],
          "name": "stdout"
        }
      ]
    },
    {
      "cell_type": "code",
      "metadata": {
        "colab": {
          "base_uri": "https://localhost:8080/"
        },
        "id": "iRVcbLWhUXDM",
        "outputId": "8fdc4e24-3753-40d2-9c96-a56f5fd4415c"
      },
      "source": [
        "# Ajustando o plot do teste\n",
        "testPredictPlot = numpy.empty_like(dataset)\n",
        "testPredictPlot[:, :] = numpy.nan\n",
        "testPredictPlot[len(trainPredict)+(janela_previsao*2)+1:len(dataset)-1, :] = testPredict\n",
        "print(testPredictPlot)"
      ],
      "execution_count": 45,
      "outputs": [
        {
          "output_type": "stream",
          "text": [
            "[[      nan]\n",
            " [      nan]\n",
            " [      nan]\n",
            " [      nan]\n",
            " [      nan]\n",
            " [      nan]\n",
            " [      nan]\n",
            " [      nan]\n",
            " [      nan]\n",
            " [      nan]\n",
            " [      nan]\n",
            " [      nan]\n",
            " [      nan]\n",
            " [      nan]\n",
            " [      nan]\n",
            " [      nan]\n",
            " [      nan]\n",
            " [      nan]\n",
            " [      nan]\n",
            " [      nan]\n",
            " [      nan]\n",
            " [      nan]\n",
            " [      nan]\n",
            " [      nan]\n",
            " [      nan]\n",
            " [      nan]\n",
            " [      nan]\n",
            " [      nan]\n",
            " [      nan]\n",
            " [      nan]\n",
            " [      nan]\n",
            " [      nan]\n",
            " [      nan]\n",
            " [      nan]\n",
            " [      nan]\n",
            " [      nan]\n",
            " [      nan]\n",
            " [      nan]\n",
            " [      nan]\n",
            " [      nan]\n",
            " [      nan]\n",
            " [      nan]\n",
            " [      nan]\n",
            " [      nan]\n",
            " [      nan]\n",
            " [      nan]\n",
            " [      nan]\n",
            " [      nan]\n",
            " [      nan]\n",
            " [      nan]\n",
            " [      nan]\n",
            " [      nan]\n",
            " [      nan]\n",
            " [      nan]\n",
            " [      nan]\n",
            " [      nan]\n",
            " [      nan]\n",
            " [      nan]\n",
            " [      nan]\n",
            " [      nan]\n",
            " [      nan]\n",
            " [      nan]\n",
            " [      nan]\n",
            " [      nan]\n",
            " [      nan]\n",
            " [      nan]\n",
            " [      nan]\n",
            " [      nan]\n",
            " [      nan]\n",
            " [      nan]\n",
            " [      nan]\n",
            " [      nan]\n",
            " [      nan]\n",
            " [      nan]\n",
            " [      nan]\n",
            " [      nan]\n",
            " [      nan]\n",
            " [      nan]\n",
            " [      nan]\n",
            " [      nan]\n",
            " [      nan]\n",
            " [      nan]\n",
            " [      nan]\n",
            " [      nan]\n",
            " [      nan]\n",
            " [      nan]\n",
            " [      nan]\n",
            " [      nan]\n",
            " [      nan]\n",
            " [      nan]\n",
            " [      nan]\n",
            " [      nan]\n",
            " [      nan]\n",
            " [      nan]\n",
            " [      nan]\n",
            " [      nan]\n",
            " [      nan]\n",
            " [314.86255]\n",
            " [301.75357]\n",
            " [352.16586]\n",
            " [345.02594]\n",
            " [351.27722]\n",
            " [408.21667]\n",
            " [441.883  ]\n",
            " [443.3939 ]\n",
            " [393.4503 ]\n",
            " [344.12845]\n",
            " [305.51605]\n",
            " [334.18582]\n",
            " [337.8162 ]\n",
            " [317.64902]\n",
            " [357.47382]\n",
            " [345.02594]\n",
            " [358.35443]\n",
            " [418.63397]\n",
            " [461.1491 ]\n",
            " [471.18948]\n",
            " [393.4503 ]\n",
            " [354.8249 ]\n",
            " [310.20023]\n",
            " [335.095  ]\n",
            " [355.70898]\n",
            " [339.62506]\n",
            " [395.11057]\n",
            " [386.76038]\n",
            " [406.59558]\n",
            " [447.15   ]\n",
            " [500.6086 ]\n",
            " [507.79953]\n",
            " [440.36722]\n",
            " [395.93896]\n",
            " [357.47382]\n",
            " [394.281  ]\n",
            " [404.15472]\n",
            " [382.53986]\n",
            " [405.78314]\n",
            " [438.84653]\n",
            " [447.15   ]\n",
            " [491.93652]\n",
            " [546.4859 ]\n",
            " [537.05304]\n",
            " [473.31097]\n",
            " [438.84653]\n",
            " [      nan]]\n"
          ],
          "name": "stdout"
        }
      ]
    },
    {
      "cell_type": "code",
      "metadata": {
        "colab": {
          "base_uri": "https://localhost:8080/",
          "height": 279
        },
        "id": "pzmsg9MlUZrx",
        "outputId": "4be984b1-c60e-4f00-89b7-df0fa0efe531"
      },
      "source": [
        "# Ajustando o plot com o sinal original\n",
        "# - verde   = dataset original\n",
        "# - azul    = predicoes geradas no conjunto de treinamento\n",
        "# - laranja = predicoes geradas no conjunto de teste\n",
        "\n",
        "plt.plot(trainPredictPlot, linestyle=\"--\")\n",
        "plt.plot(testPredictPlot, linestyle=\"--\")\n",
        "plt.plot(scaler.inverse_transform(dataset))\n",
        "plt.xlabel('instances')\n",
        "plt.legend(['train', 'test', 'original'], loc='upper left')\n",
        "plt.show()"
      ],
      "execution_count": 48,
      "outputs": [
        {
          "output_type": "display_data",
          "data": {
            "image/png": "[encoded data removed]",
            "text/plain": [
              "<Figure size 432x288 with 1 Axes>"
            ]
          },
          "metadata": {
            "tags": [],
            "needs_background": "light"
          }
        }
      ]
    }
  ]
}
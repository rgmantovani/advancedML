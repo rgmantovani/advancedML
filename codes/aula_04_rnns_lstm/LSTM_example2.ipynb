{
  "nbformat": 4,
  "nbformat_minor": 0,
  "metadata": {
    "colab": {
      "name": "LSTM_example2.ipynb",
      "provenance": [],
      "collapsed_sections": [],
      "authorship_tag": "ABX9TyNOZry6dElnLwc7dX2M2qoU",
      "include_colab_link": true
    },
    "kernelspec": {
      "name": "python3",
      "display_name": "Python 3"
    },
    "language_info": {
      "name": "python"
    }
  },
  "cells": [
    {
      "cell_type": "markdown",
      "metadata": {
        "id": "view-in-github",
        "colab_type": "text"
      },
      "source": [
        "<a href=\"https://colab.research.google.com/github/rgmantovani/advancedML/blob/master/codes/aula_04_rnns_lstm/LSTM_example2.ipynb\" target=\"_parent\"><img src=\"https://colab.research.google.com/assets/colab-badge.svg\" alt=\"Open In Colab\"/></a>"
      ]
    },
    {
      "cell_type": "markdown",
      "metadata": {
        "id": "imPkqde4SDU6"
      },
      "source": [
        "# Uso de Deep Learning para Séries Temporais (LSTMs)\n",
        "\n",
        "Disciplina: Métodos e Modelos Avançados em Ciência de Dados\n",
        "\n",
        "Especialização em Ciência de Dados - Universidade Tecnologica Federal do Paraná\n",
        "\n",
        "Aula 04: RNNs e LSTMs\n",
        "\n",
        "Exemplo 02: Executando LSTM para série temporal univariada (airline-passengers)\n",
        "\n",
        "---"
      ]
    },
    {
      "cell_type": "code",
      "metadata": {
        "id": "FfUBXbmF0I9P"
      },
      "source": [
        "# importando as bibliotecas necessárias para rodar o script\n",
        "\n",
        "# manipulação de números de ponto flutuante\n",
        "import numpy as np\n",
        "\n",
        "# plotagem de gráficos\n",
        "import matplotlib.pyplot as plt\n",
        "\n",
        "# criação manipulação de data frames\n",
        "import pandas as pd\n",
        "\n",
        "# funções matemáticas\n",
        "import math\n",
        "\n",
        "# criação dos modelos de DL\n",
        "from keras.models import Sequential\n",
        "from keras.layers import Dense\n",
        "from keras.layers import LSTM\n",
        "\n",
        "# preprocessador - escalar os dados\n",
        "from sklearn.preprocessing import MinMaxScaler\n",
        "\n",
        "# metrica de desempenho (MSE)\n",
        "from sklearn.metrics import mean_squared_error"
      ],
      "execution_count": 1,
      "outputs": []
    },
    {
      "cell_type": "code",
      "metadata": {
        "id": "feWxcUNP0QgK"
      },
      "source": [
        "# definir um seed para reprodução dos experimentos\n",
        "np.random.seed(42)"
      ],
      "execution_count": 2,
      "outputs": []
    },
    {
      "cell_type": "code",
      "metadata": {
        "id": "WYbDtxij0SS-"
      },
      "source": [
        "# funcao auxiliar para criar os itervalos de previsao\n",
        "# é a mesma que usamos no exemplo anterior\n",
        "def create_dataset(dataset, janela_previsao=1):\n",
        "    dataX, dataY = [], []\n",
        "    for i in range(len(dataset)-janela_previsao-1):\n",
        "        a = dataset[i:(i+janela_previsao), 0]\n",
        "        dataX.append(a)\n",
        "        dataY.append(dataset[i + janela_previsao, 0])\n",
        "    return np.array(dataX), np.array(dataY)"
      ],
      "execution_count": 3,
      "outputs": []
    },
    {
      "cell_type": "code",
      "metadata": {
        "colab": {
          "base_uri": "https://localhost:8080/"
        },
        "id": "Aqw5bkDW0V5t",
        "outputId": "8eb89579-5d23-4f8e-9866-9be6313741f7"
      },
      "source": [
        "# obter dataset --> https://github.com/jbrownlee/Datasets\n",
        "# Exemplo: shampoo, venda de shampoos ao longo de três anos\n",
        "\n",
        "url = 'https://raw.githubusercontent.com/jbrownlee/Datasets/master/airline-passengers.csv'\n",
        "dataframe = pd.read_csv(url, usecols=[1], engine='python')\n",
        "dataset = dataframe.values\n",
        "dataset = dataset.astype('float32')\n",
        "\n",
        "# vislumbrar um pedaço dos dados e formato lido\n",
        "print(\"\\n* Dimensão dos dados:\", dataset.shape) \n",
        "# 36 amostras/instâncias, univariadas (um único valor real)\n",
        "print(\"* Dados originais:\")\n",
        "print(dataset[:10])"
      ],
      "execution_count": 4,
      "outputs": [
        {
          "output_type": "stream",
          "text": [
            "\n",
            "* Dimensão dos dados: (144, 1)\n",
            "* Dados originais:\n",
            "[[112.]\n",
            " [118.]\n",
            " [132.]\n",
            " [129.]\n",
            " [121.]\n",
            " [135.]\n",
            " [148.]\n",
            " [148.]\n",
            " [136.]\n",
            " [119.]]\n"
          ],
          "name": "stdout"
        }
      ]
    },
    {
      "cell_type": "code",
      "metadata": {
        "colab": {
          "base_uri": "https://localhost:8080/",
          "height": 282
        },
        "id": "xfTLK5Ux0Ye9",
        "outputId": "08d9cee3-409e-40bc-fede-a464809d2927"
      },
      "source": [
        "# plotar os dados para visualizar a nossa time series\n",
        "plt.plot(dataset, linestyle='--', marker='o', color='b')"
      ],
      "execution_count": 5,
      "outputs": [
        {
          "output_type": "execute_result",
          "data": {
            "text/plain": [
              "[<matplotlib.lines.Line2D at 0x7f736cb4c4d0>]"
            ]
          },
          "metadata": {
            "tags": []
          },
          "execution_count": 5
        },
        {
          "output_type": "display_data",
          "data": {
            "image/png": "[encoded data removed]",
            "text/plain": [
              "<Figure size 432x288 with 1 Axes>"
            ]
          },
          "metadata": {
            "tags": [],
            "needs_background": "light"
          }
        }
      ]
    },
    {
      "cell_type": "code",
      "metadata": {
        "colab": {
          "base_uri": "https://localhost:8080/"
        },
        "id": "gY0nHhlr0dNo",
        "outputId": "aaab1888-ad67-47de-dbd1-74dc54694587"
      },
      "source": [
        "# Normalizando os dados\n",
        "\n",
        "# escalar os dados no intervalo [0,1] usando sklearn\n",
        "# from sklearn.preprocessing import MinMaxScaler\n",
        "\n",
        "scaler = MinMaxScaler(feature_range=(0, 1))\n",
        "dataset = scaler.fit_transform(dataset)\n",
        "\n",
        "print(\"* Dados escalados:\")\n",
        "print(dataset[:10].transpose())"
      ],
      "execution_count": 6,
      "outputs": [
        {
          "output_type": "stream",
          "text": [
            "* Dados escalados:\n",
            "[[0.01544401 0.02702703 0.05405405 0.04826255 0.03281853 0.05984557\n",
            "  0.08494207 0.08494207 0.06177607 0.02895753]]\n"
          ],
          "name": "stdout"
        }
      ]
    },
    {
      "cell_type": "code",
      "metadata": {
        "colab": {
          "base_uri": "https://localhost:8080/",
          "height": 282
        },
        "id": "KZTLoRGRS1Ep",
        "outputId": "157dc576-bb1a-49ad-bb73-38f28511201c"
      },
      "source": [
        "# visualizar nossos dados escalados\n",
        "# Obs: prestar atenção ao eixo Y, agora varia entre [0, +1]\n",
        "plt.plot(dataset, linestyle='--', marker='o', color='b')"
      ],
      "execution_count": 7,
      "outputs": [
        {
          "output_type": "execute_result",
          "data": {
            "text/plain": [
              "[<matplotlib.lines.Line2D at 0x7f7328bf8890>]"
            ]
          },
          "metadata": {
            "tags": []
          },
          "execution_count": 7
        },
        {
          "output_type": "display_data",
          "data": {
            "image/png": "[encoded data removed]",
            "text/plain": [
              "<Figure size 432x288 with 1 Axes>"
            ]
          },
          "metadata": {
            "tags": [],
            "needs_background": "light"
          }
        }
      ]
    },
    {
      "cell_type": "code",
      "metadata": {
        "colab": {
          "base_uri": "https://localhost:8080/"
        },
        "id": "CQoMl1ID0nQh",
        "outputId": "1c02ca15-80b1-4a69-b414-fa59ad4f64c4"
      },
      "source": [
        "# Ajustando conjunto de treino e teste\n",
        "# 85% dos exemplos no treino, 15% no teste\n",
        "train_size = int(len(dataset) * 0.67)\n",
        "test_size = len(dataset) - train_size\n",
        "\n",
        "#print(train_size, test_size)\n",
        "print(\"- Numero de instâncias treino: \", train_size)\n",
        "print(\"- Numero de instâncias teste: \", test_size)"
      ],
      "execution_count": 8,
      "outputs": [
        {
          "output_type": "stream",
          "text": [
            "- Numero de instâncias treino:  96\n",
            "- Numero de instâncias teste:  48\n"
          ],
          "name": "stdout"
        }
      ]
    },
    {
      "cell_type": "code",
      "metadata": {
        "colab": {
          "base_uri": "https://localhost:8080/"
        },
        "id": "9ush7QuJTAOC",
        "outputId": "19eb5414-53bf-4833-e388-55b18e8fd3e6"
      },
      "source": [
        "train, test = dataset[0:train_size,:], dataset[train_size:len(dataset),:]\n",
        "\n",
        "# Conjunto de treinamento - amostras de 0-95\n",
        "# Conjunto de teste - amostras de 96-143\n",
        "train, test = dataset[0:train_size,:], dataset[train_size:len(dataset),:]\n",
        "\n",
        "print(\"* Conjunto de Treinamento:\", train.shape)\n",
        "#print(train)\n",
        "\n",
        "print(\"* Conjunto de Teste:\", test.shape)\n",
        "#print(test)\n"
      ],
      "execution_count": 9,
      "outputs": [
        {
          "output_type": "stream",
          "text": [
            "* Conjunto de Treinamento: (96, 1)\n",
            "* Conjunto de Teste: (48, 1)\n"
          ],
          "name": "stdout"
        }
      ]
    },
    {
      "cell_type": "code",
      "metadata": {
        "colab": {
          "base_uri": "https://localhost:8080/"
        },
        "id": "ZbApN-TX0pxd",
        "outputId": "ee262a98-845d-47e4-bc3a-50930a2cb9ab"
      },
      "source": [
        "# reshape em X=t and Y=t+1\n",
        "# isto é, criando dados no padrão DF = [X|Y]\n",
        "# para cada X, o Y = X+1\n",
        "\n",
        "janela_previsao = 1\n",
        "trainX, trainY = create_dataset(train, janela_previsao)\n",
        "\n",
        "# vendo o nosso conjunto de treinamento\n",
        "print(\"DF = [X | X+1]\")\n",
        "np.column_stack((trainX, trainY))\n"
      ],
      "execution_count": 10,
      "outputs": [
        {
          "output_type": "stream",
          "text": [
            "DF = [X | X+1]\n"
          ],
          "name": "stdout"
        },
        {
          "output_type": "execute_result",
          "data": {
            "text/plain": [
              "array([[0.01544401, 0.02702703],\n",
              "       [0.02702703, 0.05405405],\n",
              "       [0.05405405, 0.04826255],\n",
              "       [0.04826255, 0.03281853],\n",
              "       [0.03281853, 0.05984557],\n",
              "       [0.05984557, 0.08494207],\n",
              "       [0.08494207, 0.08494207],\n",
              "       [0.08494207, 0.06177607],\n",
              "       [0.06177607, 0.02895753],\n",
              "       [0.02895753, 0.        ],\n",
              "       [0.        , 0.02702703],\n",
              "       [0.02702703, 0.02123553],\n",
              "       [0.02123553, 0.04247104],\n",
              "       [0.04247104, 0.07142857],\n",
              "       [0.07142857, 0.05984557],\n",
              "       [0.05984557, 0.04054055],\n",
              "       [0.04054055, 0.08687258],\n",
              "       [0.08687258, 0.12741312],\n",
              "       [0.12741312, 0.12741312],\n",
              "       [0.12741312, 0.10424709],\n",
              "       [0.10424709, 0.05598456],\n",
              "       [0.05598456, 0.01930502],\n",
              "       [0.01930502, 0.06949806],\n",
              "       [0.06949806, 0.07915059],\n",
              "       [0.07915059, 0.08880308],\n",
              "       [0.08880308, 0.14285713],\n",
              "       [0.14285713, 0.11389962],\n",
              "       [0.11389962, 0.13127413],\n",
              "       [0.13127413, 0.14285713],\n",
              "       [0.14285713, 0.18339768],\n",
              "       [0.18339768, 0.18339768],\n",
              "       [0.18339768, 0.15444016],\n",
              "       [0.15444016, 0.11196911],\n",
              "       [0.11196911, 0.08108109],\n",
              "       [0.08108109, 0.1196911 ],\n",
              "       [0.1196911 , 0.12934363],\n",
              "       [0.12934363, 0.14671814],\n",
              "       [0.14671814, 0.17181468],\n",
              "       [0.17181468, 0.14864865],\n",
              "       [0.14864865, 0.15250966],\n",
              "       [0.15250966, 0.22007722],\n",
              "       [0.22007722, 0.24324325],\n",
              "       [0.24324325, 0.26640925],\n",
              "       [0.26640925, 0.2027027 ],\n",
              "       [0.2027027 , 0.16795367],\n",
              "       [0.16795367, 0.13127413],\n",
              "       [0.13127413, 0.17374519],\n",
              "       [0.17374519, 0.17760617],\n",
              "       [0.17760617, 0.17760617],\n",
              "       [0.17760617, 0.25482625],\n",
              "       [0.25482625, 0.25289574],\n",
              "       [0.25289574, 0.24131274],\n",
              "       [0.24131274, 0.26833975],\n",
              "       [0.26833975, 0.3088803 ],\n",
              "       [0.3088803 , 0.32432434],\n",
              "       [0.32432434, 0.25675675],\n",
              "       [0.25675675, 0.20656371],\n",
              "       [0.20656371, 0.14671814],\n",
              "       [0.14671814, 0.18725869],\n",
              "       [0.18725869, 0.19305018],\n",
              "       [0.19305018, 0.16216215],\n",
              "       [0.16216215, 0.25289574],\n",
              "       [0.25289574, 0.23745173],\n",
              "       [0.23745173, 0.25096524],\n",
              "       [0.25096524, 0.3088803 ],\n",
              "       [0.3088803 , 0.38223937],\n",
              "       [0.38223937, 0.36486486],\n",
              "       [0.36486486, 0.2992278 ],\n",
              "       [0.2992278 , 0.24131274],\n",
              "       [0.24131274, 0.1911197 ],\n",
              "       [0.1911197 , 0.24131274],\n",
              "       [0.24131274, 0.26640925],\n",
              "       [0.26640925, 0.24903473],\n",
              "       [0.24903473, 0.31467178],\n",
              "       [0.31467178, 0.3185328 ],\n",
              "       [0.3185328 , 0.32046333],\n",
              "       [0.32046333, 0.4073359 ],\n",
              "       [0.4073359 , 0.5019305 ],\n",
              "       [0.5019305 , 0.46911195],\n",
              "       [0.46911195, 0.40154442],\n",
              "       [0.40154442, 0.32818535],\n",
              "       [0.32818535, 0.25675675],\n",
              "       [0.25675675, 0.3359073 ],\n",
              "       [0.3359073 , 0.34749034],\n",
              "       [0.34749034, 0.33397684],\n",
              "       [0.33397684, 0.41119692],\n",
              "       [0.41119692, 0.4034749 ],\n",
              "       [0.4034749 , 0.4131274 ],\n",
              "       [0.4131274 , 0.52123547],\n",
              "       [0.52123547, 0.5965251 ],\n",
              "       [0.5965251 , 0.58108103],\n",
              "       [0.58108103, 0.484556  ],\n",
              "       [0.484556  , 0.3899614 ],\n",
              "       [0.3899614 , 0.3223938 ]], dtype=float32)"
            ]
          },
          "metadata": {
            "tags": []
          },
          "execution_count": 10
        }
      ]
    },
    {
      "cell_type": "code",
      "metadata": {
        "colab": {
          "base_uri": "https://localhost:8080/"
        },
        "id": "JBzpOdybTSz7",
        "outputId": "26a5afd6-cf17-4008-926a-cbb63a6b9923"
      },
      "source": [
        "# reshape em X=t and Y=t+1 para o conjunto de teste\n",
        "testX, testY  = create_dataset(test, janela_previsao)\n",
        "print(\"Conjunto de Teste no formato supervisionado:\")\n",
        "print(testX)\n",
        "print(\"Conjunto de Teste no formato supervisionado:\")\n",
        "print(testY)\n",
        "print(\"\\nDF = [X | X+1]\")\n",
        "np.column_stack((testX, testY))\n"
      ],
      "execution_count": 11,
      "outputs": [
        {
          "output_type": "stream",
          "text": [
            "Conjunto de Teste no formato supervisionado:\n",
            "[[0.4073359 ]\n",
            " [0.3803089 ]\n",
            " [0.48648646]\n",
            " [0.47104248]\n",
            " [0.484556  ]\n",
            " [0.6138996 ]\n",
            " [0.6969112 ]\n",
            " [0.70077217]\n",
            " [0.57915056]\n",
            " [0.46911195]\n",
            " [0.38803086]\n",
            " [0.44787642]\n",
            " [0.45559844]\n",
            " [0.4131274 ]\n",
            " [0.4980695 ]\n",
            " [0.47104248]\n",
            " [0.49999997]\n",
            " [0.6389961 ]\n",
            " [0.7471043 ]\n",
            " [0.7741313 ]\n",
            " [0.57915056]\n",
            " [0.492278  ]\n",
            " [0.3976834 ]\n",
            " [0.44980696]\n",
            " [0.49420848]\n",
            " [0.45945945]\n",
            " [0.5830116 ]\n",
            " [0.5637065 ]\n",
            " [0.61003864]\n",
            " [0.71042466]\n",
            " [0.8571429 ]\n",
            " [0.8783784 ]\n",
            " [0.69305015]\n",
            " [0.5849421 ]\n",
            " [0.4980695 ]\n",
            " [0.58108103]\n",
            " [0.6042471 ]\n",
            " [0.554054  ]\n",
            " [0.60810804]\n",
            " [0.6891892 ]\n",
            " [0.71042466]\n",
            " [0.8320464 ]\n",
            " [1.        ]\n",
            " [0.96911204]\n",
            " [0.7799227 ]\n",
            " [0.6891892 ]]\n",
            "Conjunto de Teste no formato supervisionado:\n",
            "[0.3803089  0.48648646 0.47104248 0.484556   0.6138996  0.6969112\n",
            " 0.70077217 0.57915056 0.46911195 0.38803086 0.44787642 0.45559844\n",
            " 0.4131274  0.4980695  0.47104248 0.49999997 0.6389961  0.7471043\n",
            " 0.7741313  0.57915056 0.492278   0.3976834  0.44980696 0.49420848\n",
            " 0.45945945 0.5830116  0.5637065  0.61003864 0.71042466 0.8571429\n",
            " 0.8783784  0.69305015 0.5849421  0.4980695  0.58108103 0.6042471\n",
            " 0.554054   0.60810804 0.6891892  0.71042466 0.8320464  1.\n",
            " 0.96911204 0.7799227  0.6891892  0.55212355]\n",
            "\n",
            "DF = [X | X+1]\n"
          ],
          "name": "stdout"
        },
        {
          "output_type": "execute_result",
          "data": {
            "text/plain": [
              "array([[0.4073359 , 0.3803089 ],\n",
              "       [0.3803089 , 0.48648646],\n",
              "       [0.48648646, 0.47104248],\n",
              "       [0.47104248, 0.484556  ],\n",
              "       [0.484556  , 0.6138996 ],\n",
              "       [0.6138996 , 0.6969112 ],\n",
              "       [0.6969112 , 0.70077217],\n",
              "       [0.70077217, 0.57915056],\n",
              "       [0.57915056, 0.46911195],\n",
              "       [0.46911195, 0.38803086],\n",
              "       [0.38803086, 0.44787642],\n",
              "       [0.44787642, 0.45559844],\n",
              "       [0.45559844, 0.4131274 ],\n",
              "       [0.4131274 , 0.4980695 ],\n",
              "       [0.4980695 , 0.47104248],\n",
              "       [0.47104248, 0.49999997],\n",
              "       [0.49999997, 0.6389961 ],\n",
              "       [0.6389961 , 0.7471043 ],\n",
              "       [0.7471043 , 0.7741313 ],\n",
              "       [0.7741313 , 0.57915056],\n",
              "       [0.57915056, 0.492278  ],\n",
              "       [0.492278  , 0.3976834 ],\n",
              "       [0.3976834 , 0.44980696],\n",
              "       [0.44980696, 0.49420848],\n",
              "       [0.49420848, 0.45945945],\n",
              "       [0.45945945, 0.5830116 ],\n",
              "       [0.5830116 , 0.5637065 ],\n",
              "       [0.5637065 , 0.61003864],\n",
              "       [0.61003864, 0.71042466],\n",
              "       [0.71042466, 0.8571429 ],\n",
              "       [0.8571429 , 0.8783784 ],\n",
              "       [0.8783784 , 0.69305015],\n",
              "       [0.69305015, 0.5849421 ],\n",
              "       [0.5849421 , 0.4980695 ],\n",
              "       [0.4980695 , 0.58108103],\n",
              "       [0.58108103, 0.6042471 ],\n",
              "       [0.6042471 , 0.554054  ],\n",
              "       [0.554054  , 0.60810804],\n",
              "       [0.60810804, 0.6891892 ],\n",
              "       [0.6891892 , 0.71042466],\n",
              "       [0.71042466, 0.8320464 ],\n",
              "       [0.8320464 , 1.        ],\n",
              "       [1.        , 0.96911204],\n",
              "       [0.96911204, 0.7799227 ],\n",
              "       [0.7799227 , 0.6891892 ],\n",
              "       [0.6891892 , 0.55212355]], dtype=float32)"
            ]
          },
          "metadata": {
            "tags": []
          },
          "execution_count": 11
        }
      ]
    },
    {
      "cell_type": "code",
      "metadata": {
        "colab": {
          "base_uri": "https://localhost:8080/"
        },
        "id": "mF1zK8sp0rnG",
        "outputId": "66410439-80d8-4858-8e28-8125ed828f85"
      },
      "source": [
        "# Ajustando os conjunto de treino (trainX) e teste (testX) para o formato\n",
        "# [samples, time_steps, features]\n",
        "trainX = np.reshape(trainX, (trainX.shape[0], 1, trainX.shape[1]))\n",
        "print(\"- Dim train:\", trainX.shape)\n",
        "testX = np.reshape(testX, (testX.shape[0], 1, testX.shape[1]))\n",
        "print(\"- Dim test:  \", testX.shape)\n",
        "\n",
        "print(\"Teste no formato para input:\") #alternativamente poderíamos ter amostras multivariadas\n",
        "print(testX)"
      ],
      "execution_count": 12,
      "outputs": [
        {
          "output_type": "stream",
          "text": [
            "- Dim train: (94, 1, 1)\n",
            "- Dim test:   (46, 1, 1)\n",
            "Teste no formato para input:\n",
            "[[[0.4073359 ]]\n",
            "\n",
            " [[0.3803089 ]]\n",
            "\n",
            " [[0.48648646]]\n",
            "\n",
            " [[0.47104248]]\n",
            "\n",
            " [[0.484556  ]]\n",
            "\n",
            " [[0.6138996 ]]\n",
            "\n",
            " [[0.6969112 ]]\n",
            "\n",
            " [[0.70077217]]\n",
            "\n",
            " [[0.57915056]]\n",
            "\n",
            " [[0.46911195]]\n",
            "\n",
            " [[0.38803086]]\n",
            "\n",
            " [[0.44787642]]\n",
            "\n",
            " [[0.45559844]]\n",
            "\n",
            " [[0.4131274 ]]\n",
            "\n",
            " [[0.4980695 ]]\n",
            "\n",
            " [[0.47104248]]\n",
            "\n",
            " [[0.49999997]]\n",
            "\n",
            " [[0.6389961 ]]\n",
            "\n",
            " [[0.7471043 ]]\n",
            "\n",
            " [[0.7741313 ]]\n",
            "\n",
            " [[0.57915056]]\n",
            "\n",
            " [[0.492278  ]]\n",
            "\n",
            " [[0.3976834 ]]\n",
            "\n",
            " [[0.44980696]]\n",
            "\n",
            " [[0.49420848]]\n",
            "\n",
            " [[0.45945945]]\n",
            "\n",
            " [[0.5830116 ]]\n",
            "\n",
            " [[0.5637065 ]]\n",
            "\n",
            " [[0.61003864]]\n",
            "\n",
            " [[0.71042466]]\n",
            "\n",
            " [[0.8571429 ]]\n",
            "\n",
            " [[0.8783784 ]]\n",
            "\n",
            " [[0.69305015]]\n",
            "\n",
            " [[0.5849421 ]]\n",
            "\n",
            " [[0.4980695 ]]\n",
            "\n",
            " [[0.58108103]]\n",
            "\n",
            " [[0.6042471 ]]\n",
            "\n",
            " [[0.554054  ]]\n",
            "\n",
            " [[0.60810804]]\n",
            "\n",
            " [[0.6891892 ]]\n",
            "\n",
            " [[0.71042466]]\n",
            "\n",
            " [[0.8320464 ]]\n",
            "\n",
            " [[1.        ]]\n",
            "\n",
            " [[0.96911204]]\n",
            "\n",
            " [[0.7799227 ]]\n",
            "\n",
            " [[0.6891892 ]]]\n"
          ],
          "name": "stdout"
        }
      ]
    },
    {
      "cell_type": "code",
      "metadata": {
        "colab": {
          "base_uri": "https://localhost:8080/"
        },
        "id": "HAywGdpf0vNM",
        "outputId": "8f243a96-93c3-432e-e80d-b6309a6dbd61"
      },
      "source": [
        "# Criando nossa rede recorrente com unidades de LSTM \n",
        "# formato keras sequencial\n",
        "model = Sequential()\n",
        "model.add(LSTM(units=4, input_shape=(1, janela_previsao))) \n",
        "model.add(Dense(1))\n",
        "\n",
        "# visualizar o modelo (arquitetura) que geramos\n",
        "model.summary()\n"
      ],
      "execution_count": 13,
      "outputs": [
        {
          "output_type": "stream",
          "text": [
            "Model: \"sequential\"\n",
            "_________________________________________________________________\n",
            "Layer (type)                 Output Shape              Param #   \n",
            "=================================================================\n",
            "lstm (LSTM)                  (None, 4)                 96        \n",
            "_________________________________________________________________\n",
            "dense (Dense)                (None, 1)                 5         \n",
            "=================================================================\n",
            "Total params: 101\n",
            "Trainable params: 101\n",
            "Non-trainable params: 0\n",
            "_________________________________________________________________\n"
          ],
          "name": "stdout"
        }
      ]
    },
    {
      "cell_type": "code",
      "metadata": {
        "id": "7DFN4UkL00_R"
      },
      "source": [
        "# parâmetros para otimizacao\n",
        "# medida a ser minimizada = Erro quadrático médio (Mean Squared Error)\n",
        "# Otimizador, algoritmo de treinamento = Adam\n",
        "# métricas para avaliar o modelo = MSE, RMSE, MAE\n",
        "model.compile(loss='mean_squared_error', \n",
        "              optimizer='adam', \n",
        "              metrics=[\"MeanSquaredError\", \"RootMeanSquaredError\", \"MeanAbsoluteError\"]\n",
        ") "
      ],
      "execution_count": 15,
      "outputs": []
    },
    {
      "cell_type": "code",
      "metadata": {
        "colab": {
          "base_uri": "https://localhost:8080/"
        },
        "id": "7Tfy339a022v",
        "outputId": "9ca6d6d3-19ef-46eb-ebe6-fccc73f043ea"
      },
      "source": [
        "# Treinando nossa rede\n",
        "# epocas = 100\n",
        "# batch_size = 1, treinar amostra por amostra\n",
        "history = model.fit(trainX, trainY, epochs=100, batch_size=1, verbose=2)"
      ],
      "execution_count": 16,
      "outputs": [
        {
          "output_type": "stream",
          "text": [
            "Epoch 1/100\n",
            "94/94 - 2s - loss: 0.0395 - mean_squared_error: 0.0395 - root_mean_squared_error: 0.1988 - mean_absolute_error: 0.1537\n",
            "Epoch 2/100\n",
            "94/94 - 0s - loss: 0.0187 - mean_squared_error: 0.0187 - root_mean_squared_error: 0.1367 - mean_absolute_error: 0.1042\n",
            "Epoch 3/100\n",
            "94/94 - 0s - loss: 0.0147 - mean_squared_error: 0.0147 - root_mean_squared_error: 0.1212 - mean_absolute_error: 0.0980\n",
            "Epoch 4/100\n",
            "94/94 - 0s - loss: 0.0134 - mean_squared_error: 0.0134 - root_mean_squared_error: 0.1159 - mean_absolute_error: 0.0954\n",
            "Epoch 5/100\n",
            "94/94 - 0s - loss: 0.0125 - mean_squared_error: 0.0125 - root_mean_squared_error: 0.1117 - mean_absolute_error: 0.0901\n",
            "Epoch 6/100\n",
            "94/94 - 0s - loss: 0.0113 - mean_squared_error: 0.0113 - root_mean_squared_error: 0.1063 - mean_absolute_error: 0.0874\n",
            "Epoch 7/100\n",
            "94/94 - 0s - loss: 0.0103 - mean_squared_error: 0.0103 - root_mean_squared_error: 0.1017 - mean_absolute_error: 0.0836\n",
            "Epoch 8/100\n",
            "94/94 - 0s - loss: 0.0093 - mean_squared_error: 0.0093 - root_mean_squared_error: 0.0964 - mean_absolute_error: 0.0791\n",
            "Epoch 9/100\n",
            "94/94 - 0s - loss: 0.0083 - mean_squared_error: 0.0083 - root_mean_squared_error: 0.0909 - mean_absolute_error: 0.0745\n",
            "Epoch 10/100\n",
            "94/94 - 0s - loss: 0.0073 - mean_squared_error: 0.0073 - root_mean_squared_error: 0.0857 - mean_absolute_error: 0.0691\n",
            "Epoch 11/100\n",
            "94/94 - 0s - loss: 0.0064 - mean_squared_error: 0.0064 - root_mean_squared_error: 0.0797 - mean_absolute_error: 0.0650\n",
            "Epoch 12/100\n",
            "94/94 - 0s - loss: 0.0055 - mean_squared_error: 0.0055 - root_mean_squared_error: 0.0743 - mean_absolute_error: 0.0599\n",
            "Epoch 13/100\n",
            "94/94 - 0s - loss: 0.0048 - mean_squared_error: 0.0048 - root_mean_squared_error: 0.0694 - mean_absolute_error: 0.0559\n",
            "Epoch 14/100\n",
            "94/94 - 0s - loss: 0.0041 - mean_squared_error: 0.0041 - root_mean_squared_error: 0.0640 - mean_absolute_error: 0.0505\n",
            "Epoch 15/100\n",
            "94/94 - 0s - loss: 0.0036 - mean_squared_error: 0.0036 - root_mean_squared_error: 0.0604 - mean_absolute_error: 0.0484\n",
            "Epoch 16/100\n",
            "94/94 - 0s - loss: 0.0031 - mean_squared_error: 0.0031 - root_mean_squared_error: 0.0560 - mean_absolute_error: 0.0448\n",
            "Epoch 17/100\n",
            "94/94 - 0s - loss: 0.0028 - mean_squared_error: 0.0028 - root_mean_squared_error: 0.0526 - mean_absolute_error: 0.0413\n",
            "Epoch 18/100\n",
            "94/94 - 0s - loss: 0.0025 - mean_squared_error: 0.0025 - root_mean_squared_error: 0.0501 - mean_absolute_error: 0.0390\n",
            "Epoch 19/100\n",
            "94/94 - 0s - loss: 0.0024 - mean_squared_error: 0.0024 - root_mean_squared_error: 0.0486 - mean_absolute_error: 0.0385\n",
            "Epoch 20/100\n",
            "94/94 - 0s - loss: 0.0022 - mean_squared_error: 0.0022 - root_mean_squared_error: 0.0466 - mean_absolute_error: 0.0370\n",
            "Epoch 21/100\n",
            "94/94 - 0s - loss: 0.0021 - mean_squared_error: 0.0021 - root_mean_squared_error: 0.0459 - mean_absolute_error: 0.0367\n",
            "Epoch 22/100\n",
            "94/94 - 0s - loss: 0.0021 - mean_squared_error: 0.0021 - root_mean_squared_error: 0.0456 - mean_absolute_error: 0.0355\n",
            "Epoch 23/100\n",
            "94/94 - 0s - loss: 0.0020 - mean_squared_error: 0.0020 - root_mean_squared_error: 0.0446 - mean_absolute_error: 0.0348\n",
            "Epoch 24/100\n",
            "94/94 - 0s - loss: 0.0020 - mean_squared_error: 0.0020 - root_mean_squared_error: 0.0449 - mean_absolute_error: 0.0350\n",
            "Epoch 25/100\n",
            "94/94 - 0s - loss: 0.0021 - mean_squared_error: 0.0021 - root_mean_squared_error: 0.0455 - mean_absolute_error: 0.0354\n",
            "Epoch 26/100\n",
            "94/94 - 0s - loss: 0.0020 - mean_squared_error: 0.0020 - root_mean_squared_error: 0.0445 - mean_absolute_error: 0.0350\n",
            "Epoch 27/100\n",
            "94/94 - 0s - loss: 0.0020 - mean_squared_error: 0.0020 - root_mean_squared_error: 0.0450 - mean_absolute_error: 0.0356\n",
            "Epoch 28/100\n",
            "94/94 - 0s - loss: 0.0020 - mean_squared_error: 0.0020 - root_mean_squared_error: 0.0446 - mean_absolute_error: 0.0355\n",
            "Epoch 29/100\n",
            "94/94 - 0s - loss: 0.0020 - mean_squared_error: 0.0020 - root_mean_squared_error: 0.0444 - mean_absolute_error: 0.0351\n",
            "Epoch 30/100\n",
            "94/94 - 0s - loss: 0.0020 - mean_squared_error: 0.0020 - root_mean_squared_error: 0.0447 - mean_absolute_error: 0.0351\n",
            "Epoch 31/100\n",
            "94/94 - 0s - loss: 0.0020 - mean_squared_error: 0.0020 - root_mean_squared_error: 0.0447 - mean_absolute_error: 0.0351\n",
            "Epoch 32/100\n",
            "94/94 - 0s - loss: 0.0020 - mean_squared_error: 0.0020 - root_mean_squared_error: 0.0444 - mean_absolute_error: 0.0349\n",
            "Epoch 33/100\n",
            "94/94 - 0s - loss: 0.0020 - mean_squared_error: 0.0020 - root_mean_squared_error: 0.0451 - mean_absolute_error: 0.0356\n",
            "Epoch 34/100\n",
            "94/94 - 0s - loss: 0.0020 - mean_squared_error: 0.0020 - root_mean_squared_error: 0.0444 - mean_absolute_error: 0.0351\n",
            "Epoch 35/100\n",
            "94/94 - 0s - loss: 0.0020 - mean_squared_error: 0.0020 - root_mean_squared_error: 0.0444 - mean_absolute_error: 0.0354\n",
            "Epoch 36/100\n",
            "94/94 - 0s - loss: 0.0020 - mean_squared_error: 0.0020 - root_mean_squared_error: 0.0448 - mean_absolute_error: 0.0351\n",
            "Epoch 37/100\n",
            "94/94 - 0s - loss: 0.0020 - mean_squared_error: 0.0020 - root_mean_squared_error: 0.0453 - mean_absolute_error: 0.0356\n",
            "Epoch 38/100\n",
            "94/94 - 0s - loss: 0.0020 - mean_squared_error: 0.0020 - root_mean_squared_error: 0.0444 - mean_absolute_error: 0.0350\n",
            "Epoch 39/100\n",
            "94/94 - 0s - loss: 0.0020 - mean_squared_error: 0.0020 - root_mean_squared_error: 0.0444 - mean_absolute_error: 0.0352\n",
            "Epoch 40/100\n",
            "94/94 - 0s - loss: 0.0020 - mean_squared_error: 0.0020 - root_mean_squared_error: 0.0447 - mean_absolute_error: 0.0348\n",
            "Epoch 41/100\n",
            "94/94 - 0s - loss: 0.0020 - mean_squared_error: 0.0020 - root_mean_squared_error: 0.0448 - mean_absolute_error: 0.0355\n",
            "Epoch 42/100\n",
            "94/94 - 0s - loss: 0.0020 - mean_squared_error: 0.0020 - root_mean_squared_error: 0.0445 - mean_absolute_error: 0.0351\n",
            "Epoch 43/100\n",
            "94/94 - 0s - loss: 0.0020 - mean_squared_error: 0.0020 - root_mean_squared_error: 0.0450 - mean_absolute_error: 0.0357\n",
            "Epoch 44/100\n",
            "94/94 - 0s - loss: 0.0020 - mean_squared_error: 0.0020 - root_mean_squared_error: 0.0446 - mean_absolute_error: 0.0351\n",
            "Epoch 45/100\n",
            "94/94 - 0s - loss: 0.0019 - mean_squared_error: 0.0019 - root_mean_squared_error: 0.0441 - mean_absolute_error: 0.0348\n",
            "Epoch 46/100\n",
            "94/94 - 0s - loss: 0.0020 - mean_squared_error: 0.0020 - root_mean_squared_error: 0.0445 - mean_absolute_error: 0.0350\n",
            "Epoch 47/100\n",
            "94/94 - 0s - loss: 0.0020 - mean_squared_error: 0.0020 - root_mean_squared_error: 0.0442 - mean_absolute_error: 0.0354\n",
            "Epoch 48/100\n",
            "94/94 - 0s - loss: 0.0020 - mean_squared_error: 0.0020 - root_mean_squared_error: 0.0447 - mean_absolute_error: 0.0351\n",
            "Epoch 49/100\n",
            "94/94 - 0s - loss: 0.0020 - mean_squared_error: 0.0020 - root_mean_squared_error: 0.0446 - mean_absolute_error: 0.0352\n",
            "Epoch 50/100\n",
            "94/94 - 0s - loss: 0.0021 - mean_squared_error: 0.0021 - root_mean_squared_error: 0.0458 - mean_absolute_error: 0.0356\n",
            "Epoch 51/100\n",
            "94/94 - 0s - loss: 0.0020 - mean_squared_error: 0.0020 - root_mean_squared_error: 0.0443 - mean_absolute_error: 0.0355\n",
            "Epoch 52/100\n",
            "94/94 - 0s - loss: 0.0019 - mean_squared_error: 0.0019 - root_mean_squared_error: 0.0437 - mean_absolute_error: 0.0342\n",
            "Epoch 53/100\n",
            "94/94 - 0s - loss: 0.0020 - mean_squared_error: 0.0020 - root_mean_squared_error: 0.0450 - mean_absolute_error: 0.0359\n",
            "Epoch 54/100\n",
            "94/94 - 0s - loss: 0.0020 - mean_squared_error: 0.0020 - root_mean_squared_error: 0.0448 - mean_absolute_error: 0.0353\n",
            "Epoch 55/100\n",
            "94/94 - 0s - loss: 0.0020 - mean_squared_error: 0.0020 - root_mean_squared_error: 0.0447 - mean_absolute_error: 0.0353\n",
            "Epoch 56/100\n",
            "94/94 - 0s - loss: 0.0020 - mean_squared_error: 0.0020 - root_mean_squared_error: 0.0442 - mean_absolute_error: 0.0350\n",
            "Epoch 57/100\n",
            "94/94 - 0s - loss: 0.0020 - mean_squared_error: 0.0020 - root_mean_squared_error: 0.0442 - mean_absolute_error: 0.0351\n",
            "Epoch 58/100\n",
            "94/94 - 0s - loss: 0.0021 - mean_squared_error: 0.0021 - root_mean_squared_error: 0.0459 - mean_absolute_error: 0.0353\n",
            "Epoch 59/100\n",
            "94/94 - 0s - loss: 0.0020 - mean_squared_error: 0.0020 - root_mean_squared_error: 0.0446 - mean_absolute_error: 0.0355\n",
            "Epoch 60/100\n",
            "94/94 - 0s - loss: 0.0021 - mean_squared_error: 0.0021 - root_mean_squared_error: 0.0455 - mean_absolute_error: 0.0366\n",
            "Epoch 61/100\n",
            "94/94 - 0s - loss: 0.0020 - mean_squared_error: 0.0020 - root_mean_squared_error: 0.0442 - mean_absolute_error: 0.0353\n",
            "Epoch 62/100\n",
            "94/94 - 0s - loss: 0.0020 - mean_squared_error: 0.0020 - root_mean_squared_error: 0.0453 - mean_absolute_error: 0.0355\n",
            "Epoch 63/100\n",
            "94/94 - 0s - loss: 0.0020 - mean_squared_error: 0.0020 - root_mean_squared_error: 0.0446 - mean_absolute_error: 0.0354\n",
            "Epoch 64/100\n",
            "94/94 - 0s - loss: 0.0020 - mean_squared_error: 0.0020 - root_mean_squared_error: 0.0448 - mean_absolute_error: 0.0355\n",
            "Epoch 65/100\n",
            "94/94 - 0s - loss: 0.0020 - mean_squared_error: 0.0020 - root_mean_squared_error: 0.0445 - mean_absolute_error: 0.0353\n",
            "Epoch 66/100\n",
            "94/94 - 0s - loss: 0.0020 - mean_squared_error: 0.0020 - root_mean_squared_error: 0.0444 - mean_absolute_error: 0.0352\n",
            "Epoch 67/100\n",
            "94/94 - 0s - loss: 0.0020 - mean_squared_error: 0.0020 - root_mean_squared_error: 0.0450 - mean_absolute_error: 0.0357\n",
            "Epoch 68/100\n",
            "94/94 - 0s - loss: 0.0020 - mean_squared_error: 0.0020 - root_mean_squared_error: 0.0447 - mean_absolute_error: 0.0352\n",
            "Epoch 69/100\n",
            "94/94 - 0s - loss: 0.0020 - mean_squared_error: 0.0020 - root_mean_squared_error: 0.0442 - mean_absolute_error: 0.0353\n",
            "Epoch 70/100\n",
            "94/94 - 0s - loss: 0.0020 - mean_squared_error: 0.0020 - root_mean_squared_error: 0.0445 - mean_absolute_error: 0.0354\n",
            "Epoch 71/100\n",
            "94/94 - 0s - loss: 0.0020 - mean_squared_error: 0.0020 - root_mean_squared_error: 0.0449 - mean_absolute_error: 0.0350\n",
            "Epoch 72/100\n",
            "94/94 - 0s - loss: 0.0020 - mean_squared_error: 0.0020 - root_mean_squared_error: 0.0451 - mean_absolute_error: 0.0356\n",
            "Epoch 73/100\n",
            "94/94 - 0s - loss: 0.0020 - mean_squared_error: 0.0020 - root_mean_squared_error: 0.0447 - mean_absolute_error: 0.0352\n",
            "Epoch 74/100\n",
            "94/94 - 0s - loss: 0.0021 - mean_squared_error: 0.0021 - root_mean_squared_error: 0.0459 - mean_absolute_error: 0.0362\n",
            "Epoch 75/100\n",
            "94/94 - 0s - loss: 0.0020 - mean_squared_error: 0.0020 - root_mean_squared_error: 0.0442 - mean_absolute_error: 0.0349\n",
            "Epoch 76/100\n",
            "94/94 - 0s - loss: 0.0020 - mean_squared_error: 0.0020 - root_mean_squared_error: 0.0446 - mean_absolute_error: 0.0352\n",
            "Epoch 77/100\n",
            "94/94 - 0s - loss: 0.0020 - mean_squared_error: 0.0020 - root_mean_squared_error: 0.0450 - mean_absolute_error: 0.0356\n",
            "Epoch 78/100\n",
            "94/94 - 0s - loss: 0.0020 - mean_squared_error: 0.0020 - root_mean_squared_error: 0.0445 - mean_absolute_error: 0.0350\n",
            "Epoch 79/100\n",
            "94/94 - 0s - loss: 0.0020 - mean_squared_error: 0.0020 - root_mean_squared_error: 0.0450 - mean_absolute_error: 0.0357\n",
            "Epoch 80/100\n",
            "94/94 - 0s - loss: 0.0020 - mean_squared_error: 0.0020 - root_mean_squared_error: 0.0446 - mean_absolute_error: 0.0347\n",
            "Epoch 81/100\n",
            "94/94 - 0s - loss: 0.0020 - mean_squared_error: 0.0020 - root_mean_squared_error: 0.0444 - mean_absolute_error: 0.0349\n",
            "Epoch 82/100\n",
            "94/94 - 0s - loss: 0.0020 - mean_squared_error: 0.0020 - root_mean_squared_error: 0.0446 - mean_absolute_error: 0.0350\n",
            "Epoch 83/100\n",
            "94/94 - 0s - loss: 0.0020 - mean_squared_error: 0.0020 - root_mean_squared_error: 0.0443 - mean_absolute_error: 0.0353\n",
            "Epoch 84/100\n",
            "94/94 - 0s - loss: 0.0020 - mean_squared_error: 0.0020 - root_mean_squared_error: 0.0448 - mean_absolute_error: 0.0354\n",
            "Epoch 85/100\n",
            "94/94 - 0s - loss: 0.0020 - mean_squared_error: 0.0020 - root_mean_squared_error: 0.0452 - mean_absolute_error: 0.0362\n",
            "Epoch 86/100\n",
            "94/94 - 0s - loss: 0.0020 - mean_squared_error: 0.0020 - root_mean_squared_error: 0.0444 - mean_absolute_error: 0.0351\n",
            "Epoch 87/100\n",
            "94/94 - 0s - loss: 0.0020 - mean_squared_error: 0.0020 - root_mean_squared_error: 0.0445 - mean_absolute_error: 0.0354\n",
            "Epoch 88/100\n",
            "94/94 - 0s - loss: 0.0020 - mean_squared_error: 0.0020 - root_mean_squared_error: 0.0443 - mean_absolute_error: 0.0353\n",
            "Epoch 89/100\n",
            "94/94 - 0s - loss: 0.0020 - mean_squared_error: 0.0020 - root_mean_squared_error: 0.0450 - mean_absolute_error: 0.0355\n",
            "Epoch 90/100\n",
            "94/94 - 0s - loss: 0.0020 - mean_squared_error: 0.0020 - root_mean_squared_error: 0.0448 - mean_absolute_error: 0.0354\n",
            "Epoch 91/100\n",
            "94/94 - 0s - loss: 0.0020 - mean_squared_error: 0.0020 - root_mean_squared_error: 0.0445 - mean_absolute_error: 0.0354\n",
            "Epoch 92/100\n",
            "94/94 - 0s - loss: 0.0020 - mean_squared_error: 0.0020 - root_mean_squared_error: 0.0447 - mean_absolute_error: 0.0363\n",
            "Epoch 93/100\n",
            "94/94 - 0s - loss: 0.0020 - mean_squared_error: 0.0020 - root_mean_squared_error: 0.0443 - mean_absolute_error: 0.0350\n",
            "Epoch 94/100\n",
            "94/94 - 0s - loss: 0.0020 - mean_squared_error: 0.0020 - root_mean_squared_error: 0.0444 - mean_absolute_error: 0.0355\n",
            "Epoch 95/100\n",
            "94/94 - 0s - loss: 0.0020 - mean_squared_error: 0.0020 - root_mean_squared_error: 0.0448 - mean_absolute_error: 0.0356\n",
            "Epoch 96/100\n",
            "94/94 - 0s - loss: 0.0020 - mean_squared_error: 0.0020 - root_mean_squared_error: 0.0445 - mean_absolute_error: 0.0353\n",
            "Epoch 97/100\n",
            "94/94 - 0s - loss: 0.0020 - mean_squared_error: 0.0020 - root_mean_squared_error: 0.0453 - mean_absolute_error: 0.0357\n",
            "Epoch 98/100\n",
            "94/94 - 0s - loss: 0.0020 - mean_squared_error: 0.0020 - root_mean_squared_error: 0.0445 - mean_absolute_error: 0.0358\n",
            "Epoch 99/100\n",
            "94/94 - 0s - loss: 0.0020 - mean_squared_error: 0.0020 - root_mean_squared_error: 0.0443 - mean_absolute_error: 0.0355\n",
            "Epoch 100/100\n",
            "94/94 - 0s - loss: 0.0020 - mean_squared_error: 0.0020 - root_mean_squared_error: 0.0446 - mean_absolute_error: 0.0360\n"
          ],
          "name": "stdout"
        }
      ]
    },
    {
      "cell_type": "code",
      "metadata": {
        "colab": {
          "base_uri": "https://localhost:8080/",
          "height": 279
        },
        "id": "jfY36IMZT0hy",
        "outputId": "7a55f9f6-6a7c-4ce7-b02a-e8259627b214"
      },
      "source": [
        "# Plotando os erros obtidos no conjunto de treinamento\n",
        "# plotamos as três medidas (MSE, RMSE, MAE)\n",
        "# percebam que depois de 20 épocas, não há uma redução significativa nos erros, \n",
        "#e o treinamento poderia ser feito com uma quantidade menor de iterações\n",
        "\n",
        "# checar os nomes\n",
        "#print(history.history.keys())\n",
        "\n",
        "plt.plot(history.history['mean_squared_error'])\n",
        "plt.plot(history.history['root_mean_squared_error'])\n",
        "plt.plot(history.history['mean_absolute_error'])\n",
        "plt.xlabel('epoch')\n",
        "plt.legend(['MSE', 'RMSE', 'MAE'], loc='upper right')\n",
        "plt.show()"
      ],
      "execution_count": 17,
      "outputs": [
        {
          "output_type": "display_data",
          "data": {
            "image/png": "[encoded data removed]",
            "text/plain": [
              "<Figure size 432x288 with 1 Axes>"
            ]
          },
          "metadata": {
            "tags": [],
            "needs_background": "light"
          }
        }
      ]
    },
    {
      "cell_type": "code",
      "metadata": {
        "id": "e-81As4sT5kC"
      },
      "source": [
        "# Realizando as predições nos conjuntos de treino/teste\n",
        "\n",
        "# predição no conjunto de trienamento\n",
        "trainPredict = model.predict(trainX)\n",
        "\n",
        "# predição no conjunto de teste\n",
        "testPredict  = model.predict(testX)"
      ],
      "execution_count": 18,
      "outputs": []
    },
    {
      "cell_type": "code",
      "metadata": {
        "colab": {
          "base_uri": "https://localhost:8080/"
        },
        "id": "f4Ij002CT-Qy",
        "outputId": "c4b01e9a-46a9-44be-a61b-7377a1cfa883"
      },
      "source": [
        "print(\"Predição do Teste:\")\n",
        "print(testPredict)\n",
        "\n",
        "print(\"\\nDF = [Real | Predito]\")\n",
        "np.column_stack((testY, testPredict))"
      ],
      "execution_count": 19,
      "outputs": [
        {
          "output_type": "stream",
          "text": [
            "Predição do Teste:\n",
            "[[0.3986477 ]\n",
            " [0.37384832]\n",
            " [0.46939263]\n",
            " [0.45582944]\n",
            " [0.4677041 ]\n",
            " [0.57616127]\n",
            " [0.6403217 ]\n",
            " [0.6431965 ]\n",
            " [0.54800004]\n",
            " [0.4541254 ]\n",
            " [0.38096362]\n",
            " [0.43525806]\n",
            " [0.44214463]\n",
            " [0.40392262]\n",
            " [0.4794827 ]\n",
            " [0.45582944]\n",
            " [0.48115736]\n",
            " [0.596028  ]\n",
            " [0.6769256 ]\n",
            " [0.6959437 ]\n",
            " [0.54800004]\n",
            " [0.47444668]\n",
            " [0.38982475]\n",
            " [0.4369824 ]\n",
            " [0.47612742]\n",
            " [0.44557694]\n",
            " [0.551166  ]\n",
            " [0.5352459 ]\n",
            " [0.5730695 ]\n",
            " [0.6503406 ]\n",
            " [0.7513413 ]\n",
            " [0.76479065]\n",
            " [0.63743705]\n",
            " [0.55274546]\n",
            " [0.4794827 ]\n",
            " [0.5495841 ]\n",
            " [0.5684142 ]\n",
            " [0.5272018 ]\n",
            " [0.57152   ]\n",
            " [0.63454264]\n",
            " [0.6503406 ]\n",
            " [0.73506975]\n",
            " [0.8363542 ]\n",
            " [0.8190403 ]\n",
            " [0.69995576]\n",
            " [0.63454264]]\n",
            "\n",
            "DF = [Real | Predito]\n"
          ],
          "name": "stdout"
        },
        {
          "output_type": "execute_result",
          "data": {
            "text/plain": [
              "array([[0.3803089 , 0.3986477 ],\n",
              "       [0.48648646, 0.37384832],\n",
              "       [0.47104248, 0.46939263],\n",
              "       [0.484556  , 0.45582944],\n",
              "       [0.6138996 , 0.4677041 ],\n",
              "       [0.6969112 , 0.57616127],\n",
              "       [0.70077217, 0.6403217 ],\n",
              "       [0.57915056, 0.6431965 ],\n",
              "       [0.46911195, 0.54800004],\n",
              "       [0.38803086, 0.4541254 ],\n",
              "       [0.44787642, 0.38096362],\n",
              "       [0.45559844, 0.43525806],\n",
              "       [0.4131274 , 0.44214463],\n",
              "       [0.4980695 , 0.40392262],\n",
              "       [0.47104248, 0.4794827 ],\n",
              "       [0.49999997, 0.45582944],\n",
              "       [0.6389961 , 0.48115736],\n",
              "       [0.7471043 , 0.596028  ],\n",
              "       [0.7741313 , 0.6769256 ],\n",
              "       [0.57915056, 0.6959437 ],\n",
              "       [0.492278  , 0.54800004],\n",
              "       [0.3976834 , 0.47444668],\n",
              "       [0.44980696, 0.38982475],\n",
              "       [0.49420848, 0.4369824 ],\n",
              "       [0.45945945, 0.47612742],\n",
              "       [0.5830116 , 0.44557694],\n",
              "       [0.5637065 , 0.551166  ],\n",
              "       [0.61003864, 0.5352459 ],\n",
              "       [0.71042466, 0.5730695 ],\n",
              "       [0.8571429 , 0.6503406 ],\n",
              "       [0.8783784 , 0.7513413 ],\n",
              "       [0.69305015, 0.76479065],\n",
              "       [0.5849421 , 0.63743705],\n",
              "       [0.4980695 , 0.55274546],\n",
              "       [0.58108103, 0.4794827 ],\n",
              "       [0.6042471 , 0.5495841 ],\n",
              "       [0.554054  , 0.5684142 ],\n",
              "       [0.60810804, 0.5272018 ],\n",
              "       [0.6891892 , 0.57152   ],\n",
              "       [0.71042466, 0.63454264],\n",
              "       [0.8320464 , 0.6503406 ],\n",
              "       [1.        , 0.73506975],\n",
              "       [0.96911204, 0.8363542 ],\n",
              "       [0.7799227 , 0.8190403 ],\n",
              "       [0.6891892 , 0.69995576],\n",
              "       [0.55212355, 0.63454264]], dtype=float32)"
            ]
          },
          "metadata": {
            "tags": []
          },
          "execution_count": 19
        }
      ]
    },
    {
      "cell_type": "code",
      "metadata": {
        "id": "0W-E2dIh0_Uk"
      },
      "source": [
        "# Aplicando a inversa da escala para retornar ao valor original\n",
        "# training set\n",
        "trainPredict = scaler.inverse_transform(trainPredict)\n",
        "trainY = scaler.inverse_transform([trainY])\n",
        "\n",
        "# testing set\n",
        "testPredict = scaler.inverse_transform(testPredict)\n",
        "testY = scaler.inverse_transform([testY])"
      ],
      "execution_count": 20,
      "outputs": []
    },
    {
      "cell_type": "code",
      "metadata": {
        "colab": {
          "base_uri": "https://localhost:8080/"
        },
        "id": "8WSOX6bpUJY1",
        "outputId": "7d08cc6f-003c-4079-84d4-1a5e998c6e6a"
      },
      "source": [
        "print(\"\\n * Predição do Teste na escala original:\")\n",
        "print(testPredict.shape)\n",
        "print(testPredict)\n",
        "\n",
        "#print(\"\\nDF = [Real | Predito]\")\n",
        "#np.column_stack((testY, testPredict))\n",
        "\n",
        "print(\"\\n * Predição do Teste na escala original:\")\n",
        "print(testY.shape)\n",
        "print(testY)"
      ],
      "execution_count": 21,
      "outputs": [
        {
          "output_type": "stream",
          "text": [
            "\n",
            " * Predição do Teste na escala original:\n",
            "(46, 1)\n",
            "[[310.4995 ]\n",
            " [297.6534 ]\n",
            " [347.1454 ]\n",
            " [340.11966]\n",
            " [346.27072]\n",
            " [402.45154]\n",
            " [435.68665]\n",
            " [437.1758 ]\n",
            " [387.86404]\n",
            " [339.23694]\n",
            " [301.33917]\n",
            " [329.46368]\n",
            " [333.0309 ]\n",
            " [313.23193]\n",
            " [352.37207]\n",
            " [340.11966]\n",
            " [353.23953]\n",
            " [412.7425 ]\n",
            " [454.6475 ]\n",
            " [464.49884]\n",
            " [387.86404]\n",
            " [349.7634 ]\n",
            " [305.9292 ]\n",
            " [330.35687]\n",
            " [350.634  ]\n",
            " [334.80887]\n",
            " [389.504  ]\n",
            " [381.25735]\n",
            " [400.85004]\n",
            " [440.87646]\n",
            " [493.1948 ]\n",
            " [500.16156]\n",
            " [434.1924 ]\n",
            " [390.32214]\n",
            " [352.37207]\n",
            " [388.68457]\n",
            " [398.43854]\n",
            " [377.0905 ]\n",
            " [400.04733]\n",
            " [432.6931 ]\n",
            " [440.87646]\n",
            " [484.7661 ]\n",
            " [537.2315 ]\n",
            " [528.2629 ]\n",
            " [466.57712]\n",
            " [432.6931 ]]\n",
            "\n",
            " * Predição do Teste na escala original:\n",
            "(1, 46)\n",
            "[[301.00001152 355.999993   348.00001085 355.00000681 421.9999924\n",
            "  465.0000161  466.99998848 403.99999397 346.99999379 304.99998716\n",
            "  335.99999132 339.99999783 317.99999288 362.00000277 348.00001085\n",
            "  362.99998896 434.99999813 491.00002756 505.00001948 403.99999397\n",
            "  359.00001333 310.00001073 337.00000838 359.99999952 342.00000109\n",
            "  406.0000281  395.99998094 420.00002002 471.99998119 548.00004318\n",
            "  559.00001477 462.99998197 407.00001429 362.00000277 404.99998016\n",
            "  416.9999997  390.99998824 418.99997208 461.00000959 471.99998119\n",
            "  535.00003745 622.00000929 606.00004499 507.99997805 461.00000959\n",
            "  390.00000205]]\n"
          ],
          "name": "stdout"
        }
      ]
    },
    {
      "cell_type": "code",
      "metadata": {
        "colab": {
          "base_uri": "https://localhost:8080/"
        },
        "id": "ROF1g3gf1CCJ",
        "outputId": "4487fdec-1b08-4ae8-d0a9-09e4cf7f5c34"
      },
      "source": [
        "# Calculando RMSE no treino e teste\n",
        "trainScore = math.sqrt(mean_squared_error(trainY[0], trainPredict[:,0]))\n",
        "print('Treino: %.2f RMSE' % (trainScore))\n",
        "testScore = math.sqrt(mean_squared_error(testY[0], testPredict[:,0]))\n",
        "print('Teste Score: %.2f RMSE' % (testScore))"
      ],
      "execution_count": 22,
      "outputs": [
        {
          "output_type": "stream",
          "text": [
            "Treino: 22.63 RMSE\n",
            "Teste Score: 51.46 RMSE\n"
          ],
          "name": "stdout"
        }
      ]
    },
    {
      "cell_type": "code",
      "metadata": {
        "colab": {
          "base_uri": "https://localhost:8080/"
        },
        "id": "blqu53fVUTRm",
        "outputId": "b64b6cbd-e2c8-42eb-e389-48d0a2513cc0"
      },
      "source": [
        "# Ajustando o plot do treino\n",
        "trainPredictPlot = np.empty_like(dataset)\n",
        "trainPredictPlot[:, :] = np.nan\n",
        "trainPredictPlot[janela_previsao:len(trainPredict)+janela_previsao, :] = trainPredict\n",
        "print(trainPredictPlot)"
      ],
      "execution_count": 23,
      "outputs": [
        {
          "output_type": "stream",
          "text": [
            "[[       nan]\n",
            " [118.359276]\n",
            " [123.927444]\n",
            " [137.01825 ]\n",
            " [134.20227 ]\n",
            " [126.721436]\n",
            " [139.83972 ]\n",
            " [152.1237  ]\n",
            " [152.1237  ]\n",
            " [140.78139 ]\n",
            " [124.85806 ]\n",
            " [110.97871 ]\n",
            " [123.927444]\n",
            " [121.13999 ]\n",
            " [131.39197 ]\n",
            " [145.49814 ]\n",
            " [139.83972 ]\n",
            " [130.45651 ]\n",
            " [153.07216 ]\n",
            " [173.08345 ]\n",
            " [173.08345 ]\n",
            " [161.62811 ]\n",
            " [137.95815 ]\n",
            " [120.212326]\n",
            " [144.55368 ]\n",
            " [149.28119 ]\n",
            " [154.02109 ]\n",
            " [180.74374 ]\n",
            " [166.39531 ]\n",
            " [174.99701 ]\n",
            " [180.74374 ]\n",
            " [200.90495 ]\n",
            " [200.90495 ]\n",
            " [186.4981  ]\n",
            " [165.44113 ]\n",
            " [150.22821 ]\n",
            " [169.25977 ]\n",
            " [174.0401  ]\n",
            " [182.6611  ]\n",
            " [195.13977 ]\n",
            " [183.62007 ]\n",
            " [185.53856 ]\n",
            " [219.16002 ]\n",
            " [230.66914 ]\n",
            " [242.14558 ]\n",
            " [210.51518 ]\n",
            " [193.2186  ]\n",
            " [174.99701 ]\n",
            " [196.1005  ]\n",
            " [198.02211 ]\n",
            " [198.02211 ]\n",
            " [236.41232 ]\n",
            " [235.45576 ]\n",
            " [229.71109 ]\n",
            " [243.10007 ]\n",
            " [263.0558  ]\n",
            " [270.60507 ]\n",
            " [237.36859 ]\n",
            " [212.43684 ]\n",
            " [182.6611  ]\n",
            " [202.82706 ]\n",
            " [205.71022 ]\n",
            " [190.3376  ]\n",
            " [235.45576 ]\n",
            " [227.79437 ]\n",
            " [234.49893 ]\n",
            " [263.0558  ]\n",
            " [298.57596 ]\n",
            " [290.247   ]\n",
            " [258.32138 ]\n",
            " [229.71109 ]\n",
            " [204.74916 ]\n",
            " [229.71109 ]\n",
            " [242.14558 ]\n",
            " [233.54185 ]\n",
            " [265.89066 ]\n",
            " [267.77798 ]\n",
            " [268.7209  ]\n",
            " [310.4995  ]\n",
            " [354.10596 ]\n",
            " [339.23694 ]\n",
            " [307.75974 ]\n",
            " [272.4871  ]\n",
            " [237.36859 ]\n",
            " [276.24435 ]\n",
            " [281.86255 ]\n",
            " [275.30594 ]\n",
            " [312.322   ]\n",
            " [308.67383 ]\n",
            " [313.23193 ]\n",
            " [362.71185 ]\n",
            " [395.20636 ]\n",
            " [388.68457 ]\n",
            " [346.27072 ]\n",
            " [302.2587  ]\n",
            " [       nan]\n",
            " [       nan]\n",
            " [       nan]\n",
            " [       nan]\n",
            " [       nan]\n",
            " [       nan]\n",
            " [       nan]\n",
            " [       nan]\n",
            " [       nan]\n",
            " [       nan]\n",
            " [       nan]\n",
            " [       nan]\n",
            " [       nan]\n",
            " [       nan]\n",
            " [       nan]\n",
            " [       nan]\n",
            " [       nan]\n",
            " [       nan]\n",
            " [       nan]\n",
            " [       nan]\n",
            " [       nan]\n",
            " [       nan]\n",
            " [       nan]\n",
            " [       nan]\n",
            " [       nan]\n",
            " [       nan]\n",
            " [       nan]\n",
            " [       nan]\n",
            " [       nan]\n",
            " [       nan]\n",
            " [       nan]\n",
            " [       nan]\n",
            " [       nan]\n",
            " [       nan]\n",
            " [       nan]\n",
            " [       nan]\n",
            " [       nan]\n",
            " [       nan]\n",
            " [       nan]\n",
            " [       nan]\n",
            " [       nan]\n",
            " [       nan]\n",
            " [       nan]\n",
            " [       nan]\n",
            " [       nan]\n",
            " [       nan]\n",
            " [       nan]\n",
            " [       nan]\n",
            " [       nan]]\n"
          ],
          "name": "stdout"
        }
      ]
    },
    {
      "cell_type": "code",
      "metadata": {
        "colab": {
          "base_uri": "https://localhost:8080/"
        },
        "id": "iRVcbLWhUXDM",
        "outputId": "eb0ebca4-c00f-49f4-a48d-800a94ca3ca2"
      },
      "source": [
        "# Ajustando o plot do teste\n",
        "testPredictPlot = np.empty_like(dataset)\n",
        "testPredictPlot[:, :] = np.nan\n",
        "testPredictPlot[len(trainPredict)+(janela_previsao*2)+1:len(dataset)-1, :] = testPredict\n",
        "print(testPredictPlot)"
      ],
      "execution_count": 24,
      "outputs": [
        {
          "output_type": "stream",
          "text": [
            "[[      nan]\n",
            " [      nan]\n",
            " [      nan]\n",
            " [      nan]\n",
            " [      nan]\n",
            " [      nan]\n",
            " [      nan]\n",
            " [      nan]\n",
            " [      nan]\n",
            " [      nan]\n",
            " [      nan]\n",
            " [      nan]\n",
            " [      nan]\n",
            " [      nan]\n",
            " [      nan]\n",
            " [      nan]\n",
            " [      nan]\n",
            " [      nan]\n",
            " [      nan]\n",
            " [      nan]\n",
            " [      nan]\n",
            " [      nan]\n",
            " [      nan]\n",
            " [      nan]\n",
            " [      nan]\n",
            " [      nan]\n",
            " [      nan]\n",
            " [      nan]\n",
            " [      nan]\n",
            " [      nan]\n",
            " [      nan]\n",
            " [      nan]\n",
            " [      nan]\n",
            " [      nan]\n",
            " [      nan]\n",
            " [      nan]\n",
            " [      nan]\n",
            " [      nan]\n",
            " [      nan]\n",
            " [      nan]\n",
            " [      nan]\n",
            " [      nan]\n",
            " [      nan]\n",
            " [      nan]\n",
            " [      nan]\n",
            " [      nan]\n",
            " [      nan]\n",
            " [      nan]\n",
            " [      nan]\n",
            " [      nan]\n",
            " [      nan]\n",
            " [      nan]\n",
            " [      nan]\n",
            " [      nan]\n",
            " [      nan]\n",
            " [      nan]\n",
            " [      nan]\n",
            " [      nan]\n",
            " [      nan]\n",
            " [      nan]\n",
            " [      nan]\n",
            " [      nan]\n",
            " [      nan]\n",
            " [      nan]\n",
            " [      nan]\n",
            " [      nan]\n",
            " [      nan]\n",
            " [      nan]\n",
            " [      nan]\n",
            " [      nan]\n",
            " [      nan]\n",
            " [      nan]\n",
            " [      nan]\n",
            " [      nan]\n",
            " [      nan]\n",
            " [      nan]\n",
            " [      nan]\n",
            " [      nan]\n",
            " [      nan]\n",
            " [      nan]\n",
            " [      nan]\n",
            " [      nan]\n",
            " [      nan]\n",
            " [      nan]\n",
            " [      nan]\n",
            " [      nan]\n",
            " [      nan]\n",
            " [      nan]\n",
            " [      nan]\n",
            " [      nan]\n",
            " [      nan]\n",
            " [      nan]\n",
            " [      nan]\n",
            " [      nan]\n",
            " [      nan]\n",
            " [      nan]\n",
            " [      nan]\n",
            " [310.4995 ]\n",
            " [297.6534 ]\n",
            " [347.1454 ]\n",
            " [340.11966]\n",
            " [346.27072]\n",
            " [402.45154]\n",
            " [435.68665]\n",
            " [437.1758 ]\n",
            " [387.86404]\n",
            " [339.23694]\n",
            " [301.33917]\n",
            " [329.46368]\n",
            " [333.0309 ]\n",
            " [313.23193]\n",
            " [352.37207]\n",
            " [340.11966]\n",
            " [353.23953]\n",
            " [412.7425 ]\n",
            " [454.6475 ]\n",
            " [464.49884]\n",
            " [387.86404]\n",
            " [349.7634 ]\n",
            " [305.9292 ]\n",
            " [330.35687]\n",
            " [350.634  ]\n",
            " [334.80887]\n",
            " [389.504  ]\n",
            " [381.25735]\n",
            " [400.85004]\n",
            " [440.87646]\n",
            " [493.1948 ]\n",
            " [500.16156]\n",
            " [434.1924 ]\n",
            " [390.32214]\n",
            " [352.37207]\n",
            " [388.68457]\n",
            " [398.43854]\n",
            " [377.0905 ]\n",
            " [400.04733]\n",
            " [432.6931 ]\n",
            " [440.87646]\n",
            " [484.7661 ]\n",
            " [537.2315 ]\n",
            " [528.2629 ]\n",
            " [466.57712]\n",
            " [432.6931 ]\n",
            " [      nan]]\n"
          ],
          "name": "stdout"
        }
      ]
    },
    {
      "cell_type": "code",
      "metadata": {
        "id": "pzmsg9MlUZrx",
        "colab": {
          "base_uri": "https://localhost:8080/",
          "height": 279
        },
        "outputId": "3cbbc66d-52cc-4ea5-c5a9-7e7a4d851b0c"
      },
      "source": [
        "# Ajustando o plot com o sinal original\n",
        "# - verde   = dataset original\n",
        "# - azul    = predicoes geradas no conjunto de treinamento\n",
        "# - laranja = predicoes geradas no conjunto de teste\n",
        "\n",
        "plt.plot(trainPredictPlot, linestyle=\"--\")\n",
        "plt.plot(testPredictPlot, linestyle=\"--\")\n",
        "plt.plot(scaler.inverse_transform(dataset))\n",
        "plt.xlabel('instances')\n",
        "plt.legend(['train', 'test', 'original'], loc='upper left')\n",
        "plt.show()"
      ],
      "execution_count": 25,
      "outputs": [
        {
          "output_type": "display_data",
          "data": {
            "image/png": "[encoded data removed]",
            "text/plain": [
              "<Figure size 432x288 with 1 Axes>"
            ]
          },
          "metadata": {
            "tags": [],
            "needs_background": "light"
          }
        }
      ]
    }
  ]
}
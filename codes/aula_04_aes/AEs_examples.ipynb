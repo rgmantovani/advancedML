{
  "nbformat": 4,
  "nbformat_minor": 0,
  "metadata": {
    "colab": {
      "name": "AEs_examples.ipynb",
      "provenance": [],
      "collapsed_sections": [],
      "authorship_tag": "ABX9TyOWciaM9C4Wt47bwTyfTPYf",
      "include_colab_link": true
    },
    "kernelspec": {
      "name": "python3",
      "display_name": "Python 3"
    },
    "language_info": {
      "name": "python"
    }
  },
  "cells": [
    {
      "cell_type": "markdown",
      "metadata": {
        "id": "view-in-github",
        "colab_type": "text"
      },
      "source": [
        "<a href=\"https://colab.research.google.com/github/rgmantovani/advancedML/blob/master/codes/aula_05_aes/AEs_examples.ipynb\" target=\"_parent\"><img src=\"https://colab.research.google.com/assets/colab-badge.svg\" alt=\"Open In Colab\"/></a>"
      ]
    },
    {
      "cell_type": "markdown",
      "metadata": {
        "id": "eDB0pXJfT_i1"
      },
      "source": [
        "#Uso de Autoencoders (AEs)\n",
        "\n",
        "Disciplina: Métodos e Modelos Avançados em Ciência de Dados\n",
        "\n",
        "Especialização em Ciência de Dados - Universidade Tecnologica Federal do Paraná\n",
        "\n",
        "Aula 05: AEs\n",
        "\n",
        "by: Rafael G. Mantovani\n",
        "\n",
        "---"
      ]
    },
    {
      "cell_type": "markdown",
      "metadata": {
        "id": "TW-6_EOLUO_X"
      },
      "source": [
        "# 1. Gerando um AE simples \n",
        "\n",
        "enconder = 1 camada densa\n",
        "\n",
        "decoder  = 1 camada densa de tamanho igual às entradas\n"
      ]
    },
    {
      "cell_type": "code",
      "metadata": {
        "id": "R9U1Mo2cvk_3"
      },
      "source": [
        "# import de todos os módulos necessários para o experimento \n",
        "\n",
        "# manipulação de números de ponto flutuante\n",
        "import numpy as np\n",
        "\n",
        "# manipulação/definição de DL e NNs\n",
        "import keras\n",
        "\n",
        "# carregando dataset MNIST (via keras)\n",
        "from keras.datasets import mnist\n",
        "\n",
        "# plots via matplotlib\n",
        "import matplotlib.pyplot as plt"
      ],
      "execution_count": null,
      "outputs": []
    },
    {
      "cell_type": "code",
      "metadata": {
        "id": "tECSHAcxvsqf"
      },
      "source": [
        "# definir um seed para reprodução dos experimentos\n",
        "np.random.seed(42)"
      ],
      "execution_count": null,
      "outputs": []
    },
    {
      "cell_type": "code",
      "metadata": {
        "id": "NtaqfD6pvvCn"
      },
      "source": [
        "# lendo os conjuntos de treinamento (x_train) e teste (x_test)\n",
        "# nesse exemplo iremos descartar os labels, pois estamos interessados apenas\n",
        "# nos processos de codificação/decodificação das imagens\n",
        "(x_train, _), (x_test, _) = mnist.load_data()"
      ],
      "execution_count": null,
      "outputs": []
    },
    {
      "cell_type": "code",
      "metadata": {
        "colab": {
          "base_uri": "https://localhost:8080/"
        },
        "id": "LlaAy9rtvw62",
        "outputId": "4a525052-2a60-4a34-ffe4-09470cfd99a3"
      },
      "source": [
        "# Vamos normalizar todos os valores (pixels) entre 0 e 1\n",
        "x_train = x_train.astype('float32') / 255.\n",
        "x_test  = x_test.astype('float32') / 255.\n",
        "\n",
        "# aqui achatamos o sinal, cada imagem 28 x 28 vira um vetor de 784 valores\n",
        "x_train = x_train.reshape((len(x_train), np.prod(x_train.shape[1:])))\n",
        "x_test  = x_test.reshape((len(x_test), np.prod(x_test.shape[1:])))\n",
        "\n",
        "# checando a dimensao dos dados\n",
        "print('* Dimensões do conj treinamento: ', x_train.shape)\n",
        "print('* Dimensões do conj teste:       ',x_test.shape)"
      ],
      "execution_count": null,
      "outputs": [
        {
          "output_type": "stream",
          "text": [
            "* Dimensões do conj treinamento:  (60000, 784)\n",
            "* Dimensões do conj teste:        (10000, 784)\n"
          ],
          "name": "stdout"
        }
      ]
    },
    {
      "cell_type": "code",
      "metadata": {
        "id": "wXiSmLOPv0um"
      },
      "source": [
        "# Definir o tamanho das nossas representações codificadas\n",
        "# (codings, ou representações latentes)\n",
        "# 32 features extraídas de 784 valores\n",
        "encoding_dim = 32\n",
        "\n",
        "# numero de epocas para os experimentos\n",
        "exp_epochs = 30"
      ],
      "execution_count": null,
      "outputs": []
    },
    {
      "cell_type": "code",
      "metadata": {
        "colab": {
          "base_uri": "https://localhost:8080/"
        },
        "id": "W4qLSjDbv4kq",
        "outputId": "60e3fa9f-d5fa-4c50-ff05-3d3b1eb664ff"
      },
      "source": [
        "# definir um encoder, que recebe como entrada o sinal já \"achatado\", \n",
        "# e possui apenas uma camada densa com 32 neurônios (codings),\n",
        "# A função de ativação de cada neurônio é do tipo ReLU\n",
        "encoder = keras.models.Sequential(name = \"encoder\",\n",
        "    layers = [keras.layers.Dense(encoding_dim, activation='relu', input_shape = [784])\n",
        "])\n",
        "\n",
        "# imprimindo o modelo criado\n",
        "encoder.summary()"
      ],
      "execution_count": null,
      "outputs": [
        {
          "output_type": "stream",
          "text": [
            "Model: \"encoder\"\n",
            "_________________________________________________________________\n",
            "Layer (type)                 Output Shape              Param #   \n",
            "=================================================================\n",
            "dense_41 (Dense)             (None, 32)                25120     \n",
            "=================================================================\n",
            "Total params: 25,120\n",
            "Trainable params: 25,120\n",
            "Non-trainable params: 0\n",
            "_________________________________________________________________\n"
          ],
          "name": "stdout"
        }
      ]
    },
    {
      "cell_type": "code",
      "metadata": {
        "colab": {
          "base_uri": "https://localhost:8080/"
        },
        "id": "EjMCQISWv6wb",
        "outputId": "a68e342e-1909-4d52-f995-975292bf2c7c"
      },
      "source": [
        "# definir um decoder, que recebe como entrada um vetor com 32 valores \n",
        "# numéricos (codings), e recria as inputs (saida = 784 valores)\n",
        "# a função de ativação dos neurônios é sigmoidal\n",
        "decoder = keras.models.Sequential(name = \"decoder\", \n",
        "    layers = [keras.layers.Dense(784, activation= 'sigmoid', input_shape = [32])\n",
        "])\n",
        "\n",
        "# imprimindo o modelo criado\n",
        "decoder.summary()"
      ],
      "execution_count": null,
      "outputs": [
        {
          "output_type": "stream",
          "text": [
            "Model: \"decoder\"\n",
            "_________________________________________________________________\n",
            "Layer (type)                 Output Shape              Param #   \n",
            "=================================================================\n",
            "dense_42 (Dense)             (None, 784)               25872     \n",
            "=================================================================\n",
            "Total params: 25,872\n",
            "Trainable params: 25,872\n",
            "Non-trainable params: 0\n",
            "_________________________________________________________________\n"
          ],
          "name": "stdout"
        }
      ]
    },
    {
      "cell_type": "code",
      "metadata": {
        "colab": {
          "base_uri": "https://localhost:8080/"
        },
        "id": "p9tVRr52v9AE",
        "outputId": "840110cb-6333-4a12-9136-3ab1b94942d2"
      },
      "source": [
        "# Agora podemos criar o autoencoder combinando enconder + decoder\n",
        "autoencoder = keras.models.Sequential(\n",
        "    name = \"autoencoder\", \n",
        "    layers = [encoder, decoder]\n",
        ")\n",
        "\n",
        "# imprimindo o modelo\n",
        "autoencoder.summary()"
      ],
      "execution_count": null,
      "outputs": [
        {
          "output_type": "stream",
          "text": [
            "Model: \"autoencoder\"\n",
            "_________________________________________________________________\n",
            "Layer (type)                 Output Shape              Param #   \n",
            "=================================================================\n",
            "encoder (Sequential)         (None, 32)                25120     \n",
            "_________________________________________________________________\n",
            "decoder (Sequential)         (None, 784)               25872     \n",
            "=================================================================\n",
            "Total params: 50,992\n",
            "Trainable params: 50,992\n",
            "Non-trainable params: 0\n",
            "_________________________________________________________________\n"
          ],
          "name": "stdout"
        }
      ]
    },
    {
      "cell_type": "code",
      "metadata": {
        "id": "arZZ4jdKv86A"
      },
      "source": [
        "# Vamos configurar as opções de treinamento do nosso modelo (autoencoder)\n",
        "# usaremos o algoritmo Adam, e como função de custo (loss function)\n",
        "# a entropia binária - medida recomendada para classificação binária\n",
        "# (é a mesma que temos descrita nos slides de aula)\n",
        "autoencoder.compile(optimizer='adam', loss='binary_crossentropy')"
      ],
      "execution_count": null,
      "outputs": []
    },
    {
      "cell_type": "code",
      "metadata": {
        "colab": {
          "base_uri": "https://localhost:8080/"
        },
        "id": "ciTRcNBpwBaE",
        "outputId": "775f8375-cde3-4efd-e128-6ca218d0140b"
      },
      "source": [
        "# Configurado o aprendizado, precisamos treinar o modelo\n",
        "# vamos armazenar todas as informações de treinamento na variável \n",
        "# 'autoencoder_history'\n",
        "autoencoder_history = autoencoder.fit(\n",
        "    # x = dados de treinamento (input data)\n",
        "    x = x_train,\n",
        "    # y = target / labels, aqui será x_train também, pois queremos reconstruir a entrada\n",
        "    y = x_train,\n",
        "    # épocas de treinamento\n",
        "    epochs = exp_epochs,\n",
        "    # número de amostras computadas para ter uma atualização do gradiente\n",
        "    batch_size = 256,\n",
        "    # embaralhar os exemplos de treinamento antes de cada época\n",
        "    shuffle = True,\n",
        "    # usamos o conjunto de teste como validação interna do treinamento\n",
        "    validation_data =(x_test, x_test)\n",
        ")"
      ],
      "execution_count": null,
      "outputs": [
        {
          "output_type": "stream",
          "text": [
            "Epoch 1/30\n",
            "235/235 [==============================] - 3s 11ms/step - loss: 0.3827 - val_loss: 0.1919\n",
            "Epoch 2/30\n",
            "235/235 [==============================] - 2s 11ms/step - loss: 0.1817 - val_loss: 0.1551\n",
            "Epoch 3/30\n",
            "235/235 [==============================] - 2s 10ms/step - loss: 0.1507 - val_loss: 0.1349\n",
            "Epoch 4/30\n",
            "235/235 [==============================] - 2s 10ms/step - loss: 0.1330 - val_loss: 0.1230\n",
            "Epoch 5/30\n",
            "235/235 [==============================] - 2s 10ms/step - loss: 0.1221 - val_loss: 0.1147\n",
            "Epoch 6/30\n",
            "235/235 [==============================] - 2s 10ms/step - loss: 0.1144 - val_loss: 0.1086\n",
            "Epoch 7/30\n",
            "235/235 [==============================] - 2s 10ms/step - loss: 0.1083 - val_loss: 0.1040\n",
            "Epoch 8/30\n",
            "235/235 [==============================] - 2s 10ms/step - loss: 0.1039 - val_loss: 0.1001\n",
            "Epoch 9/30\n",
            "235/235 [==============================] - 2s 11ms/step - loss: 0.1005 - val_loss: 0.0975\n",
            "Epoch 10/30\n",
            "235/235 [==============================] - 2s 10ms/step - loss: 0.0981 - val_loss: 0.0958\n",
            "Epoch 11/30\n",
            "235/235 [==============================] - 2s 11ms/step - loss: 0.0970 - val_loss: 0.0948\n",
            "Epoch 12/30\n",
            "235/235 [==============================] - 2s 11ms/step - loss: 0.0959 - val_loss: 0.0940\n",
            "Epoch 13/30\n",
            "235/235 [==============================] - 2s 10ms/step - loss: 0.0952 - val_loss: 0.0936\n",
            "Epoch 14/30\n",
            "235/235 [==============================] - 2s 10ms/step - loss: 0.0949 - val_loss: 0.0933\n",
            "Epoch 15/30\n",
            "235/235 [==============================] - 2s 10ms/step - loss: 0.0945 - val_loss: 0.0930\n",
            "Epoch 16/30\n",
            "235/235 [==============================] - 2s 10ms/step - loss: 0.0941 - val_loss: 0.0928\n",
            "Epoch 17/30\n",
            "235/235 [==============================] - 2s 10ms/step - loss: 0.0941 - val_loss: 0.0926\n",
            "Epoch 18/30\n",
            "235/235 [==============================] - 2s 10ms/step - loss: 0.0937 - val_loss: 0.0925\n",
            "Epoch 19/30\n",
            "235/235 [==============================] - 2s 10ms/step - loss: 0.0937 - val_loss: 0.0924\n",
            "Epoch 20/30\n",
            "235/235 [==============================] - 2s 10ms/step - loss: 0.0936 - val_loss: 0.0923\n",
            "Epoch 21/30\n",
            "235/235 [==============================] - 2s 10ms/step - loss: 0.0934 - val_loss: 0.0922\n",
            "Epoch 22/30\n",
            "235/235 [==============================] - 2s 10ms/step - loss: 0.0934 - val_loss: 0.0922\n",
            "Epoch 23/30\n",
            "235/235 [==============================] - 2s 10ms/step - loss: 0.0935 - val_loss: 0.0921\n",
            "Epoch 24/30\n",
            "235/235 [==============================] - 2s 10ms/step - loss: 0.0933 - val_loss: 0.0920\n",
            "Epoch 25/30\n",
            "235/235 [==============================] - 2s 10ms/step - loss: 0.0932 - val_loss: 0.0920\n",
            "Epoch 26/30\n",
            "235/235 [==============================] - 2s 10ms/step - loss: 0.0932 - val_loss: 0.0920\n",
            "Epoch 27/30\n",
            "235/235 [==============================] - 2s 10ms/step - loss: 0.0930 - val_loss: 0.0919\n",
            "Epoch 28/30\n",
            "235/235 [==============================] - 2s 10ms/step - loss: 0.0930 - val_loss: 0.0918\n",
            "Epoch 29/30\n",
            "235/235 [==============================] - 2s 10ms/step - loss: 0.0929 - val_loss: 0.0919\n",
            "Epoch 30/30\n",
            "235/235 [==============================] - 2s 10ms/step - loss: 0.0929 - val_loss: 0.0918\n"
          ],
          "name": "stdout"
        }
      ]
    },
    {
      "cell_type": "code",
      "metadata": {
        "id": "xzyusNgrxIL-"
      },
      "source": [
        "# realizar a codificação do conjunto de teste\n",
        "encoded_imgs = encoder.predict(x_test)\n",
        "\n",
        "# reconstruir as entradas por meio dos codings\n",
        "decoded_imgs = decoder.predict(encoded_imgs)"
      ],
      "execution_count": null,
      "outputs": []
    },
    {
      "cell_type": "code",
      "metadata": {
        "colab": {
          "base_uri": "https://localhost:8080/",
          "height": 248
        },
        "id": "Z4BJZBc2xMvN",
        "outputId": "353f0aca-54cd-4407-e953-9d28a4aea715"
      },
      "source": [
        "# Verificar as reconstruções (outputs)\n",
        "# Vamos visualizar as reconstruções com base nas imagens originais\n",
        "# linha 1 - imagens originais\n",
        "# linha 2 - imagens reconstruidas pelo AE simples\n",
        "\n",
        "n = 10  #numero de imagens que queremos ver\n",
        "\n",
        "plt.figure(figsize=(20, 4))\n",
        "for i in range(n):\n",
        "    \n",
        "    # imagens originais\n",
        "    ax = plt.subplot(2, n, i + 1)\n",
        "    plt.imshow(x_test[i].reshape(28, 28))\n",
        "    plt.gray()\n",
        "    ax.get_xaxis().set_visible(False)\n",
        "    ax.get_yaxis().set_visible(False)\n",
        "\n",
        "    # imagens reconstruidas\n",
        "    ax = plt.subplot(2, n, i + 1 + n)\n",
        "    plt.imshow(decoded_imgs[i].reshape(28, 28))\n",
        "    plt.gray()\n",
        "    ax.get_xaxis().set_visible(False)\n",
        "    ax.get_yaxis().set_visible(False)\n",
        "plt.show()"
      ],
      "execution_count": null,
      "outputs": [
        {
          "output_type": "display_data",
          "data": {
            "image/png": "[encoded data removed]",
            "text/plain": [
              "<Figure size 1440x288 with 20 Axes>"
            ]
          },
          "metadata": {
            "tags": [],
            "needs_background": "light"
          }
        }
      ]
    },
    {
      "cell_type": "markdown",
      "metadata": {
        "id": "3NAtqWvP4FVS"
      },
      "source": [
        "---\n",
        "# 2. Stacked Autoenconder (SAE)\n",
        "\n",
        "A ideia aqui é repetir o processo, mas agora usando um Stacked Autoencoder (SAE). Isto é, vamos adicionar mais camadas tanto no encoder, como no decoder.\n",
        "Neste exemplo iremos ter três camadas densas:\n",
        "* 3 camadas com 128, 64 e 32 neurônios compondo o encoder. As funções de ativação são do tipo ReLU;\n",
        "* 3 camadas com 64, 128 e 784 neurônios compondo o decoder. Todos os neurônios com funções ReLU, exceto os neurônios na última camada que possuem função de ativação do tipo sigmoidal.\n",
        "\n"
      ]
    },
    {
      "cell_type": "code",
      "metadata": {
        "colab": {
          "base_uri": "https://localhost:8080/"
        },
        "id": "6wqNOa5S4D4m",
        "outputId": "2a43092b-cef0-4526-fdc1-70db710baca4"
      },
      "source": [
        "# Definir um encoder para sae, que recebe como entrada o sinal já \"achatado\", \n",
        "# com 784 valores, de depois de processa-los por três camadas, obtem\n",
        "# uma representação latente de 32 valores (features)\n",
        "# A função de ativação de cada neurônio é do tipo ReLU\n",
        "sae_encoder = keras.models.Sequential(name = 'sae_encoder',\n",
        "    layers = [\n",
        "        keras.layers.Dense(128, activation = 'relu', input_shape = [784]),\n",
        "        keras.layers.Dense(64, activation = 'relu'),\n",
        "        keras.layers.Dense(32, activation = 'relu'),\n",
        "])\n",
        "\n",
        "# imprime o modelo\n",
        "sae_encoder.summary()"
      ],
      "execution_count": null,
      "outputs": [
        {
          "output_type": "stream",
          "text": [
            "Model: \"sae_encoder\"\n",
            "_________________________________________________________________\n",
            "Layer (type)                 Output Shape              Param #   \n",
            "=================================================================\n",
            "dense_43 (Dense)             (None, 128)               100480    \n",
            "_________________________________________________________________\n",
            "dense_44 (Dense)             (None, 64)                8256      \n",
            "_________________________________________________________________\n",
            "dense_45 (Dense)             (None, 32)                2080      \n",
            "=================================================================\n",
            "Total params: 110,816\n",
            "Trainable params: 110,816\n",
            "Non-trainable params: 0\n",
            "_________________________________________________________________\n"
          ],
          "name": "stdout"
        }
      ]
    },
    {
      "cell_type": "code",
      "metadata": {
        "colab": {
          "base_uri": "https://localhost:8080/"
        },
        "id": "FrU_ysYQ4-TC",
        "outputId": "0537b5f3-1616-4829-8154-1cdfcd98bc4b"
      },
      "source": [
        "# Definir um decoder para sae, que recebe como entrada uma representação \n",
        "# latente de 32 valores (features), e reconstroi as entradas por meio \n",
        "# de tres camadas de neurônios\n",
        "# A função de ativação de cada neurônio é do tipo ReLU nas duas primeiras camadas\n",
        "# A função de ativação dos neurônios da última camada são sigmoidais\n",
        "\n",
        "sae_decoder = keras.models.Sequential(name = 'sae_decoder',\n",
        "    layers = [\n",
        "        keras.layers.Dense(64,  activation = 'relu', input_shape = [32]),\n",
        "        keras.layers.Dense(128, activation = 'relu'),\n",
        "        keras.layers.Dense(784, activation = 'sigmoid')\n",
        "])\n",
        "\n",
        "# imprime o modelo\n",
        "sae_decoder.summary()"
      ],
      "execution_count": null,
      "outputs": [
        {
          "output_type": "stream",
          "text": [
            "Model: \"sae_decoder\"\n",
            "_________________________________________________________________\n",
            "Layer (type)                 Output Shape              Param #   \n",
            "=================================================================\n",
            "dense_55 (Dense)             (None, 64)                2112      \n",
            "_________________________________________________________________\n",
            "dense_56 (Dense)             (None, 128)               8320      \n",
            "_________________________________________________________________\n",
            "dense_57 (Dense)             (None, 784)               101136    \n",
            "=================================================================\n",
            "Total params: 111,568\n",
            "Trainable params: 111,568\n",
            "Non-trainable params: 0\n",
            "_________________________________________________________________\n"
          ],
          "name": "stdout"
        }
      ]
    },
    {
      "cell_type": "code",
      "metadata": {
        "colab": {
          "base_uri": "https://localhost:8080/"
        },
        "id": "eUpJTCUM5jPh",
        "outputId": "53d72077-e00f-466b-a077-d073ceb07167"
      },
      "source": [
        "# Agora podemos criar o SAE combinando sae_enconder + sae_decoder\n",
        "sae = keras.models.Sequential(\n",
        "    name = 'sae',\n",
        "    layers = [sae_encoder, sae_decoder]\n",
        ")\n",
        "\n",
        "# imprime o modelo\n",
        "sae.summary()"
      ],
      "execution_count": null,
      "outputs": [
        {
          "output_type": "stream",
          "text": [
            "Model: \"sae\"\n",
            "_________________________________________________________________\n",
            "Layer (type)                 Output Shape              Param #   \n",
            "=================================================================\n",
            "sae_encoder (Sequential)     (None, 32)                110816    \n",
            "_________________________________________________________________\n",
            "sae_decoder (Sequential)     (None, 784)               111568    \n",
            "=================================================================\n",
            "Total params: 222,384\n",
            "Trainable params: 222,384\n",
            "Non-trainable params: 0\n",
            "_________________________________________________________________\n"
          ],
          "name": "stdout"
        }
      ]
    },
    {
      "cell_type": "code",
      "metadata": {
        "id": "ZXNXGueH6XwF"
      },
      "source": [
        "# como anteriormente, definindo as opções para treinamento do SAE\n",
        "sae.compile(optimizer=\"adam\", loss='binary_crossentropy')"
      ],
      "execution_count": null,
      "outputs": []
    },
    {
      "cell_type": "code",
      "metadata": {
        "colab": {
          "base_uri": "https://localhost:8080/"
        },
        "id": "-hCYptPP6dne",
        "outputId": "620e95e1-54b6-46f6-b059-ffc293c1d264"
      },
      "source": [
        "# Treinando o modelo e armazenando todas as informações de \n",
        "# treinamento na variável 'sae_history'\n",
        "\n",
        "sae_history = sae.fit(\n",
        "    x = x_train, \n",
        "    y = x_train,\n",
        "    epochs = exp_epochs,\n",
        "    batch_size = 256,\n",
        "    shuffle = True,\n",
        "    validation_data = (x_test, x_test)\n",
        ")"
      ],
      "execution_count": null,
      "outputs": [
        {
          "output_type": "stream",
          "text": [
            "Epoch 1/30\n",
            "235/235 [==============================] - 5s 16ms/step - loss: 0.3445 - val_loss: 0.1697\n",
            "Epoch 2/30\n",
            "235/235 [==============================] - 4s 16ms/step - loss: 0.1603 - val_loss: 0.1381\n",
            "Epoch 3/30\n",
            "235/235 [==============================] - 4s 16ms/step - loss: 0.1361 - val_loss: 0.1267\n",
            "Epoch 4/30\n",
            "235/235 [==============================] - 4s 16ms/step - loss: 0.1258 - val_loss: 0.1191\n",
            "Epoch 5/30\n",
            "235/235 [==============================] - 4s 16ms/step - loss: 0.1178 - val_loss: 0.1124\n",
            "Epoch 6/30\n",
            "235/235 [==============================] - 4s 16ms/step - loss: 0.1128 - val_loss: 0.1086\n",
            "Epoch 7/30\n",
            "235/235 [==============================] - 4s 16ms/step - loss: 0.1089 - val_loss: 0.1055\n",
            "Epoch 8/30\n",
            "235/235 [==============================] - 4s 16ms/step - loss: 0.1054 - val_loss: 0.1032\n",
            "Epoch 9/30\n",
            "235/235 [==============================] - 4s 16ms/step - loss: 0.1037 - val_loss: 0.1012\n",
            "Epoch 10/30\n",
            "235/235 [==============================] - 4s 16ms/step - loss: 0.1018 - val_loss: 0.0998\n",
            "Epoch 11/30\n",
            "235/235 [==============================] - 4s 16ms/step - loss: 0.1000 - val_loss: 0.0980\n",
            "Epoch 12/30\n",
            "235/235 [==============================] - 4s 16ms/step - loss: 0.0985 - val_loss: 0.0965\n",
            "Epoch 13/30\n",
            "235/235 [==============================] - 4s 16ms/step - loss: 0.0972 - val_loss: 0.0953\n",
            "Epoch 14/30\n",
            "235/235 [==============================] - 4s 16ms/step - loss: 0.0959 - val_loss: 0.0947\n",
            "Epoch 15/30\n",
            "235/235 [==============================] - 4s 16ms/step - loss: 0.0951 - val_loss: 0.0942\n",
            "Epoch 16/30\n",
            "235/235 [==============================] - 4s 16ms/step - loss: 0.0939 - val_loss: 0.0928\n",
            "Epoch 17/30\n",
            "235/235 [==============================] - 4s 16ms/step - loss: 0.0933 - val_loss: 0.0923\n",
            "Epoch 18/30\n",
            "235/235 [==============================] - 4s 16ms/step - loss: 0.0926 - val_loss: 0.0916\n",
            "Epoch 19/30\n",
            "235/235 [==============================] - 4s 16ms/step - loss: 0.0919 - val_loss: 0.0908\n",
            "Epoch 20/30\n",
            "235/235 [==============================] - 4s 16ms/step - loss: 0.0913 - val_loss: 0.0903\n",
            "Epoch 21/30\n",
            "235/235 [==============================] - 4s 16ms/step - loss: 0.0908 - val_loss: 0.0897\n",
            "Epoch 22/30\n",
            "235/235 [==============================] - 4s 16ms/step - loss: 0.0904 - val_loss: 0.0893\n",
            "Epoch 23/30\n",
            "235/235 [==============================] - 4s 16ms/step - loss: 0.0898 - val_loss: 0.0888\n",
            "Epoch 24/30\n",
            "235/235 [==============================] - 4s 16ms/step - loss: 0.0895 - val_loss: 0.0886\n",
            "Epoch 25/30\n",
            "235/235 [==============================] - 4s 16ms/step - loss: 0.0889 - val_loss: 0.0883\n",
            "Epoch 26/30\n",
            "235/235 [==============================] - 4s 16ms/step - loss: 0.0885 - val_loss: 0.0878\n",
            "Epoch 27/30\n",
            "235/235 [==============================] - 4s 16ms/step - loss: 0.0880 - val_loss: 0.0885\n",
            "Epoch 28/30\n",
            "235/235 [==============================] - 4s 16ms/step - loss: 0.0879 - val_loss: 0.0872\n",
            "Epoch 29/30\n",
            "235/235 [==============================] - 4s 16ms/step - loss: 0.0877 - val_loss: 0.0871\n",
            "Epoch 30/30\n",
            "235/235 [==============================] - 4s 16ms/step - loss: 0.0873 - val_loss: 0.0865\n"
          ],
          "name": "stdout"
        }
      ]
    },
    {
      "cell_type": "code",
      "metadata": {
        "id": "ZrHCoq0S8lHF"
      },
      "source": [
        "# Calculando as representacoes latentes para conjunto de testes (codings)\n",
        "sae_encoded_imgs = sae_encoder.predict(x_test)\n",
        "# reconstuindo as imagens usando os codings\n",
        "sae_decoded_imgs = sae_decoder.predict(sae_encoded_imgs)"
      ],
      "execution_count": null,
      "outputs": []
    },
    {
      "cell_type": "code",
      "metadata": {
        "colab": {
          "base_uri": "https://localhost:8080/",
          "height": 248
        },
        "id": "01CRBn-R8tgb",
        "outputId": "f2a49664-9816-4e65-cb28-23a0b8ec38ec"
      },
      "source": [
        "# Verificar as reconstruções (outputs)\n",
        "# Vamos visualizar as reconstruções com base nas imagens originais\n",
        "# linha 1 - imagens originais\n",
        "# linha 2 - imagens reconstruidas pelo SAE\n",
        "\n",
        "n = 10  #numero de imagens que queremos ver\n",
        "plt.figure(figsize=(20, 4))\n",
        "for i in range(n):\n",
        "    # mostrar imagens originais\n",
        "    ax = plt.subplot(2, n, i + 1)\n",
        "    plt.imshow(x_test[i].reshape(28, 28))\n",
        "    plt.gray()\n",
        "    ax.get_xaxis().set_visible(False)\n",
        "    ax.get_yaxis().set_visible(False)\n",
        "\n",
        "    # mostrar imagens reconstruidas\n",
        "    ax = plt.subplot(2, n, i + 1 + n)\n",
        "    plt.imshow(sae_decoded_imgs[i].reshape(28, 28))\n",
        "    plt.gray()\n",
        "    ax.get_xaxis().set_visible(False)\n",
        "    ax.get_yaxis().set_visible(False)\n",
        "plt.show()"
      ],
      "execution_count": null,
      "outputs": [
        {
          "output_type": "display_data",
          "data": {
            "image/png": "[encoded data removed]",
            "text/plain": [
              "<Figure size 1440x288 with 20 Axes>"
            ]
          },
          "metadata": {
            "tags": [],
            "needs_background": "light"
          }
        }
      ]
    },
    {
      "cell_type": "markdown",
      "metadata": {
        "id": "yHpxbz1d8zcb"
      },
      "source": [
        "---\n",
        "# 3. Denoising Autoenconder (DAE)\n",
        "\n",
        "Aqui iremos estender o SAE adicionando uma camada de dropout no encoder.\n",
        "A ideia deste processo é inserir ruídos nos dados de entrada e forçar o DAE\n",
        "a aprender as representações mesmo com informações ausentes. No mais, os códigos são similares ao uso do SAE.\n"
      ]
    },
    {
      "cell_type": "code",
      "metadata": {
        "colab": {
          "base_uri": "https://localhost:8080/"
        },
        "id": "AnJRH1r481qJ",
        "outputId": "e3dede10-23b4-4256-c055-3688aa6fa30f"
      },
      "source": [
        "# Definir um encoder para DAE, que recebe como entrada o sinal já \"achatado\", \n",
        "# com 784 valores\n",
        "# 1. adiciona ruidos via Dropout com probabilidade de 50% para cada conexão\n",
        "# 2. Processa o sinal alterado por três camadas, gerando 32 features\n",
        "# A função de ativação de cada neurônio é do tipo ReLU\n",
        "\n",
        "dae_encoder = keras.models.Sequential(\n",
        "    name = 'dae_encoder',\n",
        "    layers= [\n",
        "        keras.layers.Dropout(rate = 0.5, input_shape = [784]),\n",
        "        keras.layers.Dense(128, activation = 'relu', input_shape = [784]),\n",
        "        keras.layers.Dense(64,  activation = 'relu'),\n",
        "        keras.layers.Dense(32,  activation = 'relu')\n",
        "])\n",
        "\n",
        "# imprimindo o modelo\n",
        "dae_encoder.summary()"
      ],
      "execution_count": null,
      "outputs": [
        {
          "output_type": "stream",
          "text": [
            "Model: \"dae_encoder\"\n",
            "_________________________________________________________________\n",
            "Layer (type)                 Output Shape              Param #   \n",
            "=================================================================\n",
            "dropout_5 (Dropout)          (None, 784)               0         \n",
            "_________________________________________________________________\n",
            "dense_58 (Dense)             (None, 128)               100480    \n",
            "_________________________________________________________________\n",
            "dense_59 (Dense)             (None, 64)                8256      \n",
            "_________________________________________________________________\n",
            "dense_60 (Dense)             (None, 32)                2080      \n",
            "=================================================================\n",
            "Total params: 110,816\n",
            "Trainable params: 110,816\n",
            "Non-trainable params: 0\n",
            "_________________________________________________________________\n"
          ],
          "name": "stdout"
        }
      ]
    },
    {
      "cell_type": "code",
      "metadata": {
        "colab": {
          "base_uri": "https://localhost:8080/"
        },
        "id": "XA9YLEZF-B0s",
        "outputId": "8032d0cf-08c0-424d-caee-cbb9edca3344"
      },
      "source": [
        "# Definindo decoder para DAE, tem a mesma estrutura do decoder do SAE\n",
        "dae_decoder = keras.models.Sequential(name = 'dae_decoder',\n",
        "    layers = [\n",
        "        keras.layers.Dense(64,  activation = 'relu', input_shape = [32]),\n",
        "        keras.layers.Dense(128, activation = 'relu'),\n",
        "        keras.layers.Dense(784, activation = 'sigmoid')\n",
        "])\n",
        "\n",
        "# imprimindo modelo\n",
        "dae_decoder.summary()"
      ],
      "execution_count": null,
      "outputs": [
        {
          "output_type": "stream",
          "text": [
            "Model: \"dae_decoder\"\n",
            "_________________________________________________________________\n",
            "Layer (type)                 Output Shape              Param #   \n",
            "=================================================================\n",
            "dense_52 (Dense)             (None, 64)                2112      \n",
            "_________________________________________________________________\n",
            "dense_53 (Dense)             (None, 128)               8320      \n",
            "_________________________________________________________________\n",
            "dense_54 (Dense)             (None, 784)               101136    \n",
            "=================================================================\n",
            "Total params: 111,568\n",
            "Trainable params: 111,568\n",
            "Non-trainable params: 0\n",
            "_________________________________________________________________\n"
          ],
          "name": "stdout"
        }
      ]
    },
    {
      "cell_type": "code",
      "metadata": {
        "colab": {
          "base_uri": "https://localhost:8080/"
        },
        "id": "5N2azuos-MJG",
        "outputId": "a1779bcc-8af8-4522-c4a2-a2afb2ade4bd"
      },
      "source": [
        "# Criando DAE pela junção dao dae_encoder + dae_decoder\n",
        "dae = keras.models.Sequential(\n",
        "    name = 'dae',\n",
        "    layers = [dae_encoder, dae_decoder]\n",
        ")\n",
        "\n",
        "# imprimindo modelo\n",
        "dae.summary()"
      ],
      "execution_count": null,
      "outputs": [
        {
          "output_type": "stream",
          "text": [
            "Model: \"dae\"\n",
            "_________________________________________________________________\n",
            "Layer (type)                 Output Shape              Param #   \n",
            "=================================================================\n",
            "dae_encoder (Sequential)     (None, 32)                110816    \n",
            "_________________________________________________________________\n",
            "dae_decoder (Sequential)     (None, 784)               111568    \n",
            "=================================================================\n",
            "Total params: 222,384\n",
            "Trainable params: 222,384\n",
            "Non-trainable params: 0\n",
            "_________________________________________________________________\n"
          ],
          "name": "stdout"
        }
      ]
    },
    {
      "cell_type": "code",
      "metadata": {
        "id": "-EWSFnYh-3BY"
      },
      "source": [
        "# definindo as opcoes para treinamento do DAE\n",
        "dae.compile(optimizer=\"adam\", loss='binary_crossentropy')"
      ],
      "execution_count": null,
      "outputs": []
    },
    {
      "cell_type": "code",
      "metadata": {
        "colab": {
          "base_uri": "https://localhost:8080/"
        },
        "id": "WA-BYNva-7d1",
        "outputId": "0f671cd6-a13a-453e-a7f2-ed9a9d9abeb0"
      },
      "source": [
        "# Treinando o modelo e armazenando todas as informações de \n",
        "# treinamento na variável 'dae_history'\n",
        "\n",
        "dae_history = dae.fit(\n",
        "    x = x_train, \n",
        "    y = x_train,\n",
        "    epochs = exp_epochs,\n",
        "    batch_size = 256,\n",
        "    shuffle = True,\n",
        "    validation_data = (x_test, x_test)\n",
        ")"
      ],
      "execution_count": null,
      "outputs": [
        {
          "output_type": "stream",
          "text": [
            "Epoch 1/30\n",
            "235/235 [==============================] - 5s 19ms/step - loss: 0.3407 - val_loss: 0.1696\n",
            "Epoch 2/30\n",
            "235/235 [==============================] - 4s 18ms/step - loss: 0.1677 - val_loss: 0.1414\n",
            "Epoch 3/30\n",
            "235/235 [==============================] - 4s 18ms/step - loss: 0.1480 - val_loss: 0.1291\n",
            "Epoch 4/30\n",
            "235/235 [==============================] - 4s 18ms/step - loss: 0.1387 - val_loss: 0.1223\n",
            "Epoch 5/30\n",
            "235/235 [==============================] - 4s 18ms/step - loss: 0.1329 - val_loss: 0.1179\n",
            "Epoch 6/30\n",
            "235/235 [==============================] - 4s 18ms/step - loss: 0.1287 - val_loss: 0.1149\n",
            "Epoch 7/30\n",
            "235/235 [==============================] - 4s 18ms/step - loss: 0.1256 - val_loss: 0.1122\n",
            "Epoch 8/30\n",
            "235/235 [==============================] - 4s 18ms/step - loss: 0.1229 - val_loss: 0.1098\n",
            "Epoch 9/30\n",
            "235/235 [==============================] - 4s 18ms/step - loss: 0.1207 - val_loss: 0.1084\n",
            "Epoch 10/30\n",
            "235/235 [==============================] - 4s 18ms/step - loss: 0.1190 - val_loss: 0.1069\n",
            "Epoch 11/30\n",
            "235/235 [==============================] - 4s 18ms/step - loss: 0.1178 - val_loss: 0.1050\n",
            "Epoch 12/30\n",
            "235/235 [==============================] - 4s 18ms/step - loss: 0.1160 - val_loss: 0.1039\n",
            "Epoch 13/30\n",
            "235/235 [==============================] - 4s 18ms/step - loss: 0.1151 - val_loss: 0.1036\n",
            "Epoch 14/30\n",
            "235/235 [==============================] - 4s 18ms/step - loss: 0.1139 - val_loss: 0.1025\n",
            "Epoch 15/30\n",
            "235/235 [==============================] - 4s 18ms/step - loss: 0.1131 - val_loss: 0.1013\n",
            "Epoch 16/30\n",
            "235/235 [==============================] - 4s 18ms/step - loss: 0.1123 - val_loss: 0.1004\n",
            "Epoch 17/30\n",
            "235/235 [==============================] - 4s 18ms/step - loss: 0.1117 - val_loss: 0.1000\n",
            "Epoch 18/30\n",
            "235/235 [==============================] - 4s 18ms/step - loss: 0.1109 - val_loss: 0.0992\n",
            "Epoch 19/30\n",
            "235/235 [==============================] - 4s 18ms/step - loss: 0.1102 - val_loss: 0.0987\n",
            "Epoch 20/30\n",
            "235/235 [==============================] - 4s 18ms/step - loss: 0.1096 - val_loss: 0.0985\n",
            "Epoch 21/30\n",
            "235/235 [==============================] - 4s 18ms/step - loss: 0.1089 - val_loss: 0.0985\n",
            "Epoch 22/30\n",
            "235/235 [==============================] - 4s 18ms/step - loss: 0.1088 - val_loss: 0.0973\n",
            "Epoch 23/30\n",
            "235/235 [==============================] - 4s 18ms/step - loss: 0.1082 - val_loss: 0.0976\n",
            "Epoch 24/30\n",
            "235/235 [==============================] - 4s 18ms/step - loss: 0.1077 - val_loss: 0.0965\n",
            "Epoch 25/30\n",
            "235/235 [==============================] - 4s 18ms/step - loss: 0.1074 - val_loss: 0.0972\n",
            "Epoch 26/30\n",
            "235/235 [==============================] - 4s 18ms/step - loss: 0.1070 - val_loss: 0.0961\n",
            "Epoch 27/30\n",
            "235/235 [==============================] - 4s 18ms/step - loss: 0.1067 - val_loss: 0.0954\n",
            "Epoch 28/30\n",
            "235/235 [==============================] - 4s 18ms/step - loss: 0.1064 - val_loss: 0.0948\n",
            "Epoch 29/30\n",
            "235/235 [==============================] - 4s 18ms/step - loss: 0.1057 - val_loss: 0.0947\n",
            "Epoch 30/30\n",
            "235/235 [==============================] - 4s 18ms/step - loss: 0.1056 - val_loss: 0.0945\n"
          ],
          "name": "stdout"
        }
      ]
    },
    {
      "cell_type": "code",
      "metadata": {
        "id": "GUwH6vp7_7Iy"
      },
      "source": [
        "# Calculando as representacoes latentes para conjunto de testes (codings)\n",
        "dae_encoded_imgs = dae_encoder.predict(x_test)\n",
        "# reconstuindo as imagens usando os codings\n",
        "dae_decoded_imgs = dae_decoder.predict(dae_encoded_imgs)"
      ],
      "execution_count": null,
      "outputs": []
    },
    {
      "cell_type": "code",
      "metadata": {
        "colab": {
          "base_uri": "https://localhost:8080/",
          "height": 248
        },
        "id": "pmlTh8rzABiG",
        "outputId": "cfcc032f-660a-4bb6-e04b-7fcf331a713f"
      },
      "source": [
        "# Verificar as reconstruções (outputs)\n",
        "# Vamos visualizar as reconstruções com base nas imagens originais\n",
        "# linha 1 - imagens originais\n",
        "# linha 2 - imagens reconstruidas pelo DAE\n",
        "\n",
        "n = 10  # Qtde de imagens para visualizar\n",
        "plt.figure(figsize=(20, 4))\n",
        "for i in range(n):\n",
        "    # Mostrar imagens originais\n",
        "    ax = plt.subplot(2, n, i + 1)\n",
        "    plt.imshow(x_test[i].reshape(28, 28))\n",
        "    plt.gray()\n",
        "    ax.get_xaxis().set_visible(False)\n",
        "    ax.get_yaxis().set_visible(False)\n",
        "\n",
        "    # Mostrar imagens reconstruidas\n",
        "    ax = plt.subplot(2, n, i + 1 + n)\n",
        "    plt.imshow(dae_decoded_imgs[i].reshape(28, 28))\n",
        "    plt.gray()\n",
        "    ax.get_xaxis().set_visible(False)\n",
        "    ax.get_yaxis().set_visible(False)\n",
        "plt.show()"
      ],
      "execution_count": null,
      "outputs": [
        {
          "output_type": "display_data",
          "data": {
            "image/png": "[encoded data removed]",
            "text/plain": [
              "<Figure size 1440x288 with 20 Axes>"
            ]
          },
          "metadata": {
            "tags": [],
            "needs_background": "light"
          }
        }
      ]
    },
    {
      "cell_type": "markdown",
      "metadata": {
        "id": "kLj_LDsFAUMG"
      },
      "source": [
        "---\n",
        "# 4. Comparando os diferentes modelos\n",
        "\n",
        "Primeiro vamos dar uma olhada na curva de convergência com base no erro de treinamento dos três modelos: AE, SAE e DAE; isso ao longo da quantidade de épocas que usamos no experimento (30)."
      ]
    },
    {
      "cell_type": "code",
      "metadata": {
        "colab": {
          "base_uri": "https://localhost:8080/",
          "height": 279
        },
        "id": "D9xm5e-jATwt",
        "outputId": "f944637f-f02b-49c3-d741-917fec211443"
      },
      "source": [
        "# Comparação do erro de treinamento dos três diferentes modelos\n",
        "# Azul - AE simples\n",
        "# Laranja - SAE\n",
        "# Verde  - DAE\n",
        "\n",
        "plt.plot(autoencoder_history.history['loss'])\n",
        "plt.plot(sae_history.history['loss'])\n",
        "plt.plot(dae_history.history['loss'])\n",
        "plt.xlabel('epoch')\n",
        "plt.legend(['AE', 'SAE', 'DAE'], loc='upper right')\n",
        "plt.show()"
      ],
      "execution_count": null,
      "outputs": [
        {
          "output_type": "display_data",
          "data": {
            "image/png": "[encoded data removed]",
            "text/plain": [
              "<Figure size 432x288 with 1 Axes>"
            ]
          },
          "metadata": {
            "tags": [],
            "needs_background": "light"
          }
        }
      ]
    },
    {
      "cell_type": "markdown",
      "metadata": {
        "id": "p_2O7DnWZ7LG"
      },
      "source": [
        "Vamos repetir agora o processo, mas olhando os erros de validação, que são os valores que realmente interessam para determinar a convergência ou não do algoritmo de treinamento dos AEs."
      ]
    },
    {
      "cell_type": "code",
      "metadata": {
        "colab": {
          "base_uri": "https://localhost:8080/",
          "height": 279
        },
        "id": "nIlIWIUmBM8z",
        "outputId": "9face87d-2a47-4c1c-fa25-3a83a7a0e126"
      },
      "source": [
        "# Comparação do erro de validação dos três diferentes modelos\n",
        "# Azul - AE simples\n",
        "# Laranja - SAE\n",
        "# Verde  - DAE\n",
        "\n",
        "plt.plot(autoencoder_history.history['val_loss'])\n",
        "plt.plot(sae_history.history['val_loss'])\n",
        "plt.plot(dae_history.history['val_loss'])\n",
        "plt.xlabel('epoch')\n",
        "plt.legend(['AE', 'SAE', 'DAE'], loc='upper right')\n",
        "plt.show()"
      ],
      "execution_count": null,
      "outputs": [
        {
          "output_type": "display_data",
          "data": {
            "image/png": "[encoded data removed]",
            "text/plain": [
              "<Figure size 432x288 with 1 Axes>"
            ]
          },
          "metadata": {
            "tags": [],
            "needs_background": "light"
          }
        }
      ]
    },
    {
      "cell_type": "markdown",
      "metadata": {
        "id": "drj7wRFLaGJP"
      },
      "source": [
        "Por fim, vamos visualizar as reconstruções dos diferentes AEs para uma mesma quantidade de imagens. Temos quatro linhas com imagens:\n",
        " \n",
        " 1. primeira linha mostra as imagens originais\n",
        " 2. segunda linha mostra as reconstruções obtidas pelo AE simples\n",
        " 3. terceita linha mostra as reconstruções obtidas pelo SAE\n",
        " 4. última linha mostra as reconstruções obtidas pelo DAE\n",
        "  "
      ]
    },
    {
      "cell_type": "code",
      "metadata": {
        "colab": {
          "base_uri": "https://localhost:8080/",
          "height": 252
        },
        "id": "89E52BVqBOUi",
        "outputId": "b27cadab-dea4-4466-b881-c32797e6b7f7"
      },
      "source": [
        "# Comparando as saídas dos modelos de treinamos\n",
        "# linha 1 - imagens originais\n",
        "# linha 2 - reconstruções do AE simples\n",
        "# linha 3 - reconstruções do SAE\n",
        "# linha 4 - reconstruções do DAE\n",
        "\n",
        "n = 10 # Qtde de imagens que queremos ver\n",
        "plt.figure(figsize=(20, 4))\n",
        "for i in range(n):\n",
        "    \n",
        "    # Mostrando as imagens originais\n",
        "    ax = plt.subplot(4, n, i + 1)\n",
        "    plt.imshow(x_test[i].reshape(28, 28))\n",
        "    plt.gray()\n",
        "    ax.get_xaxis().set_visible(False)\n",
        "    ax.get_yaxis().set_visible(False)\n",
        "\n",
        "    # Mostrando as reconstruções do AE (AutoEncoder simples)\n",
        "    ax = plt.subplot(4, n, i + 1 + n)\n",
        "    plt.imshow(decoded_imgs[i].reshape(28, 28))\n",
        "    plt.gray()\n",
        "    ax.get_xaxis().set_visible(False)\n",
        "    ax.get_yaxis().set_visible(False)\n",
        "\n",
        "    # Mostrando as reconstruções do SAE (Stacked AutoEncoder)\n",
        "    ax = plt.subplot(4, n, i + 1 + (2*n))\n",
        "    plt.imshow(sae_decoded_imgs[i].reshape(28, 28))\n",
        "    plt.gray()\n",
        "    ax.get_xaxis().set_visible(False)\n",
        "    ax.get_yaxis().set_visible(False)\n",
        "\n",
        "    # Mostrando as reconstruções do DAE (Denoising AutoEncoder)\n",
        "    ax = plt.subplot(4, n, i + 1 + (3*n))\n",
        "    plt.imshow(dae_decoded_imgs[i].reshape(28, 28))\n",
        "    plt.gray()\n",
        "    ax.get_xaxis().set_visible(False)\n",
        "    ax.get_yaxis().set_visible(False)\n",
        "\n",
        "plt.show()"
      ],
      "execution_count": null,
      "outputs": [
        {
          "output_type": "display_data",
          "data": {
            "image/png": "[encoded data removed]",
            "text/plain": [
              "<Figure size 1440x288 with 40 Axes>"
            ]
          },
          "metadata": {
            "tags": [],
            "needs_background": "light"
          }
        }
      ]
    },
    {
      "cell_type": "markdown",
      "metadata": {
        "id": "EJkpLo01ajJG"
      },
      "source": [
        "O que acharam dos resultados? Qual teve melhor desempenho? Qual método conseguiu reconstruir os padrões de maneira satisfatória? Fica a reflexão como exercício de estudo.\n",
        "\n",
        "Bons estudos :)"
      ]
    }
  ]
}